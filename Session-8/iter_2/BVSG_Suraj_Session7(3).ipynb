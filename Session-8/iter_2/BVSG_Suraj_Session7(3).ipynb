{
  "nbformat": 4,
  "nbformat_minor": 0,
  "metadata": {
    "colab": {
      "name": "BVSG_Suraj_Session7.ipynb",
      "version": "0.3.2",
      "views": {},
      "default_view": {},
      "provenance": [],
      "collapsed_sections": [
        "SQ5re8hqv84g",
        "B1nvmPpaqRYe",
        "rc5sikS1Szo-",
        "UIuj5ry5TkOP",
        "-vuNUl_8ho_z",
        "D3cILoE0ha80",
        "v0TGhaGXyFls"
      ]
    },
    "kernelspec": {
      "name": "python3",
      "display_name": "Python 3"
    },
    "accelerator": "GPU"
  },
  "cells": [
    {
      "metadata": {
        "id": "SQ5re8hqv84g",
        "colab_type": "text"
      },
      "cell_type": "markdown",
      "source": [
        "# About me:\n",
        "\n"
      ]
    },
    {
      "metadata": {
        "id": "UFIVxLAb0ERn",
        "colab_type": "text"
      },
      "cell_type": "markdown",
      "source": [
        "## Profile\n",
        "**Name** : BVSG Suraj\n",
        "\n",
        "**Batch** : 7\n",
        "\n",
        "**Project** : Implement [Facial Expression Recognition](https://github.com/zlpure/Facial-Expression-Recognition) using winograd convolutions and write a tutorial on the same."
      ]
    },
    {
      "metadata": {
        "id": "A8zSyPZW8juW",
        "colab_type": "text"
      },
      "cell_type": "markdown",
      "source": [
        "## Current Status\n",
        "\n",
        "Implementing seperable convolutions."
      ]
    },
    {
      "metadata": {
        "id": "aqc85Rw2xjrR",
        "colab_type": "text"
      },
      "cell_type": "markdown",
      "source": [
        "## Logs\n",
        "* 21/6 : used kernel_size=5 with data augmentation and class weights. Amazing improvement in performance. (IN PROGRESS)\n",
        "* 20/6 : Found few valuable observations during the hyperparameter tuning. (DONE)\n",
        "* 19/6 : The validation accuracy did not improve much over epochs while using 'class_weights'. \n",
        "* 18/6 : Ditching Winograd Implementation. Going with Seperable Conv. (DONE)\n",
        "* 16/6 : Implementing winograd convolutions for 2D data (ABORTTED)\n",
        "* 14/6 : Performing EDA and some data pre-processing. (DONE)\n",
        "* 13/6 : Setting up Jupyter Notebook. (DONE)\n",
        "* 12/6 : Understanding Winograg Convolution. (DONE)\n",
        "* 10/6 : Starting literature survey. (DONE)"
      ]
    },
    {
      "metadata": {
        "id": "B1nvmPpaqRYe",
        "colab_type": "text"
      },
      "cell_type": "markdown",
      "source": [
        "# Preliminary Setup\n"
      ]
    },
    {
      "metadata": {
        "id": "1rKNhHXOqxtr",
        "colab_type": "code",
        "colab": {
          "autoexec": {
            "startup": false,
            "wait_interval": 0
          }
        }
      },
      "cell_type": "code",
      "source": [
        "#Installing required libraries\n",
        "!pip install -q keras\n",
        "#!pip install -q --upgrade git+git://github.com/fchollet/keras.git\n",
        "!pip install -q pathlib"
      ],
      "execution_count": 0,
      "outputs": []
    },
    {
      "metadata": {
        "id": "lJT2mLzKNqno",
        "colab_type": "code",
        "colab": {
          "autoexec": {
            "startup": false,
            "wait_interval": 0
          },
          "base_uri": "https://localhost:8080/",
          "height": 2500
        },
        "outputId": "f4cb3abc-9b2b-4c10-dbb5-cf6e5cb0c01a",
        "executionInfo": {
          "status": "ok",
          "timestamp": 1529538506248,
          "user_tz": -330,
          "elapsed": 38400,
          "user": {
            "displayName": "suraj b",
            "photoUrl": "https://lh3.googleusercontent.com/a/default-user=s128",
            "userId": "102683608279765749841"
          }
        }
      },
      "cell_type": "code",
      "source": [
        "#Linking drive to colab to store datasets\n",
        "!apt-get install -y -qq software-properties-common python-software-properties module-init-tools\n",
        "!add-apt-repository -y ppa:alessandro-strada/ppa 2>&1 > /dev/null\n",
        "!apt-get update -qq 2>&1 > /dev/null\n",
        "!apt-get -y install -qq google-drive-ocamlfuse fuse"
      ],
      "execution_count": 2,
      "outputs": [
        {
          "output_type": "stream",
          "text": [
            "Preconfiguring packages ...\n",
            "Selecting previously unselected package cron.\n",
            "(Reading database ... 18298 files and directories currently installed.)\n",
            "Preparing to unpack .../00-cron_3.0pl1-128ubuntu5_amd64.deb ...\n",
            "Unpacking cron (3.0pl1-128ubuntu5) ...\n",
            "Selecting previously unselected package libapparmor1:amd64.\n",
            "Preparing to unpack .../01-libapparmor1_2.11.0-2ubuntu17.1_amd64.deb ...\n",
            "Unpacking libapparmor1:amd64 (2.11.0-2ubuntu17.1) ...\n",
            "Selecting previously unselected package libdbus-1-3:amd64.\n",
            "Preparing to unpack .../02-libdbus-1-3_1.10.22-1ubuntu1_amd64.deb ...\n",
            "Unpacking libdbus-1-3:amd64 (1.10.22-1ubuntu1) ...\n",
            "Selecting previously unselected package dbus.\n",
            "Preparing to unpack .../03-dbus_1.10.22-1ubuntu1_amd64.deb ...\n",
            "Unpacking dbus (1.10.22-1ubuntu1) ...\n",
            "Preparing to unpack .../04-gnupg_2.1.15-1ubuntu8.1_amd64.deb ...\n",
            "Unpacking gnupg (2.1.15-1ubuntu8.1) over (2.1.15-1ubuntu8) ...\n",
            "Preparing to unpack .../05-gnupg-agent_2.1.15-1ubuntu8.1_amd64.deb ...\n",
            "Unpacking gnupg-agent (2.1.15-1ubuntu8.1) over (2.1.15-1ubuntu8) ...\n",
            "Selecting previously unselected package dirmngr.\n",
            "Preparing to unpack .../06-dirmngr_2.1.15-1ubuntu8.1_amd64.deb ...\n",
            "Unpacking dirmngr (2.1.15-1ubuntu8.1) ...\n",
            "Selecting previously unselected package distro-info-data.\n",
            "Preparing to unpack .../07-distro-info-data_0.36ubuntu0.2_all.deb ...\n",
            "Unpacking distro-info-data (0.36ubuntu0.2) ...\n",
            "Selecting previously unselected package libkmod2:amd64.\n",
            "Preparing to unpack .../08-libkmod2_24-1ubuntu2_amd64.deb ...\n",
            "Unpacking libkmod2:amd64 (24-1ubuntu2) ...\n",
            "Selecting previously unselected package kmod.\n",
            "Preparing to unpack .../09-kmod_24-1ubuntu2_amd64.deb ...\n",
            "Unpacking kmod (24-1ubuntu2) ...\n",
            "Selecting previously unselected package lsb-release.\n",
            "Preparing to unpack .../10-lsb-release_9.20160110ubuntu5_all.deb ...\n",
            "Unpacking lsb-release (9.20160110ubuntu5) ...\n",
            "Selecting previously unselected package libgirepository-1.0-1:amd64.\n",
            "Preparing to unpack .../11-libgirepository-1.0-1_1.54.1-1_amd64.deb ...\n",
            "Unpacking libgirepository-1.0-1:amd64 (1.54.1-1) ...\n",
            "Selecting previously unselected package gir1.2-glib-2.0:amd64.\n",
            "Preparing to unpack .../12-gir1.2-glib-2.0_1.54.1-1_amd64.deb ...\n",
            "Unpacking gir1.2-glib-2.0:amd64 (1.54.1-1) ...\n",
            "Selecting previously unselected package iso-codes.\n",
            "Preparing to unpack .../13-iso-codes_3.75-1_all.deb ...\n",
            "Unpacking iso-codes (3.75-1) ...\n",
            "Selecting previously unselected package libdbus-glib-1-2:amd64.\n",
            "Preparing to unpack .../14-libdbus-glib-1-2_0.108-2_amd64.deb ...\n",
            "Unpacking libdbus-glib-1-2:amd64 (0.108-2) ...\n",
            "Selecting previously unselected package python-apt-common.\n",
            "Preparing to unpack .../15-python-apt-common_1.4.0~beta3build2_all.deb ...\n",
            "Unpacking python-apt-common (1.4.0~beta3build2) ...\n",
            "Selecting previously unselected package python3-apt.\n",
            "Preparing to unpack .../16-python3-apt_1.4.0~beta3build2_amd64.deb ...\n",
            "Unpacking python3-apt (1.4.0~beta3build2) ...\n",
            "Selecting previously unselected package python3-dbus.\n",
            "Preparing to unpack .../17-python3-dbus_1.2.4-1build3_amd64.deb ...\n",
            "Unpacking python3-dbus (1.2.4-1build3) ...\n",
            "Selecting previously unselected package python3-gi.\n",
            "Preparing to unpack .../18-python3-gi_3.24.1-2build1_amd64.deb ...\n",
            "Unpacking python3-gi (3.24.1-2build1) ...\n",
            "Selecting previously unselected package module-init-tools.\n",
            "Preparing to unpack .../19-module-init-tools_24-1ubuntu2_all.deb ...\n",
            "Unpacking module-init-tools (24-1ubuntu2) ...\n",
            "Selecting previously unselected package python-apt.\n",
            "Preparing to unpack .../20-python-apt_1.4.0~beta3build2_amd64.deb ...\n",
            "Unpacking python-apt (1.4.0~beta3build2) ...\n",
            "Selecting previously unselected package python-pycurl.\n",
            "Preparing to unpack .../21-python-pycurl_7.43.0-2build2_amd64.deb ...\n",
            "Unpacking python-pycurl (7.43.0-2build2) ...\n",
            "Selecting previously unselected package python-software-properties.\n",
            "Preparing to unpack .../22-python-software-properties_0.96.24.17_all.deb ...\n",
            "Unpacking python-software-properties (0.96.24.17) ...\n",
            "Selecting previously unselected package python3-software-properties.\n",
            "Preparing to unpack .../23-python3-software-properties_0.96.24.17_all.deb ...\n",
            "Unpacking python3-software-properties (0.96.24.17) ...\n",
            "Selecting previously unselected package software-properties-common.\n",
            "Preparing to unpack .../24-software-properties-common_0.96.24.17_all.deb ...\n",
            "Unpacking software-properties-common (0.96.24.17) ...\n",
            "Selecting previously unselected package unattended-upgrades.\n",
            "Preparing to unpack .../25-unattended-upgrades_0.98ubuntu1.1_all.deb ...\n",
            "Unpacking unattended-upgrades (0.98ubuntu1.1) ...\n",
            "Setting up python-apt-common (1.4.0~beta3build2) ...\n",
            "Setting up python3-apt (1.4.0~beta3build2) ...\n",
            "Setting up iso-codes (3.75-1) ...\n",
            "Setting up distro-info-data (0.36ubuntu0.2) ...\n",
            "Setting up python-pycurl (7.43.0-2build2) ...\n",
            "Setting up lsb-release (9.20160110ubuntu5) ...\n",
            "Setting up libgirepository-1.0-1:amd64 (1.54.1-1) ...\n",
            "Setting up libkmod2:amd64 (24-1ubuntu2) ...\n",
            "Setting up gir1.2-glib-2.0:amd64 (1.54.1-1) ...\n",
            "Processing triggers for libc-bin (2.26-0ubuntu2.1) ...\n"
          ],
          "name": "stdout"
        },
        {
          "output_type": "stream",
          "text": [
            "Setting up libapparmor1:amd64 (2.11.0-2ubuntu17.1) ...\r\n",
            "Setting up unattended-upgrades (0.98ubuntu1.1) ...\n",
            "\n",
            "Creating config file /etc/apt/apt.conf.d/20auto-upgrades with new version\n",
            "\n",
            "Creating config file /etc/apt/apt.conf.d/50unattended-upgrades with new version\n",
            "invoke-rc.d: could not determine current runlevel\n",
            "invoke-rc.d: policy-rc.d denied execution of start.\n",
            "Setting up gnupg-agent (2.1.15-1ubuntu8.1) ...\n",
            "Setting up dirmngr (2.1.15-1ubuntu8.1) ...\n",
            "Setting up cron (3.0pl1-128ubuntu5) ...\n",
            "Adding group `crontab' (GID 102) ...\n",
            "Done.\n",
            "update-rc.d: warning: start and stop actions are no longer supported; falling back to defaults\n",
            "update-rc.d: warning: stop runlevel arguments (1) do not match cron Default-Stop values (none)\n",
            "invoke-rc.d: could not determine current runlevel\n",
            "invoke-rc.d: policy-rc.d denied execution of start.\n",
            "Setting up libdbus-1-3:amd64 (1.10.22-1ubuntu1) ...\n",
            "Setting up kmod (24-1ubuntu2) ...\n",
            "Setting up libdbus-glib-1-2:amd64 (0.108-2) ...\n",
            "Setting up gnupg (2.1.15-1ubuntu8.1) ...\n",
            "Setting up python3-gi (3.24.1-2build1) ...\n",
            "Setting up module-init-tools (24-1ubuntu2) ...\n",
            "Setting up python3-software-properties (0.96.24.17) ...\n",
            "Setting up dbus (1.10.22-1ubuntu1) ...\n",
            "Setting up python-apt (1.4.0~beta3build2) ...\n",
            "Setting up python3-dbus (1.2.4-1build3) ...\n",
            "Setting up python-software-properties (0.96.24.17) ...\n",
            "Setting up software-properties-common (0.96.24.17) ...\n",
            "Processing triggers for libc-bin (2.26-0ubuntu2.1) ...\n",
            "Processing triggers for dbus (1.10.22-1ubuntu1) ...\n",
            "gpg: keybox '/tmp/tmpc_ti9ues/pubring.gpg' created\n",
            "gpg: /tmp/tmpc_ti9ues/trustdb.gpg: trustdb created\n",
            "gpg: key AD5F235DF639B041: public key \"Launchpad PPA for Alessandro Strada\" imported\n",
            "gpg: Total number processed: 1\n",
            "gpg:               imported: 1\n",
            "Warning: apt-key output should not be parsed (stdout is not a terminal)\n",
            "Selecting previously unselected package libfuse2:amd64.\n",
            "(Reading database ... 19706 files and directories currently installed.)\n",
            "Preparing to unpack .../libfuse2_2.9.7-1ubuntu1_amd64.deb ...\n",
            "Unpacking libfuse2:amd64 (2.9.7-1ubuntu1) ...\n",
            "Selecting previously unselected package fuse.\n",
            "Preparing to unpack .../fuse_2.9.7-1ubuntu1_amd64.deb ...\n",
            "Unpacking fuse (2.9.7-1ubuntu1) ...\n",
            "Selecting previously unselected package google-drive-ocamlfuse.\n",
            "Preparing to unpack .../google-drive-ocamlfuse_0.6.21-0ubuntu2_amd64.deb ...\n",
            "Unpacking google-drive-ocamlfuse (0.6.21-0ubuntu2) ...\n",
            "Setting up libfuse2:amd64 (2.9.7-1ubuntu1) ...\n",
            "Processing triggers for libc-bin (2.26-0ubuntu2.1) ...\n",
            "Setting up fuse (2.9.7-1ubuntu1) ...\n",
            "Setting up google-drive-ocamlfuse (0.6.21-0ubuntu2) ...\n"
          ],
          "name": "stdout"
        }
      ]
    },
    {
      "metadata": {
        "id": "zC_f-TGfOFva",
        "colab_type": "code",
        "colab": {
          "autoexec": {
            "startup": false,
            "wait_interval": 0
          },
          "base_uri": "https://localhost:8080/",
          "height": 108
        },
        "outputId": "38066d48-98f5-47d5-b790-680dcd9ffb55",
        "executionInfo": {
          "status": "ok",
          "timestamp": 1529538548834,
          "user_tz": -330,
          "elapsed": 17422,
          "user": {
            "displayName": "suraj b",
            "photoUrl": "https://lh3.googleusercontent.com/a/default-user=s128",
            "userId": "102683608279765749841"
          }
        }
      },
      "cell_type": "code",
      "source": [
        "# Generate auth tokens for Colab\n",
        "from google.colab import auth\n",
        "auth.authenticate_user()\n",
        "\n",
        "# Generate creds for the Drive FUSE library. Though the link asks you to verify twice, you don't have to!\n",
        "from oauth2client.client import GoogleCredentials\n",
        "creds = GoogleCredentials.get_application_default()\n",
        "import getpass\n",
        "!google-drive-ocamlfuse -headless -id={creds.client_id} -secret={creds.client_secret} < /dev/null 2>&1 | grep URL\n",
        "vcode = getpass.getpass()\n",
        "!echo {vcode} | google-drive-ocamlfuse -headless -id={creds.client_id} -secret={creds.client_secret}"
      ],
      "execution_count": 3,
      "outputs": [
        {
          "output_type": "stream",
          "text": [
            "Please, open the following URL in a web browser: https://accounts.google.com/o/oauth2/auth?client_id=32555940559.apps.googleusercontent.com&redirect_uri=urn%3Aietf%3Awg%3Aoauth%3A2.0%3Aoob&scope=https%3A%2F%2Fwww.googleapis.com%2Fauth%2Fdrive&response_type=code&access_type=offline&approval_prompt=force\r\n",
            "··········\n",
            "Please, open the following URL in a web browser: https://accounts.google.com/o/oauth2/auth?client_id=32555940559.apps.googleusercontent.com&redirect_uri=urn%3Aietf%3Awg%3Aoauth%3A2.0%3Aoob&scope=https%3A%2F%2Fwww.googleapis.com%2Fauth%2Fdrive&response_type=code&access_type=offline&approval_prompt=force\n",
            "Please enter the verification code: Access token retrieved correctly.\n"
          ],
          "name": "stdout"
        }
      ]
    },
    {
      "metadata": {
        "id": "O3NZ8qV9OFzl",
        "colab_type": "code",
        "colab": {
          "autoexec": {
            "startup": false,
            "wait_interval": 0
          },
          "base_uri": "https://localhost:8080/",
          "height": 53
        },
        "outputId": "fc663e73-02d9-4e08-b300-07fd90aae610",
        "executionInfo": {
          "status": "ok",
          "timestamp": 1529538556321,
          "user_tz": -330,
          "elapsed": 7315,
          "user": {
            "displayName": "suraj b",
            "photoUrl": "https://lh3.googleusercontent.com/a/default-user=s128",
            "userId": "102683608279765749841"
          }
        }
      },
      "cell_type": "code",
      "source": [
        "# Create a directory and mount Google Drive using that directory.\n",
        "!mkdir -p drive\n",
        "!google-drive-ocamlfuse drive\n",
        "\n",
        "print ('Files in Drive:')\n",
        "!ls drive/EIP/Facial_Expression_Recognition/"
      ],
      "execution_count": 4,
      "outputs": [
        {
          "output_type": "stream",
          "text": [
            "Files in Drive:\n",
            "datalab  fer2013  fer2013.tar.gz\n"
          ],
          "name": "stdout"
        }
      ]
    },
    {
      "metadata": {
        "id": "-iSNigD5Sk-Q",
        "colab_type": "code",
        "colab": {
          "autoexec": {
            "startup": false,
            "wait_interval": 0
          },
          "base_uri": "https://localhost:8080/",
          "height": 35
        },
        "outputId": "9c1328a1-d44c-4aa1-a0a7-b07fa94a641c",
        "executionInfo": {
          "status": "ok",
          "timestamp": 1529538558369,
          "user_tz": -330,
          "elapsed": 1898,
          "user": {
            "displayName": "suraj b",
            "photoUrl": "https://lh3.googleusercontent.com/a/default-user=s128",
            "userId": "102683608279765749841"
          }
        }
      },
      "cell_type": "code",
      "source": [
        "!ls "
      ],
      "execution_count": 5,
      "outputs": [
        {
          "output_type": "stream",
          "text": [
            "datalab  drive\r\n"
          ],
          "name": "stdout"
        }
      ]
    },
    {
      "metadata": {
        "id": "CzVhrP6IO0-9",
        "colab_type": "code",
        "colab": {
          "autoexec": {
            "startup": false,
            "wait_interval": 0
          },
          "base_uri": "https://localhost:8080/",
          "height": 53
        },
        "outputId": "be561c38-7dec-49c9-eac8-9af606392856",
        "executionInfo": {
          "status": "ok",
          "timestamp": 1529538561803,
          "user_tz": -330,
          "elapsed": 3339,
          "user": {
            "displayName": "suraj b",
            "photoUrl": "https://lh3.googleusercontent.com/a/default-user=s128",
            "userId": "102683608279765749841"
          }
        }
      },
      "cell_type": "code",
      "source": [
        "#Unpack datasets and copy back to drive. Just once at the beginning.\n",
        "#!tar -xvf drive/EIP/Facial_Expression_Recognition/fer2013.tar.gz\n",
        "!cp -r fer2013 drive/EIP/Facial_Expression_Recognition\n",
        "\n",
        "# Run this only when starting a new session. Syncing files in drive to pwd.\n",
        "!cp -a drive/EIP/Facial_Expression_Recognition/*.hdf5 .\n",
        "#!ls"
      ],
      "execution_count": 6,
      "outputs": [
        {
          "output_type": "stream",
          "text": [
            "cp: cannot stat 'fer2013': No such file or directory\n",
            "cp: cannot stat 'drive/EIP/Facial_Expression_Recognition/*.hdf5': No such file or directory\n"
          ],
          "name": "stdout"
        }
      ]
    },
    {
      "metadata": {
        "id": "rc5sikS1Szo-",
        "colab_type": "text"
      },
      "cell_type": "markdown",
      "source": [
        "# Environment specific Setup"
      ]
    },
    {
      "metadata": {
        "id": "U4neQrMmfEF6",
        "colab_type": "code",
        "colab": {
          "autoexec": {
            "startup": false,
            "wait_interval": 0
          }
        }
      },
      "cell_type": "code",
      "source": [
        "#Framework related libraries\n",
        "import keras\n",
        "from keras.models import Model, Sequential\n",
        "from keras.layers import Dense, Dropout, Flatten, Input, Activation\n",
        "from keras.layers import MaxPooling2D, BatchNormalization, SeparableConv2D\n",
        "from keras.layers import Concatenate\n",
        "from keras.optimizers import Adam\n",
        "\n",
        "##---------------------------------------------##\n",
        "\n",
        "#For loading models\n",
        "from pathlib import Path\n",
        "from keras.models import load_model\n",
        "\n",
        "##---------------------------------------------##\n",
        "\n",
        "##Data preprocessing\n",
        "\n",
        "#for class balance\n",
        "from sklearn.utils import class_weight\n",
        "\n",
        "#For data augmentation\n",
        "from keras.preprocessing.image import ImageDataGenerator, array_to_img, img_to_array, load_img\n",
        "\n",
        "##---------------------------------------------##\n",
        "\n",
        "# this part will prevent tensorflow to allocate all the avaliable GPU Memory\n",
        "# backend\n",
        "import tensorflow as tf\n",
        "#tf.python.control_flow_ops = tf\n",
        "from keras import backend as k\n",
        "\n",
        "##---------------------------------------------##\n",
        "\n",
        "# Don't pre-allocate memory; allocate as-needed\n",
        "config = tf.ConfigProto()\n",
        "config.gpu_options.allow_growth = True\n",
        "\n",
        "##---------------------------------------------##\n",
        "\n",
        "# Create a session with the above options specified.\n",
        "k.tensorflow_backend.set_session(tf.Session(config=config))"
      ],
      "execution_count": 0,
      "outputs": []
    },
    {
      "metadata": {
        "id": "IHHpIu6hWnlh",
        "colab_type": "code",
        "colab": {
          "autoexec": {
            "startup": false,
            "wait_interval": 0
          }
        }
      },
      "cell_type": "code",
      "source": [
        "#Data handling libraries\n",
        "import numpy as np\n",
        "import pandas as spd\n",
        "\n",
        "##---------------------------------------------##\n",
        "\n",
        "#Image handling libraries\n",
        "import matplotlib.pyplot as plt\n",
        "\n",
        "##---------------------------------------------##\n",
        "\n",
        "# This is a bit of magic to make matplotlib figures appear inline in the notebook rather than in a new window.\n",
        "%matplotlib inline\n",
        "plt.rcParams['figure.figsize'] = (10, 8) # set default size of plots\n",
        "plt.rcParams['image.interpolation'] = 'nearest'\n",
        "plt.rcParams['image.cmap'] = 'gray'\n",
        "\n",
        "# Some more magic so that the notebook will reload external python modules;\n",
        "%load_ext autoreload\n",
        "%autoreload 2"
      ],
      "execution_count": 0,
      "outputs": []
    },
    {
      "metadata": {
        "id": "UIuj5ry5TkOP",
        "colab_type": "text"
      },
      "cell_type": "markdown",
      "source": [
        "# Exploratory Data Analysis\n",
        "\n"
      ]
    },
    {
      "metadata": {
        "id": "dHYu4jTBXqQk",
        "colab_type": "code",
        "colab": {
          "autoexec": {
            "startup": false,
            "wait_interval": 0
          }
        }
      },
      "cell_type": "code",
      "source": [
        "#Given data set is in csv format after unzipping.\n",
        "\n",
        "file = 'drive/EIP/Facial_Expression_Recognition/fer2013/fer2013.csv'\n",
        "df = spd.read_csv(file)"
      ],
      "execution_count": 0,
      "outputs": []
    },
    {
      "metadata": {
        "id": "DAFTWtZtalD9",
        "colab_type": "code",
        "colab": {
          "autoexec": {
            "startup": false,
            "wait_interval": 0
          }
        }
      },
      "cell_type": "code",
      "source": [
        "#Assign separate data frames to training, cross-validation and test data\n",
        "\n",
        "#Training set\n",
        "tr_set = df.loc[df['Usage'] == 'Training']\n",
        "tr = tr_set.loc[:,'pixels']\n",
        "tr_labels = tr_set.loc[:,'emotion']\n",
        "\n",
        "#Cross-validation set\n",
        "cv_set = df.loc[df['Usage'] == 'PublicTest']\n",
        "cv = cv_set.loc[:,'pixels']\n",
        "cv_labels = cv_set.loc[:,'emotion']\n",
        "\n",
        "#Test set\n",
        "te_set = df.loc[df['Usage'] == 'PrivateTest']\n",
        "te = te_set.loc[:,'pixels']\n",
        "te_labels = te_set.loc[:,'emotion']"
      ],
      "execution_count": 0,
      "outputs": []
    },
    {
      "metadata": {
        "id": "8A5_XG1xha4c",
        "colab_type": "text"
      },
      "cell_type": "markdown",
      "source": [
        "Lets randomly sample 5 images of each emotion from training dtaset"
      ]
    },
    {
      "metadata": {
        "id": "j1492a5B_9qr",
        "colab_type": "code",
        "colab": {
          "autoexec": {
            "startup": false,
            "wait_interval": 0
          },
          "base_uri": "https://localhost:8080/",
          "height": 498
        },
        "outputId": "34e92e78-fb7b-4ce1-b357-732664654beb",
        "executionInfo": {
          "status": "ok",
          "timestamp": 1529549774437,
          "user_tz": -330,
          "elapsed": 4161,
          "user": {
            "displayName": "suraj b",
            "photoUrl": "https://lh3.googleusercontent.com/a/default-user=s128",
            "userId": "102683608279765749841"
          }
        }
      },
      "cell_type": "code",
      "source": [
        "tr_set_emotions_label = ['Angry','Disgust','Fear','Happy','Sad','Surprise','Neutral']\n",
        "\n",
        "#size of each class will be stored in this array\n",
        "t=np.zeros(np.size(tr_set_emotions_label)) \n",
        "\n",
        "#No. of images to sample from each class\n",
        "sample_size=5\n",
        "\n",
        "#Display those images\n",
        "for k,e in enumerate(tr_set_emotions_label):\n",
        "  this_emotion_set = df.loc[(df['Usage'] == 'Training') & (df['emotion'] == k)]\n",
        "  t[k] = this_emotion_set.size\n",
        "  x=this_emotion_set.sample(n=sample_size).loc[:,'pixels']\n",
        "  for i,j in enumerate(x):\n",
        "    plt.subplot(t.size, sample_size,(sample_size*k)+i+1)\n",
        "    y = j.split(' ')\n",
        "    x = np.array(y).reshape(48,48)\n",
        "    plt.axis('off')\n",
        "    plt.grid('off')\n",
        "    plt.imshow(x.astype('uint8'))\n",
        "    plt.title(e)"
      ],
      "execution_count": 8,
      "outputs": [
        {
          "output_type": "display_data",
          "data": {
            "image/png": "[encoded data removed]",
            "text/plain": [
              "<matplotlib.figure.Figure at 0x7f3352413278>"
            ]
          },
          "metadata": {
            "tags": []
          }
        }
      ]
    },
    {
      "metadata": {
        "id": "-vuNUl_8ho_z",
        "colab_type": "text"
      },
      "cell_type": "markdown",
      "source": [
        "## Inferences\n",
        "\n",
        "\n",
        "1.   The data provided is flattened/unrolled. To display them, we have to roll or reshape the vectors.\n",
        "2.   This dataset consists of faces of various expressions of all kinds of age, race and sex. That means the data is well generalized. \n",
        "3.   Faces in the images seemed to be centered. So, face detection and extraction can be skipped.\n",
        "4.   Images are in grey scale. That means fewer parameters.\n",
        "5.  Given the classes 'Surprise' and 'Happy', there might be high chance of misclassification. This is due to their high spatial corelation.\n",
        "\n",
        "Let's explore data distribution among various classes"
      ]
    },
    {
      "metadata": {
        "id": "Vzi_L1OpkFLt",
        "colab_type": "code",
        "colab": {
          "autoexec": {
            "startup": false,
            "wait_interval": 0
          },
          "base_uri": "https://localhost:8080/",
          "height": 498
        },
        "cellView": "code",
        "outputId": "9f28942a-309a-4f9a-df11-553ed267705d",
        "executionInfo": {
          "status": "ok",
          "timestamp": 1529549775405,
          "user_tz": -330,
          "elapsed": 809,
          "user": {
            "displayName": "suraj b",
            "photoUrl": "https://lh3.googleusercontent.com/a/default-user=s128",
            "userId": "102683608279765749841"
          }
        }
      },
      "cell_type": "code",
      "source": [
        "#Plotting no. of training examples vs their class\n",
        "plt.bar(tr_set_emotions_label, t)\n",
        "plt.ylabel('No. of training examples')\n",
        "plt.ylabel('Emotion')\n",
        "plt.title('Data Distribution among various classes')\n",
        "\n",
        "plt.show()  "
      ],
      "execution_count": 9,
      "outputs": [
        {
          "output_type": "display_data",
          "data": {
            "image/png": "[encoded data removed]",
            "text/plain": [
              "<matplotlib.figure.Figure at 0x7f32ea3f86d8>"
            ]
          },
          "metadata": {
            "tags": []
          }
        }
      ]
    },
    {
      "metadata": {
        "id": "RV0urASZoTYR",
        "colab_type": "text"
      },
      "cell_type": "markdown",
      "source": [
        "* It can be observed that the class 'Disgust' has very less number of training data. \n",
        "\n",
        "* And there is a high possibility of the model to predict 'Happy' if the training data isn't normalized.\n",
        "\n",
        "* This problem can be solved in various ways:\n",
        "\n",
        "  1.** Assigning weightage** for each class using Keras 'class_weight'. This is preferred.\n",
        "  \n",
        "  2.** Data augmentation** - Since the variation among the no. of training examples accross the classes is very high, using augmentation might not be a good idea. If we do that, there will be a rich variation in 'Happy' class and less variations in 'disgust' class and training over this data would be redundant. But applying Augmentation on all of the classes is a good idea.\n",
        "  \n",
        "  3.** Removing data** from other classes. Loss of data is not encouraged usually. \n",
        "\n",
        "  4.** Using GANs** : New training data can be created from the respective class's distribution. This is an option too.\n",
        "\n",
        "\n",
        "**NOTE : The labels on the x-axis are not in order of the labels 0-7**"
      ]
    },
    {
      "metadata": {
        "id": "D3cILoE0ha80",
        "colab_type": "text"
      },
      "cell_type": "markdown",
      "source": [
        "# Data Preprocessing\n"
      ]
    },
    {
      "metadata": {
        "id": "v0TGhaGXyFls",
        "colab_type": "text"
      },
      "cell_type": "markdown",
      "source": [
        "## Rolling the data"
      ]
    },
    {
      "metadata": {
        "id": "NqbcoORpyKB0",
        "colab_type": "code",
        "colab": {
          "autoexec": {
            "startup": false,
            "wait_interval": 0
          },
          "base_uri": "https://localhost:8080/",
          "height": 35
        },
        "outputId": "1374c698-2e9c-4dbb-f762-e52f0142ab70",
        "executionInfo": {
          "status": "ok",
          "timestamp": 1529549786743,
          "user_tz": -330,
          "elapsed": 11189,
          "user": {
            "displayName": "suraj b",
            "photoUrl": "https://lh3.googleusercontent.com/a/default-user=s128",
            "userId": "102683608279765749841"
          }
        }
      },
      "cell_type": "code",
      "source": [
        "#train data\n",
        "tr_img = []\n",
        "tr_l = np.zeros((np.size(tr),np.size(t)))\n",
        "#print(tr_labels)\n",
        "for p,i in enumerate(tr):\n",
        "    y = i.split(' ')\n",
        "    y = np.array(y).reshape(48,48,1)\n",
        "    tr_img.append(y)\n",
        "    tr_l[p,tr_labels[p]]=1\n",
        "tr_img = np.array(tr_img)\n",
        "print(tr_img.shape)"
      ],
      "execution_count": 10,
      "outputs": [
        {
          "output_type": "stream",
          "text": [
            "(28709, 48, 48, 1)\n"
          ],
          "name": "stdout"
        }
      ]
    },
    {
      "metadata": {
        "id": "Tb-CgDtTWq6O",
        "colab_type": "code",
        "colab": {
          "autoexec": {
            "startup": false,
            "wait_interval": 0
          },
          "base_uri": "https://localhost:8080/",
          "height": 160
        },
        "outputId": "f4037230-61d5-4c08-b61e-ec13da928c50",
        "executionInfo": {
          "status": "ok",
          "timestamp": 1529549789223,
          "user_tz": -330,
          "elapsed": 2306,
          "user": {
            "displayName": "suraj b",
            "photoUrl": "https://lh3.googleusercontent.com/a/default-user=s128",
            "userId": "102683608279765749841"
          }
        }
      },
      "cell_type": "code",
      "source": [
        "#cv data\n",
        "cv_img = []\n",
        "cv_l = np.zeros((np.size(cv),np.size(t)))\n",
        "for p,i in enumerate(cv):\n",
        "    y = i.split(' ')\n",
        "    y = np.array(y).reshape(48,48,1)\n",
        "    cv_img.append(y)\n",
        "    cv_l[p,cv_labels[np.size(tr)+p]] = 1\n",
        "print(cv_l)\n",
        "cv_img = np.array(cv_img)\n",
        "print(cv_img.shape)"
      ],
      "execution_count": 11,
      "outputs": [
        {
          "output_type": "stream",
          "text": [
            "[[1. 0. 0. ... 0. 0. 0.]\n",
            " [0. 1. 0. ... 0. 0. 0.]\n",
            " [0. 0. 0. ... 1. 0. 0.]\n",
            " ...\n",
            " [0. 0. 0. ... 1. 0. 0.]\n",
            " [0. 0. 0. ... 1. 0. 0.]\n",
            " [0. 0. 0. ... 1. 0. 0.]]\n",
            "(3589, 48, 48, 1)\n"
          ],
          "name": "stdout"
        }
      ]
    },
    {
      "metadata": {
        "id": "Mv7B5iQ0Wup6",
        "colab_type": "code",
        "colab": {
          "autoexec": {
            "startup": false,
            "wait_interval": 0
          },
          "base_uri": "https://localhost:8080/",
          "height": 160
        },
        "outputId": "671a7407-b5da-41a9-ae14-aa08749c40ad",
        "executionInfo": {
          "status": "ok",
          "timestamp": 1529549791495,
          "user_tz": -330,
          "elapsed": 2177,
          "user": {
            "displayName": "suraj b",
            "photoUrl": "https://lh3.googleusercontent.com/a/default-user=s128",
            "userId": "102683608279765749841"
          }
        }
      },
      "cell_type": "code",
      "source": [
        "#test data\n",
        "te_img = []\n",
        "te_l = np.zeros((np.size(te),np.size(t)))\n",
        "for p,i in enumerate(te):\n",
        "    y = i.split(' ')\n",
        "    y = np.array(y).reshape(48,48,1)\n",
        "    te_img.append(y)\n",
        "    te_l[p,te_labels[np.size(tr) + np.size(cv) + p]]=1\n",
        "print(te_l)\n",
        "te_img = np.array(te_img)\n",
        "print(te_img.shape)"
      ],
      "execution_count": 12,
      "outputs": [
        {
          "output_type": "stream",
          "text": [
            "[[1. 0. 0. ... 0. 0. 0.]\n",
            " [0. 0. 0. ... 0. 1. 0.]\n",
            " [0. 0. 0. ... 0. 0. 1.]\n",
            " ...\n",
            " [1. 0. 0. ... 0. 0. 0.]\n",
            " [0. 0. 0. ... 0. 0. 0.]\n",
            " [0. 0. 1. ... 0. 0. 0.]]\n",
            "(3589, 48, 48, 1)\n"
          ],
          "name": "stdout"
        }
      ]
    },
    {
      "metadata": {
        "id": "a4n4VWCWiUrh",
        "colab_type": "text"
      },
      "cell_type": "markdown",
      "source": [
        "## Assigning weights to classes"
      ]
    },
    {
      "metadata": {
        "id": "-1wpH_ULiXHM",
        "colab_type": "code",
        "colab": {
          "autoexec": {
            "startup": false,
            "wait_interval": 0
          }
        }
      },
      "cell_type": "code",
      "source": [
        "#Finding the weightage to be given to each class\n",
        "class_weights_array = np.round(np.max(t)/t)\n",
        "\n",
        "class_weight = dict(zip(np.arange(np.size(t)), class_weights_array))\n",
        "\n",
        "#print(class_weight)"
      ],
      "execution_count": 0,
      "outputs": []
    },
    {
      "metadata": {
        "id": "NdmnQoFunEjh",
        "colab_type": "text"
      },
      "cell_type": "markdown",
      "source": [
        "# Data Augmentation"
      ]
    },
    {
      "metadata": {
        "id": "86qhwLpSnHGD",
        "colab_type": "code",
        "colab": {
          "autoexec": {
            "startup": false,
            "wait_interval": 0
          },
          "base_uri": "https://localhost:8080/",
          "height": 0
        },
        "outputId": "8569e7cd-d48d-4e67-9d71-25fa10dabd4d",
        "executionInfo": {
          "status": "ok",
          "timestamp": 1529549852064,
          "user_tz": -330,
          "elapsed": 59531,
          "user": {
            "displayName": "suraj b",
            "photoUrl": "https://lh3.googleusercontent.com/a/default-user=s128",
            "userId": "102683608279765749841"
          }
        }
      },
      "cell_type": "code",
      "source": [
        "print('Using real-time data augmentation.')\n",
        "\n",
        "from keras.preprocessing.image import ImageDataGenerator\n",
        "datagen = ImageDataGenerator( \n",
        "    rotation_range=15, \n",
        "    width_shift_range=0.1, \n",
        "    height_shift_range=0.1, \n",
        "    horizontal_flip=True) \n",
        "\n",
        "datagen.fit(tr_img)\n",
        "data_aug_x = datagen.flow(tr_img, tr_l, batch_size=64)"
      ],
      "execution_count": 14,
      "outputs": [
        {
          "output_type": "stream",
          "text": [
            "Using real-time data augmentation.\n"
          ],
          "name": "stdout"
        }
      ]
    },
    {
      "metadata": {
        "id": "Q0kgrGwSdR_V",
        "colab_type": "text"
      },
      "cell_type": "markdown",
      "source": [
        "# Acrhitecture"
      ]
    },
    {
      "metadata": {
        "id": "-MzS6hAZ5s6i",
        "colab_type": "text"
      },
      "cell_type": "markdown",
      "source": [
        "## Model"
      ]
    },
    {
      "metadata": {
        "id": "ErF3LCQreLzR",
        "colab_type": "code",
        "colab": {
          "autoexec": {
            "startup": false,
            "wait_interval": 0
          },
          "base_uri": "https://localhost:8080/",
          "height": 928
        },
        "outputId": "c7c48bd3-34fe-455d-da4f-e77ed98054d6",
        "executionInfo": {
          "status": "ok",
          "timestamp": 1529558667877,
          "user_tz": -330,
          "elapsed": 2340,
          "user": {
            "displayName": "suraj b",
            "photoUrl": "https://lh3.googleusercontent.com/a/default-user=s128",
            "userId": "102683608279765749841"
          }
        }
      },
      "cell_type": "code",
      "source": [
        "model = Sequential()\n",
        "\n",
        "f = 32\n",
        "model.add(SeparableConv2D(f,(5,1),activation='relu', input_shape=(48,48,1)))\n",
        "model.add(SeparableConv2D(f,(1,5),activation='relu'))\n",
        "\n",
        "model.add(BatchNormalization())\n",
        "\n",
        "model.add(SeparableConv2D(f,(5,1),activation='relu'))\n",
        "model.add(SeparableConv2D(f,(1,5),activation='relu'))\n",
        "\n",
        "model.add(MaxPooling2D(pool_size=(2, 2), strides=(1, 1)))\n",
        "\n",
        "##\n",
        "\n",
        "f=64\n",
        "model.add(SeparableConv2D(f,(5,1),activation='relu'))\n",
        "model.add(SeparableConv2D(f,(1,5),activation='relu'))\n",
        "\n",
        "model.add(BatchNormalization())\n",
        "\n",
        "model.add(SeparableConv2D(f,(5,1),activation='relu'))\n",
        "model.add(SeparableConv2D(f,(1,5),activation='relu'))\n",
        "\n",
        "model.add(MaxPooling2D(pool_size=(2, 2), strides=(2, 2)))\n",
        "\n",
        "model.add(Dropout(0.1))\n",
        "\n",
        "##\n",
        "\n",
        "f=96\n",
        "model.add(SeparableConv2D(f,(5,1),activation='relu'))\n",
        "model.add(SeparableConv2D(f,(1,5),activation='relu'))\n",
        "\n",
        "model.add(BatchNormalization())\n",
        "\n",
        "model.add(SeparableConv2D(f,(5,1),activation='relu'))\n",
        "model.add(SeparableConv2D(f,(1,5),activation='relu'))\n",
        "\n",
        "model.add(MaxPooling2D(pool_size=(2, 2), strides=(2, 2)))\n",
        "\n",
        "model.add(Dropout(0.1))\n",
        "\n",
        "##\n",
        "'''\n",
        "f=256\n",
        "model.add(SeparableConv2D(f,(5,1),activation='relu'))\n",
        "model.add(SeparableConv2D(f,(1,5),activation='relu'))\n",
        "\n",
        "model.add(BatchNormalization())\n",
        "\n",
        "model.add(SeparableConv2D(f,(5,1),activation='relu'))\n",
        "model.add(SeparableConv2D(f,(1,5),activation='relu'))\n",
        "\n",
        "model.add(MaxPooling2D(pool_size=(2, 2), strides=(2, 2)))\n",
        "\n",
        "model.add(Dropout(0.25))\n",
        "'''\n",
        "##\n",
        "\n",
        "model.add(Flatten())\n",
        "model.add(Dense(7, activation='softmax'))\n",
        "\n",
        "model.summary()"
      ],
      "execution_count": 32,
      "outputs": [
        {
          "output_type": "stream",
          "text": [
            "_________________________________________________________________\n",
            "Layer (type)                 Output Shape              Param #   \n",
            "=================================================================\n",
            "separable_conv2d_25 (Separab (None, 44, 48, 32)        69        \n",
            "_________________________________________________________________\n",
            "separable_conv2d_26 (Separab (None, 44, 44, 32)        1216      \n",
            "_________________________________________________________________\n",
            "batch_normalization_7 (Batch (None, 44, 44, 32)        128       \n",
            "_________________________________________________________________\n",
            "separable_conv2d_27 (Separab (None, 40, 44, 32)        1216      \n",
            "_________________________________________________________________\n",
            "separable_conv2d_28 (Separab (None, 40, 40, 32)        1216      \n",
            "_________________________________________________________________\n",
            "max_pooling2d_7 (MaxPooling2 (None, 39, 39, 32)        0         \n",
            "_________________________________________________________________\n",
            "separable_conv2d_29 (Separab (None, 35, 39, 64)        2272      \n",
            "_________________________________________________________________\n",
            "separable_conv2d_30 (Separab (None, 35, 35, 64)        4480      \n",
            "_________________________________________________________________\n",
            "batch_normalization_8 (Batch (None, 35, 35, 64)        256       \n",
            "_________________________________________________________________\n",
            "separable_conv2d_31 (Separab (None, 31, 35, 64)        4480      \n",
            "_________________________________________________________________\n",
            "separable_conv2d_32 (Separab (None, 31, 31, 64)        4480      \n",
            "_________________________________________________________________\n",
            "max_pooling2d_8 (MaxPooling2 (None, 15, 15, 64)        0         \n",
            "_________________________________________________________________\n",
            "dropout_5 (Dropout)          (None, 15, 15, 64)        0         \n",
            "_________________________________________________________________\n",
            "separable_conv2d_33 (Separab (None, 11, 15, 96)        6560      \n",
            "_________________________________________________________________\n",
            "separable_conv2d_34 (Separab (None, 11, 11, 96)        9792      \n",
            "_________________________________________________________________\n",
            "batch_normalization_9 (Batch (None, 11, 11, 96)        384       \n",
            "_________________________________________________________________\n",
            "separable_conv2d_35 (Separab (None, 7, 11, 96)         9792      \n",
            "_________________________________________________________________\n",
            "separable_conv2d_36 (Separab (None, 7, 7, 96)          9792      \n",
            "_________________________________________________________________\n",
            "max_pooling2d_9 (MaxPooling2 (None, 3, 3, 96)          0         \n",
            "_________________________________________________________________\n",
            "dropout_6 (Dropout)          (None, 3, 3, 96)          0         \n",
            "_________________________________________________________________\n",
            "flatten_3 (Flatten)          (None, 864)               0         \n",
            "_________________________________________________________________\n",
            "dense_3 (Dense)              (None, 7)                 6055      \n",
            "=================================================================\n",
            "Total params: 62,188\n",
            "Trainable params: 61,804\n",
            "Non-trainable params: 384\n",
            "_________________________________________________________________\n"
          ],
          "name": "stdout"
        }
      ]
    },
    {
      "metadata": {
        "id": "bSsq2the5wCo",
        "colab_type": "text"
      },
      "cell_type": "markdown",
      "source": [
        "## Compile and run"
      ]
    },
    {
      "metadata": {
        "id": "3N_AEyS5iDRy",
        "colab_type": "code",
        "colab": {
          "autoexec": {
            "startup": false,
            "wait_interval": 0
          }
        }
      },
      "cell_type": "code",
      "source": [
        "model.compile(loss='categorical_crossentropy',\n",
        "             optimizer='adam',\n",
        "             metrics=['accuracy'])\n",
        "\n",
        "# checkpoint\n",
        "from keras.callbacks import ModelCheckpoint\n",
        "filepath= \"weights-improvement-{epoch:02d}-{val_acc:.2f}.hdf5\"\n",
        "checkpoint = ModelCheckpoint(filepath, monitor='val_acc', verbose=1, save_best_only=True, save_weights_only=True, mode='max')\n",
        "callbacks_list = [checkpoint]"
      ],
      "execution_count": 0,
      "outputs": []
    },
    {
      "metadata": {
        "id": "V-JWLt3axrR4",
        "colab_type": "text"
      },
      "cell_type": "markdown",
      "source": [
        "## Epoch 1-10"
      ]
    },
    {
      "metadata": {
        "id": "j9pyixg3mZw_",
        "colab_type": "code",
        "colab": {
          "autoexec": {
            "startup": false,
            "wait_interval": 0
          },
          "base_uri": "https://localhost:8080/",
          "height": 750
        },
        "outputId": "6c73a8ac-e5bf-4439-8a73-a53622b08a5a",
        "executionInfo": {
          "status": "ok",
          "timestamp": 1529551120157,
          "user_tz": -330,
          "elapsed": 720199,
          "user": {
            "displayName": "suraj b",
            "photoUrl": "https://lh3.googleusercontent.com/a/default-user=s128",
            "userId": "102683608279765749841"
          }
        }
      },
      "cell_type": "code",
      "source": [
        "epoch = 0\n",
        "model.fit_generator(data_aug_x, \n",
        "                    epochs=10,\n",
        "                    verbose=1,\n",
        "                    initial_epoch=epoch,\n",
        "                    callbacks=callbacks_list,\n",
        "                    validation_data=(cv_img, cv_l),\n",
        "                    class_weight = class_weight)"
      ],
      "execution_count": 20,
      "outputs": [
        {
          "output_type": "stream",
          "text": [
            "Epoch 1/10\n",
            "449/449 [==============================] - 74s 165ms/step - loss: 3.1269 - acc: 0.1440 - val_loss: 2.0257 - val_acc: 0.1301\n",
            "\n",
            "Epoch 00001: val_acc improved from -inf to 0.13012, saving model to weights-improvement-01-0.13.hdf5\n",
            "Epoch 2/10\n",
            "178/449 [==========>...................] - ETA: 39s - loss: 3.0965 - acc: 0.1721"
          ],
          "name": "stdout"
        },
        {
          "output_type": "stream",
          "text": [
            "449/449 [==============================] - 71s 159ms/step - loss: 3.0287 - acc: 0.1890 - val_loss: 2.2046 - val_acc: 0.1413\n",
            "\n",
            "Epoch 00002: val_acc improved from 0.13012 to 0.14126, saving model to weights-improvement-02-0.14.hdf5\n",
            "Epoch 3/10\n",
            "243/449 [===============>..............] - ETA: 30s - loss: 2.9241 - acc: 0.2190"
          ],
          "name": "stdout"
        },
        {
          "output_type": "stream",
          "text": [
            "449/449 [==============================] - 71s 159ms/step - loss: 2.8985 - acc: 0.2299 - val_loss: 1.8912 - val_acc: 0.2226\n",
            "\n",
            "Epoch 00003: val_acc improved from 0.14126 to 0.22262, saving model to weights-improvement-03-0.22.hdf5\n",
            "Epoch 4/10\n",
            "259/449 [================>.............] - ETA: 27s - loss: 2.8198 - acc: 0.2564"
          ],
          "name": "stdout"
        },
        {
          "output_type": "stream",
          "text": [
            "449/449 [==============================] - 71s 159ms/step - loss: 2.7969 - acc: 0.2745 - val_loss: 1.7857 - val_acc: 0.3012\n",
            "\n",
            "Epoch 00004: val_acc improved from 0.22262 to 0.30120, saving model to weights-improvement-04-0.30.hdf5\n",
            "Epoch 5/10\n",
            "263/449 [================>.............] - ETA: 27s - loss: 2.7191 - acc: 0.3055"
          ],
          "name": "stdout"
        },
        {
          "output_type": "stream",
          "text": [
            "449/449 [==============================] - 72s 159ms/step - loss: 2.7144 - acc: 0.3094 - val_loss: 2.1325 - val_acc: 0.2368\n",
            "\n",
            "Epoch 00005: val_acc did not improve from 0.30120\n",
            "Epoch 6/10\n",
            "318/449 [====================>.........] - ETA: 19s - loss: 2.6328 - acc: 0.3386"
          ],
          "name": "stdout"
        },
        {
          "output_type": "stream",
          "text": [
            "449/449 [==============================] - 71s 159ms/step - loss: 2.6306 - acc: 0.3418 - val_loss: 1.8115 - val_acc: 0.3079\n",
            "\n",
            "Epoch 00006: val_acc improved from 0.30120 to 0.30789, saving model to weights-improvement-06-0.31.hdf5\n",
            "Epoch 7/10\n",
            "278/449 [=================>............] - ETA: 25s - loss: 2.5837 - acc: 0.3630"
          ],
          "name": "stdout"
        },
        {
          "output_type": "stream",
          "text": [
            "449/449 [==============================] - 71s 159ms/step - loss: 2.5781 - acc: 0.3620 - val_loss: 2.0816 - val_acc: 0.2622\n",
            "\n",
            "Epoch 00007: val_acc did not improve from 0.30789\n",
            "Epoch 8/10\n",
            "323/449 [====================>.........] - ETA: 18s - loss: 2.5236 - acc: 0.3730"
          ],
          "name": "stdout"
        },
        {
          "output_type": "stream",
          "text": [
            "449/449 [==============================] - 71s 159ms/step - loss: 2.5244 - acc: 0.3750 - val_loss: 1.5936 - val_acc: 0.4032\n",
            "\n",
            "Epoch 00008: val_acc improved from 0.30789 to 0.40318, saving model to weights-improvement-08-0.40.hdf5\n",
            "Epoch 9/10\n",
            "279/449 [=================>............] - ETA: 24s - loss: 2.5004 - acc: 0.3848"
          ],
          "name": "stdout"
        },
        {
          "output_type": "stream",
          "text": [
            "449/449 [==============================] - 71s 159ms/step - loss: 2.4758 - acc: 0.3879 - val_loss: 2.0948 - val_acc: 0.2558\n",
            "\n",
            "Epoch 00009: val_acc did not improve from 0.40318\n",
            "Epoch 10/10\n",
            "322/449 [====================>.........] - ETA: 18s - loss: 2.4606 - acc: 0.3952"
          ],
          "name": "stdout"
        },
        {
          "output_type": "stream",
          "text": [
            "449/449 [==============================] - 71s 159ms/step - loss: 2.4400 - acc: 0.3997 - val_loss: 1.4250 - val_acc: 0.4542\n",
            "\n",
            "Epoch 00010: val_acc improved from 0.40318 to 0.45417, saving model to weights-improvement-10-0.45.hdf5\n"
          ],
          "name": "stdout"
        },
        {
          "output_type": "execute_result",
          "data": {
            "text/plain": [
              "<keras.callbacks.History at 0x7f323b090668>"
            ]
          },
          "metadata": {
            "tags": []
          },
          "execution_count": 20
        }
      ]
    },
    {
      "metadata": {
        "id": "XprRdjdgvbUz",
        "colab_type": "code",
        "colab": {
          "autoexec": {
            "startup": false,
            "wait_interval": 0
          }
        }
      },
      "cell_type": "code",
      "source": [
        "!cp *.hdf5 drive/EIP/Facial_Expression_Recognition/"
      ],
      "execution_count": 0,
      "outputs": []
    },
    {
      "metadata": {
        "id": "xvPym6BkxwbW",
        "colab_type": "text"
      },
      "cell_type": "markdown",
      "source": [
        "## Epoch 11-30"
      ]
    },
    {
      "metadata": {
        "id": "ycgtSC5OJdMY",
        "colab_type": "code",
        "colab": {
          "autoexec": {
            "startup": false,
            "wait_interval": 0
          },
          "base_uri": "https://localhost:8080/",
          "height": 1464
        },
        "outputId": "cdff11e4-39fc-4e10-9457-2d2f3c9a926a",
        "executionInfo": {
          "status": "ok",
          "timestamp": 1529552628754,
          "user_tz": -330,
          "elapsed": 1427383,
          "user": {
            "displayName": "suraj b",
            "photoUrl": "https://lh3.googleusercontent.com/a/default-user=s128",
            "userId": "102683608279765749841"
          }
        }
      },
      "cell_type": "code",
      "source": [
        "model.load_weights('weights-improvement-10-0.45.hdf5')\n",
        "epoch = 10\n",
        "model.fit_generator(data_aug_x, \n",
        "                    epochs=30,\n",
        "                    verbose=1,\n",
        "                    initial_epoch=epoch,\n",
        "                    callbacks=callbacks_list,\n",
        "                    validation_data=(cv_img, cv_l),\n",
        "                    class_weight = class_weight)"
      ],
      "execution_count": 22,
      "outputs": [
        {
          "output_type": "stream",
          "text": [
            "Epoch 11/30\n",
            "449/449 [==============================] - 71s 159ms/step - loss: 2.4167 - acc: 0.4095 - val_loss: 1.5185 - val_acc: 0.4277\n",
            "\n",
            "Epoch 00011: val_acc did not improve from 0.45417\n",
            "Epoch 12/30\n",
            "209/449 [============>.................] - ETA: 35s - loss: 2.3691 - acc: 0.4218"
          ],
          "name": "stdout"
        },
        {
          "output_type": "stream",
          "text": [
            "449/449 [==============================] - 71s 159ms/step - loss: 2.3683 - acc: 0.4209 - val_loss: 1.7392 - val_acc: 0.3514\n",
            "\n",
            "Epoch 00012: val_acc did not improve from 0.45417\n",
            "Epoch 13/30\n",
            "301/449 [===================>..........] - ETA: 21s - loss: 2.3478 - acc: 0.4205"
          ],
          "name": "stdout"
        },
        {
          "output_type": "stream",
          "text": [
            "449/449 [==============================] - 71s 159ms/step - loss: 2.3374 - acc: 0.4244 - val_loss: 1.3916 - val_acc: 0.4634\n",
            "\n",
            "Epoch 00013: val_acc improved from 0.45417 to 0.46336, saving model to weights-improvement-13-0.46.hdf5\n",
            "Epoch 14/30\n",
            "273/449 [=================>............] - ETA: 25s - loss: 2.3110 - acc: 0.4323"
          ],
          "name": "stdout"
        },
        {
          "output_type": "stream",
          "text": [
            "449/449 [==============================] - 72s 159ms/step - loss: 2.3084 - acc: 0.4322 - val_loss: 1.9373 - val_acc: 0.3332\n",
            "\n",
            "Epoch 00014: val_acc did not improve from 0.46336\n",
            "Epoch 15/30\n",
            "320/449 [====================>.........] - ETA: 18s - loss: 2.2972 - acc: 0.4332"
          ],
          "name": "stdout"
        },
        {
          "output_type": "stream",
          "text": [
            "449/449 [==============================] - 71s 159ms/step - loss: 2.2829 - acc: 0.4348 - val_loss: 1.4977 - val_acc: 0.4338\n",
            "\n",
            "Epoch 00015: val_acc did not improve from 0.46336\n",
            "Epoch 16/30\n",
            "334/449 [=====================>........] - ETA: 16s - loss: 2.2717 - acc: 0.4425"
          ],
          "name": "stdout"
        },
        {
          "output_type": "stream",
          "text": [
            "449/449 [==============================] - 72s 159ms/step - loss: 2.2713 - acc: 0.4420 - val_loss: 1.4101 - val_acc: 0.4592\n",
            "\n",
            "Epoch 00016: val_acc did not improve from 0.46336\n",
            "Epoch 17/30\n",
            "338/449 [=====================>........] - ETA: 16s - loss: 2.2276 - acc: 0.4460"
          ],
          "name": "stdout"
        },
        {
          "output_type": "stream",
          "text": [
            "449/449 [==============================] - 72s 159ms/step - loss: 2.2463 - acc: 0.4442 - val_loss: 1.4255 - val_acc: 0.4558\n",
            "\n",
            "Epoch 00017: val_acc did not improve from 0.46336\n",
            "Epoch 18/30\n",
            "340/449 [=====================>........] - ETA: 15s - loss: 2.2128 - acc: 0.4516"
          ],
          "name": "stdout"
        },
        {
          "output_type": "stream",
          "text": [
            "449/449 [==============================] - 71s 158ms/step - loss: 2.2227 - acc: 0.4543 - val_loss: 1.7752 - val_acc: 0.3550\n",
            "\n",
            "Epoch 00018: val_acc did not improve from 0.46336\n",
            "Epoch 19/30\n",
            "340/449 [=====================>........] - ETA: 15s - loss: 2.2133 - acc: 0.4495"
          ],
          "name": "stdout"
        },
        {
          "output_type": "stream",
          "text": [
            "449/449 [==============================] - 71s 159ms/step - loss: 2.2029 - acc: 0.4528 - val_loss: 1.4324 - val_acc: 0.4667\n",
            "\n",
            "Epoch 00019: val_acc improved from 0.46336 to 0.46670, saving model to weights-improvement-19-0.47.hdf5\n",
            "Epoch 20/30\n",
            "283/449 [=================>............] - ETA: 24s - loss: 2.1654 - acc: 0.4588"
          ],
          "name": "stdout"
        },
        {
          "output_type": "stream",
          "text": [
            "449/449 [==============================] - 71s 159ms/step - loss: 2.1867 - acc: 0.4579 - val_loss: 1.6747 - val_acc: 0.3753\n",
            "\n",
            "Epoch 00020: val_acc did not improve from 0.46670\n",
            "Epoch 21/30\n",
            "323/449 [====================>.........] - ETA: 18s - loss: 2.1910 - acc: 0.4596"
          ],
          "name": "stdout"
        },
        {
          "output_type": "stream",
          "text": [
            "449/449 [==============================] - 71s 159ms/step - loss: 2.1837 - acc: 0.4583 - val_loss: 1.4790 - val_acc: 0.4542\n",
            "\n",
            "Epoch 00021: val_acc did not improve from 0.46670\n",
            "Epoch 22/30\n",
            "335/449 [=====================>........] - ETA: 16s - loss: 2.1560 - acc: 0.4688"
          ],
          "name": "stdout"
        },
        {
          "output_type": "stream",
          "text": [
            "449/449 [==============================] - 71s 158ms/step - loss: 2.1599 - acc: 0.4662 - val_loss: 1.3570 - val_acc: 0.4921\n",
            "\n",
            "Epoch 00022: val_acc improved from 0.46670 to 0.49206, saving model to weights-improvement-22-0.49.hdf5\n",
            "Epoch 23/30\n",
            "282/449 [=================>............] - ETA: 24s - loss: 2.1150 - acc: 0.4697"
          ],
          "name": "stdout"
        },
        {
          "output_type": "stream",
          "text": [
            "449/449 [==============================] - 71s 158ms/step - loss: 2.1443 - acc: 0.4693 - val_loss: 1.4749 - val_acc: 0.4494\n",
            "\n",
            "Epoch 00023: val_acc did not improve from 0.49206\n",
            "Epoch 24/30\n",
            "323/449 [====================>.........] - ETA: 18s - loss: 2.1267 - acc: 0.4722"
          ],
          "name": "stdout"
        },
        {
          "output_type": "stream",
          "text": [
            "449/449 [==============================] - 71s 158ms/step - loss: 2.1419 - acc: 0.4668 - val_loss: 1.5000 - val_acc: 0.4458\n",
            "\n",
            "Epoch 00024: val_acc did not improve from 0.49206\n",
            "Epoch 25/30\n",
            "335/449 [=====================>........] - ETA: 16s - loss: 2.1354 - acc: 0.4740"
          ],
          "name": "stdout"
        },
        {
          "output_type": "stream",
          "text": [
            "449/449 [==============================] - 71s 159ms/step - loss: 2.1167 - acc: 0.4762 - val_loss: 1.4105 - val_acc: 0.4812\n",
            "\n",
            "Epoch 00025: val_acc did not improve from 0.49206\n",
            "Epoch 26/30\n",
            "339/449 [=====================>........] - ETA: 16s - loss: 2.0982 - acc: 0.4767"
          ],
          "name": "stdout"
        },
        {
          "output_type": "stream",
          "text": [
            "449/449 [==============================] - 71s 159ms/step - loss: 2.1018 - acc: 0.4774 - val_loss: 1.5501 - val_acc: 0.4235\n",
            "\n",
            "Epoch 00026: val_acc did not improve from 0.49206\n",
            "Epoch 27/30\n",
            "340/449 [=====================>........] - ETA: 15s - loss: 2.0813 - acc: 0.4829"
          ],
          "name": "stdout"
        },
        {
          "output_type": "stream",
          "text": [
            "449/449 [==============================] - 71s 159ms/step - loss: 2.1029 - acc: 0.4768 - val_loss: 1.3770 - val_acc: 0.4859\n",
            "\n",
            "Epoch 00027: val_acc did not improve from 0.49206\n",
            "Epoch 28/30\n",
            "340/449 [=====================>........] - ETA: 15s - loss: 2.0891 - acc: 0.4818"
          ],
          "name": "stdout"
        },
        {
          "output_type": "stream",
          "text": [
            "449/449 [==============================] - 71s 158ms/step - loss: 2.0827 - acc: 0.4827 - val_loss: 1.2947 - val_acc: 0.5177\n",
            "\n",
            "Epoch 00028: val_acc improved from 0.49206 to 0.51769, saving model to weights-improvement-28-0.52.hdf5\n",
            "Epoch 29/30\n",
            "283/449 [=================>............] - ETA: 24s - loss: 2.0904 - acc: 0.4863"
          ],
          "name": "stdout"
        },
        {
          "output_type": "stream",
          "text": [
            "449/449 [==============================] - 71s 159ms/step - loss: 2.0859 - acc: 0.4853 - val_loss: 1.4169 - val_acc: 0.4661\n",
            "\n",
            "Epoch 00029: val_acc did not improve from 0.51769\n",
            "Epoch 30/30\n",
            "324/449 [====================>.........] - ETA: 18s - loss: 2.0573 - acc: 0.4944"
          ],
          "name": "stdout"
        },
        {
          "output_type": "stream",
          "text": [
            "449/449 [==============================] - 71s 158ms/step - loss: 2.0682 - acc: 0.4902 - val_loss: 1.4793 - val_acc: 0.4687\n",
            "\n",
            "Epoch 00030: val_acc did not improve from 0.51769\n"
          ],
          "name": "stdout"
        },
        {
          "output_type": "execute_result",
          "data": {
            "text/plain": [
              "<keras.callbacks.History at 0x7f32399676a0>"
            ]
          },
          "metadata": {
            "tags": []
          },
          "execution_count": 22
        }
      ]
    },
    {
      "metadata": {
        "id": "6JAa5h_jMhbv",
        "colab_type": "code",
        "colab": {
          "autoexec": {
            "startup": false,
            "wait_interval": 0
          }
        }
      },
      "cell_type": "code",
      "source": [
        "!cp *.hdf5 drive/EIP/Facial_Expression_Recognition/"
      ],
      "execution_count": 0,
      "outputs": []
    },
    {
      "metadata": {
        "id": "Noga8KXUx1WL",
        "colab_type": "text"
      },
      "cell_type": "markdown",
      "source": [
        "## Epoch 31-50"
      ]
    },
    {
      "metadata": {
        "id": "OwIzN33aRqzE",
        "colab_type": "code",
        "colab": {
          "autoexec": {
            "startup": false,
            "wait_interval": 0
          },
          "base_uri": "https://localhost:8080/",
          "height": 1446
        },
        "outputId": "8e2c5305-2441-46bd-b6c7-d5188cf6a1a7",
        "executionInfo": {
          "status": "ok",
          "timestamp": 1529555331009,
          "user_tz": -330,
          "elapsed": 1432095,
          "user": {
            "displayName": "suraj b",
            "photoUrl": "https://lh3.googleusercontent.com/a/default-user=s128",
            "userId": "102683608279765749841"
          }
        }
      },
      "cell_type": "code",
      "source": [
        "model.load_weights('weights-improvement-28-0.52.hdf5')\n",
        "epoch = 30\n",
        "model.fit_generator(data_aug_x, \n",
        "                    epochs=50,\n",
        "                    verbose=1,\n",
        "                    initial_epoch=epoch,\n",
        "                    callbacks=callbacks_list,\n",
        "                    validation_data=(cv_img, cv_l),\n",
        "                    class_weight = class_weight)\n",
        "!cp *.hdf5 drive/EIP/Facial_Expression_Recognition/iter_2"
      ],
      "execution_count": 27,
      "outputs": [
        {
          "output_type": "stream",
          "text": [
            "Epoch 31/50\n",
            "449/449 [==============================] - 71s 159ms/step - loss: 2.0718 - acc: 0.4845 - val_loss: 1.3477 - val_acc: 0.5026\n",
            "\n",
            "Epoch 00031: val_acc did not improve from 0.51769\n",
            "Epoch 32/50\n",
            "210/449 [=============>................] - ETA: 35s - loss: 2.0268 - acc: 0.4920"
          ],
          "name": "stdout"
        },
        {
          "output_type": "stream",
          "text": [
            "449/449 [==============================] - 71s 159ms/step - loss: 2.0495 - acc: 0.4919 - val_loss: 1.3710 - val_acc: 0.4809\n",
            "\n",
            "Epoch 00032: val_acc did not improve from 0.51769\n",
            "Epoch 33/50\n",
            "301/449 [===================>..........] - ETA: 21s - loss: 2.0449 - acc: 0.4916"
          ],
          "name": "stdout"
        },
        {
          "output_type": "stream",
          "text": [
            "449/449 [==============================] - 71s 159ms/step - loss: 2.0529 - acc: 0.4891 - val_loss: 1.2915 - val_acc: 0.5205\n",
            "\n",
            "Epoch 00033: val_acc improved from 0.51769 to 0.52048, saving model to weights-improvement-33-0.52.hdf5\n",
            "Epoch 34/50\n",
            "273/449 [=================>............] - ETA: 25s - loss: 2.0427 - acc: 0.4881"
          ],
          "name": "stdout"
        },
        {
          "output_type": "stream",
          "text": [
            "449/449 [==============================] - 71s 158ms/step - loss: 2.0399 - acc: 0.4933 - val_loss: 1.2639 - val_acc: 0.5300\n",
            "\n",
            "Epoch 00034: val_acc improved from 0.52048 to 0.52995, saving model to weights-improvement-34-0.53.hdf5\n",
            "Epoch 35/50\n",
            "266/449 [================>.............] - ETA: 26s - loss: 2.0385 - acc: 0.4932"
          ],
          "name": "stdout"
        },
        {
          "output_type": "stream",
          "text": [
            "449/449 [==============================] - 71s 159ms/step - loss: 2.0344 - acc: 0.4959 - val_loss: 1.3655 - val_acc: 0.4976\n",
            "\n",
            "Epoch 00035: val_acc did not improve from 0.52995\n",
            "Epoch 36/50\n",
            "318/449 [====================>.........] - ETA: 19s - loss: 2.0228 - acc: 0.4972"
          ],
          "name": "stdout"
        },
        {
          "output_type": "stream",
          "text": [
            "449/449 [==============================] - 71s 159ms/step - loss: 2.0249 - acc: 0.4939 - val_loss: 1.4328 - val_acc: 0.4678\n",
            "\n",
            "Epoch 00036: val_acc did not improve from 0.52995\n",
            "Epoch 37/50\n",
            "334/449 [=====================>........] - ETA: 16s - loss: 2.0121 - acc: 0.4987"
          ],
          "name": "stdout"
        },
        {
          "output_type": "stream",
          "text": [
            "449/449 [==============================] - 71s 159ms/step - loss: 2.0160 - acc: 0.4982 - val_loss: 1.3354 - val_acc: 0.5104\n",
            "\n",
            "Epoch 00037: val_acc did not improve from 0.52995\n",
            "Epoch 38/50\n",
            "338/449 [=====================>........] - ETA: 16s - loss: 1.9995 - acc: 0.4978"
          ],
          "name": "stdout"
        },
        {
          "output_type": "stream",
          "text": [
            "449/449 [==============================] - 71s 158ms/step - loss: 2.0115 - acc: 0.4955 - val_loss: 1.3511 - val_acc: 0.4862\n",
            "\n",
            "Epoch 00038: val_acc did not improve from 0.52995\n",
            "Epoch 39/50\n",
            "339/449 [=====================>........] - ETA: 16s - loss: 1.9777 - acc: 0.5042"
          ],
          "name": "stdout"
        },
        {
          "output_type": "stream",
          "text": [
            "449/449 [==============================] - 71s 158ms/step - loss: 1.9837 - acc: 0.5024 - val_loss: 1.5074 - val_acc: 0.4455\n",
            "\n",
            "Epoch 00039: val_acc did not improve from 0.52995\n",
            "Epoch 40/50\n",
            "340/449 [=====================>........] - ETA: 15s - loss: 1.9936 - acc: 0.5015"
          ],
          "name": "stdout"
        },
        {
          "output_type": "stream",
          "text": [
            "449/449 [==============================] - 71s 158ms/step - loss: 1.9904 - acc: 0.5030 - val_loss: 1.2955 - val_acc: 0.5235\n",
            "\n",
            "Epoch 00040: val_acc did not improve from 0.52995\n",
            "Epoch 41/50\n",
            "340/449 [=====================>........] - ETA: 15s - loss: 1.9637 - acc: 0.5092"
          ],
          "name": "stdout"
        },
        {
          "output_type": "stream",
          "text": [
            "449/449 [==============================] - 71s 159ms/step - loss: 1.9775 - acc: 0.5064 - val_loss: 1.3186 - val_acc: 0.5065\n",
            "\n",
            "Epoch 00041: val_acc did not improve from 0.52995\n",
            "Epoch 42/50\n",
            "340/449 [=====================>........] - ETA: 15s - loss: 2.0070 - acc: 0.4980"
          ],
          "name": "stdout"
        },
        {
          "output_type": "stream",
          "text": [
            "449/449 [==============================] - 71s 158ms/step - loss: 1.9957 - acc: 0.4994 - val_loss: 1.2453 - val_acc: 0.5369\n",
            "\n",
            "Epoch 00042: val_acc improved from 0.52995 to 0.53692, saving model to weights-improvement-42-0.54.hdf5\n",
            "Epoch 43/50\n",
            "283/449 [=================>............] - ETA: 24s - loss: 1.9617 - acc: 0.5079"
          ],
          "name": "stdout"
        },
        {
          "output_type": "stream",
          "text": [
            "449/449 [==============================] - 71s 159ms/step - loss: 1.9608 - acc: 0.5088 - val_loss: 1.2937 - val_acc: 0.5249\n",
            "\n",
            "Epoch 00043: val_acc did not improve from 0.53692\n",
            "Epoch 44/50\n",
            "323/449 [====================>.........] - ETA: 18s - loss: 1.9772 - acc: 0.5065"
          ],
          "name": "stdout"
        },
        {
          "output_type": "stream",
          "text": [
            "449/449 [==============================] - 71s 159ms/step - loss: 1.9738 - acc: 0.5073 - val_loss: 1.4044 - val_acc: 0.4932\n",
            "\n",
            "Epoch 00044: val_acc did not improve from 0.53692\n",
            "Epoch 45/50\n",
            "335/449 [=====================>........] - ETA: 16s - loss: 1.9420 - acc: 0.5133"
          ],
          "name": "stdout"
        },
        {
          "output_type": "stream",
          "text": [
            "449/449 [==============================] - 71s 158ms/step - loss: 1.9504 - acc: 0.5142 - val_loss: 1.5344 - val_acc: 0.4391\n",
            "\n",
            "Epoch 00045: val_acc did not improve from 0.53692\n",
            "Epoch 46/50\n",
            "339/449 [=====================>........] - ETA: 16s - loss: 1.9539 - acc: 0.5059"
          ],
          "name": "stdout"
        },
        {
          "output_type": "stream",
          "text": [
            "449/449 [==============================] - 71s 158ms/step - loss: 1.9429 - acc: 0.5104 - val_loss: 1.3246 - val_acc: 0.5130\n",
            "\n",
            "Epoch 00046: val_acc did not improve from 0.53692\n",
            "Epoch 47/50\n",
            "340/449 [=====================>........] - ETA: 15s - loss: 1.9367 - acc: 0.5100"
          ],
          "name": "stdout"
        },
        {
          "output_type": "stream",
          "text": [
            "449/449 [==============================] - 71s 157ms/step - loss: 1.9351 - acc: 0.5112 - val_loss: 1.2440 - val_acc: 0.5277\n",
            "\n",
            "Epoch 00047: val_acc did not improve from 0.53692\n",
            "Epoch 48/50\n",
            "341/449 [=====================>........] - ETA: 15s - loss: 1.9260 - acc: 0.5144"
          ],
          "name": "stdout"
        },
        {
          "output_type": "stream",
          "text": [
            "449/449 [==============================] - 71s 158ms/step - loss: 1.9411 - acc: 0.5144 - val_loss: 1.3842 - val_acc: 0.4962\n",
            "\n",
            "Epoch 00048: val_acc did not improve from 0.53692\n",
            "Epoch 49/50\n",
            "341/449 [=====================>........] - ETA: 15s - loss: 1.9491 - acc: 0.5131"
          ],
          "name": "stdout"
        },
        {
          "output_type": "stream",
          "text": [
            "449/449 [==============================] - 71s 158ms/step - loss: 1.9341 - acc: 0.5150 - val_loss: 1.3464 - val_acc: 0.4943\n",
            "\n",
            "Epoch 00049: val_acc did not improve from 0.53692\n",
            "Epoch 50/50\n",
            "341/449 [=====================>........] - ETA: 15s - loss: 1.9385 - acc: 0.5137"
          ],
          "name": "stdout"
        },
        {
          "output_type": "stream",
          "text": [
            "449/449 [==============================] - 71s 158ms/step - loss: 1.9332 - acc: 0.5144 - val_loss: 1.2613 - val_acc: 0.5255\n",
            "\n",
            "Epoch 00050: val_acc did not improve from 0.53692\n"
          ],
          "name": "stdout"
        }
      ]
    },
    {
      "metadata": {
        "id": "42XAFgjqx6ZZ",
        "colab_type": "text"
      },
      "cell_type": "markdown",
      "source": [
        "## Epoch 51-70"
      ]
    },
    {
      "metadata": {
        "id": "elfz9L_6lzJv",
        "colab_type": "code",
        "colab": {
          "autoexec": {
            "startup": false,
            "wait_interval": 0
          },
          "base_uri": "https://localhost:8080/",
          "height": 1464
        },
        "outputId": "b6b78814-7738-4e76-ca10-f8e133877b7f",
        "executionInfo": {
          "status": "ok",
          "timestamp": 1529556959827,
          "user_tz": -330,
          "elapsed": 1426634,
          "user": {
            "displayName": "suraj b",
            "photoUrl": "https://lh3.googleusercontent.com/a/default-user=s128",
            "userId": "102683608279765749841"
          }
        }
      },
      "cell_type": "code",
      "source": [
        "model.load_weights('weights-improvement-42-0.54.hdf5')\n",
        "epoch = 50\n",
        "model.fit_generator(data_aug_x, \n",
        "                    epochs=70,\n",
        "                    verbose=1,\n",
        "                    initial_epoch=epoch,\n",
        "                    callbacks=callbacks_list,\n",
        "                    validation_data=(cv_img, cv_l),\n",
        "                    class_weight = class_weight)\n",
        "!cp *.hdf5 drive/EIP/Facial_Expression_Recognition/iter_2"
      ],
      "execution_count": 28,
      "outputs": [
        {
          "output_type": "stream",
          "text": [
            "Epoch 51/70\n",
            "449/449 [==============================] - 71s 159ms/step - loss: 1.9916 - acc: 0.5028 - val_loss: 1.3708 - val_acc: 0.4937\n",
            "\n",
            "Epoch 00051: val_acc did not improve from 0.53692\n",
            "Epoch 52/70\n",
            "209/449 [============>.................] - ETA: 35s - loss: 1.9463 - acc: 0.5131"
          ],
          "name": "stdout"
        },
        {
          "output_type": "stream",
          "text": [
            "449/449 [==============================] - 71s 159ms/step - loss: 1.9500 - acc: 0.5138 - val_loss: 1.2894 - val_acc: 0.5166\n",
            "\n",
            "Epoch 00052: val_acc did not improve from 0.53692\n",
            "Epoch 53/70\n",
            "301/449 [===================>..........] - ETA: 21s - loss: 1.9454 - acc: 0.5148"
          ],
          "name": "stdout"
        },
        {
          "output_type": "stream",
          "text": [
            "449/449 [==============================] - 71s 158ms/step - loss: 1.9627 - acc: 0.5123 - val_loss: 1.3689 - val_acc: 0.4870\n",
            "\n",
            "Epoch 00053: val_acc did not improve from 0.53692\n",
            "Epoch 54/70\n",
            "329/449 [====================>.........] - ETA: 17s - loss: 1.9517 - acc: 0.5091"
          ],
          "name": "stdout"
        },
        {
          "output_type": "stream",
          "text": [
            "449/449 [==============================] - 71s 158ms/step - loss: 1.9499 - acc: 0.5100 - val_loss: 1.3849 - val_acc: 0.4893\n",
            "\n",
            "Epoch 00054: val_acc did not improve from 0.53692\n",
            "Epoch 55/70\n",
            "337/449 [=====================>........] - ETA: 16s - loss: 1.9412 - acc: 0.5087"
          ],
          "name": "stdout"
        },
        {
          "output_type": "stream",
          "text": [
            "449/449 [==============================] - 71s 159ms/step - loss: 1.9372 - acc: 0.5097 - val_loss: 1.2609 - val_acc: 0.5313\n",
            "\n",
            "Epoch 00055: val_acc did not improve from 0.53692\n",
            "Epoch 56/70\n",
            "339/449 [=====================>........] - ETA: 16s - loss: 1.9170 - acc: 0.5197"
          ],
          "name": "stdout"
        },
        {
          "output_type": "stream",
          "text": [
            "449/449 [==============================] - 71s 158ms/step - loss: 1.9308 - acc: 0.5179 - val_loss: 1.3811 - val_acc: 0.4884\n",
            "\n",
            "Epoch 00056: val_acc did not improve from 0.53692\n",
            "Epoch 57/70\n",
            "340/449 [=====================>........] - ETA: 16s - loss: 1.9455 - acc: 0.5104"
          ],
          "name": "stdout"
        },
        {
          "output_type": "stream",
          "text": [
            "449/449 [==============================] - 71s 159ms/step - loss: 1.9354 - acc: 0.5122 - val_loss: 1.2661 - val_acc: 0.5180\n",
            "\n",
            "Epoch 00057: val_acc did not improve from 0.53692\n",
            "Epoch 58/70\n",
            "340/449 [=====================>........] - ETA: 15s - loss: 1.9148 - acc: 0.5178"
          ],
          "name": "stdout"
        },
        {
          "output_type": "stream",
          "text": [
            "449/449 [==============================] - 71s 158ms/step - loss: 1.9242 - acc: 0.5171 - val_loss: 1.3287 - val_acc: 0.4999\n",
            "\n",
            "Epoch 00058: val_acc did not improve from 0.53692\n",
            "Epoch 59/70\n",
            "340/449 [=====================>........] - ETA: 15s - loss: 1.9120 - acc: 0.5106"
          ],
          "name": "stdout"
        },
        {
          "output_type": "stream",
          "text": [
            "449/449 [==============================] - 71s 159ms/step - loss: 1.9074 - acc: 0.5153 - val_loss: 1.4096 - val_acc: 0.4606\n",
            "\n",
            "Epoch 00059: val_acc did not improve from 0.53692\n",
            "Epoch 60/70\n",
            "340/449 [=====================>........] - ETA: 15s - loss: 1.9434 - acc: 0.5084"
          ],
          "name": "stdout"
        },
        {
          "output_type": "stream",
          "text": [
            "449/449 [==============================] - 71s 158ms/step - loss: 1.9325 - acc: 0.5135 - val_loss: 1.2565 - val_acc: 0.5336\n",
            "\n",
            "Epoch 00060: val_acc did not improve from 0.53692\n",
            "Epoch 61/70\n",
            "340/449 [=====================>........] - ETA: 16s - loss: 1.9126 - acc: 0.5150"
          ],
          "name": "stdout"
        },
        {
          "output_type": "stream",
          "text": [
            "449/449 [==============================] - 71s 159ms/step - loss: 1.9083 - acc: 0.5172 - val_loss: 1.4257 - val_acc: 0.4859\n",
            "\n",
            "Epoch 00061: val_acc did not improve from 0.53692\n",
            "Epoch 62/70\n",
            "341/449 [=====================>........] - ETA: 15s - loss: 1.9015 - acc: 0.5230"
          ],
          "name": "stdout"
        },
        {
          "output_type": "stream",
          "text": [
            "449/449 [==============================] - 71s 159ms/step - loss: 1.9076 - acc: 0.5206 - val_loss: 1.2854 - val_acc: 0.5294\n",
            "\n",
            "Epoch 00062: val_acc did not improve from 0.53692\n",
            "Epoch 63/70\n",
            "341/449 [=====================>........] - ETA: 15s - loss: 1.8985 - acc: 0.5188"
          ],
          "name": "stdout"
        },
        {
          "output_type": "stream",
          "text": [
            "449/449 [==============================] - 71s 159ms/step - loss: 1.9008 - acc: 0.5201 - val_loss: 1.3617 - val_acc: 0.4971\n",
            "\n",
            "Epoch 00063: val_acc did not improve from 0.53692\n",
            "Epoch 64/70\n",
            "341/449 [=====================>........] - ETA: 15s - loss: 1.8752 - acc: 0.5237"
          ],
          "name": "stdout"
        },
        {
          "output_type": "stream",
          "text": [
            "449/449 [==============================] - 71s 159ms/step - loss: 1.8633 - acc: 0.5265 - val_loss: 1.2267 - val_acc: 0.5294\n",
            "\n",
            "Epoch 00064: val_acc did not improve from 0.53692\n",
            "Epoch 65/70\n",
            "341/449 [=====================>........] - ETA: 15s - loss: 1.8918 - acc: 0.5228"
          ],
          "name": "stdout"
        },
        {
          "output_type": "stream",
          "text": [
            "449/449 [==============================] - 71s 159ms/step - loss: 1.9008 - acc: 0.5204 - val_loss: 1.2456 - val_acc: 0.5339\n",
            "\n",
            "Epoch 00065: val_acc did not improve from 0.53692\n",
            "Epoch 66/70\n",
            "341/449 [=====================>........] - ETA: 15s - loss: 1.8680 - acc: 0.5258"
          ],
          "name": "stdout"
        },
        {
          "output_type": "stream",
          "text": [
            "449/449 [==============================] - 71s 159ms/step - loss: 1.8671 - acc: 0.5254 - val_loss: 1.2707 - val_acc: 0.5219\n",
            "\n",
            "Epoch 00066: val_acc did not improve from 0.53692\n",
            "Epoch 67/70\n",
            "341/449 [=====================>........] - ETA: 15s - loss: 1.8684 - acc: 0.5243"
          ],
          "name": "stdout"
        },
        {
          "output_type": "stream",
          "text": [
            "449/449 [==============================] - 71s 159ms/step - loss: 1.8734 - acc: 0.5267 - val_loss: 1.2317 - val_acc: 0.5364\n",
            "\n",
            "Epoch 00067: val_acc did not improve from 0.53692\n",
            "Epoch 68/70\n",
            "341/449 [=====================>........] - ETA: 15s - loss: 1.8817 - acc: 0.5278"
          ],
          "name": "stdout"
        },
        {
          "output_type": "stream",
          "text": [
            "449/449 [==============================] - 71s 159ms/step - loss: 1.8758 - acc: 0.5282 - val_loss: 1.2089 - val_acc: 0.5447\n",
            "\n",
            "Epoch 00068: val_acc improved from 0.53692 to 0.54472, saving model to weights-improvement-68-0.54.hdf5\n",
            "Epoch 69/70\n",
            "283/449 [=================>............] - ETA: 24s - loss: 1.8513 - acc: 0.5328"
          ],
          "name": "stdout"
        },
        {
          "output_type": "stream",
          "text": [
            "449/449 [==============================] - 71s 159ms/step - loss: 1.8507 - acc: 0.5295 - val_loss: 1.2192 - val_acc: 0.5430\n",
            "\n",
            "Epoch 00069: val_acc did not improve from 0.54472\n",
            "Epoch 70/70\n",
            "323/449 [====================>.........] - ETA: 18s - loss: 1.8647 - acc: 0.5348"
          ],
          "name": "stdout"
        },
        {
          "output_type": "stream",
          "text": [
            "449/449 [==============================] - 71s 159ms/step - loss: 1.8731 - acc: 0.5309 - val_loss: 1.2278 - val_acc: 0.5403\n",
            "\n",
            "Epoch 00070: val_acc did not improve from 0.54472\n"
          ],
          "name": "stdout"
        },
        {
          "output_type": "execute_result",
          "data": {
            "text/plain": [
              "<keras.callbacks.History at 0x7f3239993198>"
            ]
          },
          "metadata": {
            "tags": []
          },
          "execution_count": 28
        }
      ]
    },
    {
      "metadata": {
        "id": "ls2PwQ_5FaE7",
        "colab_type": "code",
        "colab": {
          "autoexec": {
            "startup": false,
            "wait_interval": 0
          }
        }
      },
      "cell_type": "code",
      "source": [
        "!cp *.hdf5 drive/EIP/Facial_Expression_Recognition/iter_2"
      ],
      "execution_count": 0,
      "outputs": []
    },
    {
      "metadata": {
        "id": "Q85Idiibx_8P",
        "colab_type": "text"
      },
      "cell_type": "markdown",
      "source": [
        "## Epoch 71-80"
      ]
    },
    {
      "metadata": {
        "id": "Vy-VvVW4FpKf",
        "colab_type": "code",
        "colab": {
          "autoexec": {
            "startup": false,
            "wait_interval": 0
          },
          "base_uri": "https://localhost:8080/",
          "height": 732
        },
        "outputId": "e49b7f93-062a-4610-ed95-631f4b7d3911",
        "executionInfo": {
          "status": "ok",
          "timestamp": 1529557943918,
          "user_tz": -330,
          "elapsed": 723771,
          "user": {
            "displayName": "suraj b",
            "photoUrl": "https://lh3.googleusercontent.com/a/default-user=s128",
            "userId": "102683608279765749841"
          }
        }
      },
      "cell_type": "code",
      "source": [
        "model.load_weights('weights-improvement-68-0.54.hdf5')\n",
        "epoch = 70\n",
        "model.fit_generator(data_aug_x, \n",
        "                    epochs=80,\n",
        "                    verbose=1,\n",
        "                    initial_epoch=epoch,\n",
        "                    callbacks=callbacks_list,\n",
        "                    validation_data=(cv_img, cv_l),\n",
        "                    class_weight = class_weight)\n",
        "!cp *.hdf5 drive/EIP/Facial_Expression_Recognition/iter_2"
      ],
      "execution_count": 31,
      "outputs": [
        {
          "output_type": "stream",
          "text": [
            "Epoch 71/80\n",
            "449/449 [==============================] - 72s 160ms/step - loss: 1.8584 - acc: 0.5261 - val_loss: 1.6233 - val_acc: 0.4347\n",
            "\n",
            "Epoch 00071: val_acc did not improve from 0.54472\n",
            "Epoch 72/80\n",
            "209/449 [============>.................] - ETA: 35s - loss: 1.8294 - acc: 0.5333"
          ],
          "name": "stdout"
        },
        {
          "output_type": "stream",
          "text": [
            "449/449 [==============================] - 72s 160ms/step - loss: 1.8428 - acc: 0.5287 - val_loss: 1.3355 - val_acc: 0.5135\n",
            "\n",
            "Epoch 00072: val_acc did not improve from 0.54472\n",
            "Epoch 73/80\n",
            "301/449 [===================>..........] - ETA: 21s - loss: 1.8108 - acc: 0.5398"
          ],
          "name": "stdout"
        },
        {
          "output_type": "stream",
          "text": [
            "449/449 [==============================] - 72s 160ms/step - loss: 1.8417 - acc: 0.5338 - val_loss: 1.2496 - val_acc: 0.5344\n",
            "\n",
            "Epoch 00073: val_acc did not improve from 0.54472\n",
            "Epoch 74/80\n",
            "329/449 [====================>.........] - ETA: 17s - loss: 1.8217 - acc: 0.5364"
          ],
          "name": "stdout"
        },
        {
          "output_type": "stream",
          "text": [
            "449/449 [==============================] - 71s 159ms/step - loss: 1.8374 - acc: 0.5324 - val_loss: 1.3060 - val_acc: 0.5169\n",
            "\n",
            "Epoch 00074: val_acc did not improve from 0.54472\n",
            "Epoch 75/80\n",
            "337/449 [=====================>........] - ETA: 16s - loss: 1.8560 - acc: 0.5271"
          ],
          "name": "stdout"
        },
        {
          "output_type": "stream",
          "text": [
            "449/449 [==============================] - 72s 160ms/step - loss: 1.8497 - acc: 0.5289 - val_loss: 1.3449 - val_acc: 0.4985\n",
            "\n",
            "Epoch 00075: val_acc did not improve from 0.54472\n",
            "Epoch 76/80\n",
            "339/449 [=====================>........] - ETA: 16s - loss: 1.8615 - acc: 0.5241"
          ],
          "name": "stdout"
        },
        {
          "output_type": "stream",
          "text": [
            "449/449 [==============================] - 71s 159ms/step - loss: 1.8527 - acc: 0.5279 - val_loss: 1.2163 - val_acc: 0.5475\n",
            "\n",
            "Epoch 00076: val_acc improved from 0.54472 to 0.54751, saving model to weights-improvement-76-0.55.hdf5\n",
            "Epoch 77/80\n",
            "283/449 [=================>............] - ETA: 24s - loss: 1.8071 - acc: 0.5395"
          ],
          "name": "stdout"
        },
        {
          "output_type": "stream",
          "text": [
            "449/449 [==============================] - 72s 160ms/step - loss: 1.8350 - acc: 0.5362 - val_loss: 1.5807 - val_acc: 0.4235\n",
            "\n",
            "Epoch 00077: val_acc did not improve from 0.54751\n",
            "Epoch 78/80\n",
            "323/449 [====================>.........] - ETA: 18s - loss: 1.8480 - acc: 0.5290"
          ],
          "name": "stdout"
        },
        {
          "output_type": "stream",
          "text": [
            "449/449 [==============================] - 71s 159ms/step - loss: 1.8289 - acc: 0.5310 - val_loss: 1.2570 - val_acc: 0.5308\n",
            "\n",
            "Epoch 00078: val_acc did not improve from 0.54751\n",
            "Epoch 79/80\n",
            "335/449 [=====================>........] - ETA: 16s - loss: 1.8159 - acc: 0.5355"
          ],
          "name": "stdout"
        },
        {
          "output_type": "stream",
          "text": [
            "449/449 [==============================] - 71s 159ms/step - loss: 1.8166 - acc: 0.5368 - val_loss: 1.2685 - val_acc: 0.5316\n",
            "\n",
            "Epoch 00079: val_acc did not improve from 0.54751\n",
            "Epoch 80/80\n",
            "339/449 [=====================>........] - ETA: 16s - loss: 1.8172 - acc: 0.5352"
          ],
          "name": "stdout"
        },
        {
          "output_type": "stream",
          "text": [
            "449/449 [==============================] - 71s 159ms/step - loss: 1.8095 - acc: 0.5369 - val_loss: 1.3227 - val_acc: 0.5021\n",
            "\n",
            "Epoch 00080: val_acc did not improve from 0.54751\n"
          ],
          "name": "stdout"
        }
      ]
    },
    {
      "metadata": {
        "id": "uCnEahRIyEeX",
        "colab_type": "text"
      },
      "cell_type": "markdown",
      "source": [
        "## Epoch 80-90"
      ]
    },
    {
      "metadata": {
        "id": "4TId2AiXbBE8",
        "colab_type": "code",
        "colab": {
          "autoexec": {
            "startup": false,
            "wait_interval": 0
          },
          "base_uri": "https://localhost:8080/",
          "height": 732
        },
        "outputId": "ea790357-b06a-4e0a-9064-61ecfce604cf",
        "executionInfo": {
          "status": "ok",
          "timestamp": 1529559435494,
          "user_tz": -330,
          "elapsed": 730826,
          "user": {
            "displayName": "suraj b",
            "photoUrl": "https://lh3.googleusercontent.com/a/default-user=s128",
            "userId": "102683608279765749841"
          }
        }
      },
      "cell_type": "code",
      "source": [
        "#changed dropout here. Dec it.\n",
        "model.load_weights('weights-improvement-76-0.55.hdf5')\n",
        "epoch = 80\n",
        "model.fit_generator(data_aug_x, \n",
        "                    epochs=90,\n",
        "                    verbose=1,\n",
        "                    initial_epoch=epoch,\n",
        "                    callbacks=callbacks_list,\n",
        "                    validation_data=(cv_img, cv_l),\n",
        "                    class_weight = class_weight)\n",
        "!cp *.hdf5 drive/EIP/Facial_Expression_Recognition/iter_2"
      ],
      "execution_count": 34,
      "outputs": [
        {
          "output_type": "stream",
          "text": [
            "Epoch 81/90\n",
            "449/449 [==============================] - 73s 164ms/step - loss: 1.8005 - acc: 0.5398 - val_loss: 1.2911 - val_acc: 0.5261\n",
            "\n",
            "Epoch 00081: val_acc improved from -inf to 0.52605, saving model to weights-improvement-81-0.53.hdf5\n",
            "Epoch 82/90\n",
            "175/449 [==========>...................] - ETA: 40s - loss: 1.7910 - acc: 0.5415"
          ],
          "name": "stdout"
        },
        {
          "output_type": "stream",
          "text": [
            "449/449 [==============================] - 71s 159ms/step - loss: 1.7845 - acc: 0.5447 - val_loss: 1.3052 - val_acc: 0.5124\n",
            "\n",
            "Epoch 00082: val_acc did not improve from 0.52605\n",
            "Epoch 83/90\n",
            "291/449 [==================>...........] - ETA: 23s - loss: 1.7947 - acc: 0.5378"
          ],
          "name": "stdout"
        },
        {
          "output_type": "stream",
          "text": [
            "449/449 [==============================] - 71s 159ms/step - loss: 1.7887 - acc: 0.5393 - val_loss: 1.2955 - val_acc: 0.5116\n",
            "\n",
            "Epoch 00083: val_acc did not improve from 0.52605\n",
            "Epoch 84/90\n",
            "326/449 [====================>.........] - ETA: 18s - loss: 1.7814 - acc: 0.5458"
          ],
          "name": "stdout"
        },
        {
          "output_type": "stream",
          "text": [
            "449/449 [==============================] - 71s 159ms/step - loss: 1.7901 - acc: 0.5430 - val_loss: 1.2457 - val_acc: 0.5249\n",
            "\n",
            "Epoch 00084: val_acc did not improve from 0.52605\n",
            "Epoch 85/90\n",
            "336/449 [=====================>........] - ETA: 16s - loss: 1.7845 - acc: 0.5429"
          ],
          "name": "stdout"
        },
        {
          "output_type": "stream",
          "text": [
            "449/449 [==============================] - 71s 159ms/step - loss: 1.7819 - acc: 0.5423 - val_loss: 1.2632 - val_acc: 0.5210\n",
            "\n",
            "Epoch 00085: val_acc did not improve from 0.52605\n",
            "Epoch 86/90\n",
            "339/449 [=====================>........] - ETA: 16s - loss: 1.7786 - acc: 0.5441"
          ],
          "name": "stdout"
        },
        {
          "output_type": "stream",
          "text": [
            "449/449 [==============================] - 71s 159ms/step - loss: 1.7825 - acc: 0.5440 - val_loss: 1.3262 - val_acc: 0.5085\n",
            "\n",
            "Epoch 00086: val_acc did not improve from 0.52605\n",
            "Epoch 87/90\n",
            "341/449 [=====================>........] - ETA: 15s - loss: 1.7718 - acc: 0.5447"
          ],
          "name": "stdout"
        },
        {
          "output_type": "stream",
          "text": [
            "449/449 [==============================] - 72s 159ms/step - loss: 1.7718 - acc: 0.5450 - val_loss: 1.2495 - val_acc: 0.5380\n",
            "\n",
            "Epoch 00087: val_acc improved from 0.52605 to 0.53803, saving model to weights-improvement-87-0.54.hdf5\n",
            "Epoch 88/90\n",
            "283/449 [=================>............] - ETA: 24s - loss: 1.7455 - acc: 0.5462"
          ],
          "name": "stdout"
        },
        {
          "output_type": "stream",
          "text": [
            "449/449 [==============================] - 71s 159ms/step - loss: 1.7538 - acc: 0.5479 - val_loss: 1.2459 - val_acc: 0.5414\n",
            "\n",
            "Epoch 00088: val_acc improved from 0.53803 to 0.54138, saving model to weights-improvement-88-0.54.hdf5\n",
            "Epoch 89/90\n",
            "269/449 [================>.............] - ETA: 26s - loss: 1.7772 - acc: 0.5452"
          ],
          "name": "stdout"
        },
        {
          "output_type": "stream",
          "text": [
            "449/449 [==============================] - 71s 159ms/step - loss: 1.7688 - acc: 0.5452 - val_loss: 1.2996 - val_acc: 0.5213\n",
            "\n",
            "Epoch 00089: val_acc did not improve from 0.54138\n",
            "Epoch 90/90\n",
            "319/449 [====================>.........] - ETA: 19s - loss: 1.7481 - acc: 0.5552"
          ],
          "name": "stdout"
        },
        {
          "output_type": "stream",
          "text": [
            "449/449 [==============================] - 72s 160ms/step - loss: 1.7505 - acc: 0.5547 - val_loss: 1.2546 - val_acc: 0.5319\n",
            "\n",
            "Epoch 00090: val_acc did not improve from 0.54138\n"
          ],
          "name": "stdout"
        }
      ]
    },
    {
      "metadata": {
        "id": "abrTcHVvKvzs",
        "colab_type": "code",
        "colab": {
          "autoexec": {
            "startup": false,
            "wait_interval": 0
          }
        }
      },
      "cell_type": "code",
      "source": [
        "!cp *.hdf5 drive/EIP/Facial_Expression_Recognition/"
      ],
      "execution_count": 0,
      "outputs": []
    },
    {
      "metadata": {
        "id": "q8GtXr77Kyel",
        "colab_type": "text"
      },
      "cell_type": "markdown",
      "source": [
        "## Epochs 90-100"
      ]
    },
    {
      "metadata": {
        "id": "-N0mJ21jKmxh",
        "colab_type": "code",
        "colab": {
          "autoexec": {
            "startup": false,
            "wait_interval": 0
          },
          "base_uri": "https://localhost:8080/",
          "height": 732
        },
        "outputId": "ae8dd0d9-c71a-4a92-c07c-394a050ec646",
        "executionInfo": {
          "status": "ok",
          "timestamp": 1529560228932,
          "user_tz": -330,
          "elapsed": 726388,
          "user": {
            "displayName": "suraj b",
            "photoUrl": "https://lh3.googleusercontent.com/a/default-user=s128",
            "userId": "102683608279765749841"
          }
        }
      },
      "cell_type": "code",
      "source": [
        "model.load_weights('weights-improvement-88-0.54.hdf5')\n",
        "epoch = 90\n",
        "model.fit_generator(data_aug_x, \n",
        "                    epochs=100,\n",
        "                    verbose=1,\n",
        "                    initial_epoch=epoch,\n",
        "                    callbacks=callbacks_list,\n",
        "                    validation_data=(cv_img, cv_l),\n",
        "                    class_weight = class_weight)\n",
        "!cp *.hdf5 drive/EIP/Facial_Expression_Recognition/iter_2"
      ],
      "execution_count": 35,
      "outputs": [
        {
          "output_type": "stream",
          "text": [
            "Epoch 91/100\n",
            "449/449 [==============================] - 71s 159ms/step - loss: 1.7556 - acc: 0.5450 - val_loss: 1.2291 - val_acc: 0.5489\n",
            "\n",
            "Epoch 00091: val_acc improved from 0.54138 to 0.54890, saving model to weights-improvement-91-0.55.hdf5\n",
            "Epoch 92/100\n",
            "172/449 [==========>...................] - ETA: 40s - loss: 1.7079 - acc: 0.5544"
          ],
          "name": "stdout"
        },
        {
          "output_type": "stream",
          "text": [
            "449/449 [==============================] - 72s 159ms/step - loss: 1.7244 - acc: 0.5502 - val_loss: 1.3265 - val_acc: 0.5121\n",
            "\n",
            "Epoch 00092: val_acc did not improve from 0.54890\n",
            "Epoch 93/100\n",
            "289/449 [==================>...........] - ETA: 23s - loss: 1.7177 - acc: 0.5555"
          ],
          "name": "stdout"
        },
        {
          "output_type": "stream",
          "text": [
            "449/449 [==============================] - 72s 160ms/step - loss: 1.7423 - acc: 0.5514 - val_loss: 1.2378 - val_acc: 0.5492\n",
            "\n",
            "Epoch 00093: val_acc improved from 0.54890 to 0.54918, saving model to weights-improvement-93-0.55.hdf5\n",
            "Epoch 94/100\n",
            "269/449 [================>.............] - ETA: 26s - loss: 1.7058 - acc: 0.5529"
          ],
          "name": "stdout"
        },
        {
          "output_type": "stream",
          "text": [
            "449/449 [==============================] - 72s 159ms/step - loss: 1.7266 - acc: 0.5514 - val_loss: 1.2693 - val_acc: 0.5355\n",
            "\n",
            "Epoch 00094: val_acc did not improve from 0.54918\n",
            "Epoch 95/100\n",
            "318/449 [====================>.........] - ETA: 19s - loss: 1.7360 - acc: 0.5534"
          ],
          "name": "stdout"
        },
        {
          "output_type": "stream",
          "text": [
            "449/449 [==============================] - 71s 158ms/step - loss: 1.7297 - acc: 0.5525 - val_loss: 1.2515 - val_acc: 0.5300\n",
            "\n",
            "Epoch 00095: val_acc did not improve from 0.54918\n",
            "Epoch 96/100\n",
            "333/449 [=====================>........] - ETA: 17s - loss: 1.7201 - acc: 0.5530"
          ],
          "name": "stdout"
        },
        {
          "output_type": "stream",
          "text": [
            "449/449 [==============================] - 71s 159ms/step - loss: 1.7207 - acc: 0.5540 - val_loss: 1.3497 - val_acc: 0.4987\n",
            "\n",
            "Epoch 00096: val_acc did not improve from 0.54918\n",
            "Epoch 97/100\n",
            "337/449 [=====================>........] - ETA: 16s - loss: 1.7443 - acc: 0.5507"
          ],
          "name": "stdout"
        },
        {
          "output_type": "stream",
          "text": [
            "449/449 [==============================] - 71s 159ms/step - loss: 1.7327 - acc: 0.5520 - val_loss: 1.2023 - val_acc: 0.5497\n",
            "\n",
            "Epoch 00097: val_acc improved from 0.54918 to 0.54974, saving model to weights-improvement-97-0.55.hdf5\n",
            "Epoch 98/100\n",
            "281/449 [=================>............] - ETA: 24s - loss: 1.6813 - acc: 0.5554"
          ],
          "name": "stdout"
        },
        {
          "output_type": "stream",
          "text": [
            "449/449 [==============================] - 72s 159ms/step - loss: 1.6970 - acc: 0.5578 - val_loss: 1.2135 - val_acc: 0.5497\n",
            "\n",
            "Epoch 00098: val_acc improved from 0.54974 to 0.54974, saving model to weights-improvement-98-0.55.hdf5\n",
            "Epoch 99/100\n",
            "267/449 [================>.............] - ETA: 26s - loss: 1.7101 - acc: 0.5536"
          ],
          "name": "stdout"
        },
        {
          "output_type": "stream",
          "text": [
            "449/449 [==============================] - 72s 159ms/step - loss: 1.7497 - acc: 0.5482 - val_loss: 1.3606 - val_acc: 0.5001\n",
            "\n",
            "Epoch 00099: val_acc did not improve from 0.54974\n",
            "Epoch 100/100\n",
            "316/449 [====================>.........] - ETA: 19s - loss: 1.7074 - acc: 0.5574"
          ],
          "name": "stdout"
        },
        {
          "output_type": "stream",
          "text": [
            "449/449 [==============================] - 71s 159ms/step - loss: 1.7156 - acc: 0.5528 - val_loss: 1.3382 - val_acc: 0.4979\n",
            "\n",
            "Epoch 00100: val_acc did not improve from 0.54974\n"
          ],
          "name": "stdout"
        }
      ]
    },
    {
      "metadata": {
        "id": "QHS1GN575xSG",
        "colab_type": "text"
      },
      "cell_type": "markdown",
      "source": [
        "## Epochs 100-120"
      ]
    },
    {
      "metadata": {
        "id": "fyE9Od6S5wnO",
        "colab_type": "code",
        "colab": {
          "autoexec": {
            "startup": false,
            "wait_interval": 0
          },
          "base_uri": "https://localhost:8080/",
          "height": 1446
        },
        "outputId": "0782446e-6993-4354-c322-05ef60688e4c",
        "executionInfo": {
          "status": "ok",
          "timestamp": 1529561856274,
          "user_tz": -330,
          "elapsed": 1444158,
          "user": {
            "displayName": "suraj b",
            "photoUrl": "https://lh3.googleusercontent.com/a/default-user=s128",
            "userId": "102683608279765749841"
          }
        }
      },
      "cell_type": "code",
      "source": [
        "model.load_weights('weights-improvement-98-0.55.hdf5')\n",
        "epoch = 100\n",
        "model.fit_generator(data_aug_x, \n",
        "                    epochs=120,\n",
        "                    verbose=1,\n",
        "                    initial_epoch=epoch,\n",
        "                    callbacks=callbacks_list,\n",
        "                    validation_data=(cv_img, cv_l),\n",
        "                    class_weight = class_weight)\n",
        "!cp *.hdf5 drive/EIP/Facial_Expression_Recognition/iter_2"
      ],
      "execution_count": 38,
      "outputs": [
        {
          "output_type": "stream",
          "text": [
            "Epoch 101/120\n",
            "449/449 [==============================] - 72s 160ms/step - loss: 1.7290 - acc: 0.5508 - val_loss: 1.6593 - val_acc: 0.4374\n",
            "\n",
            "Epoch 00101: val_acc did not improve from 0.54974\n",
            "Epoch 102/120\n",
            "203/449 [============>.................] - ETA: 36s - loss: 1.7248 - acc: 0.5539"
          ],
          "name": "stdout"
        },
        {
          "output_type": "stream",
          "text": [
            "449/449 [==============================] - 72s 159ms/step - loss: 1.7330 - acc: 0.5516 - val_loss: 1.2861 - val_acc: 0.5252\n",
            "\n",
            "Epoch 00102: val_acc did not improve from 0.54974\n",
            "Epoch 103/120\n",
            "297/449 [==================>...........] - ETA: 22s - loss: 1.7125 - acc: 0.5586"
          ],
          "name": "stdout"
        },
        {
          "output_type": "stream",
          "text": [
            "449/449 [==============================] - 71s 159ms/step - loss: 1.7240 - acc: 0.5562 - val_loss: 1.1791 - val_acc: 0.5584\n",
            "\n",
            "Epoch 00103: val_acc improved from 0.54974 to 0.55837, saving model to weights-improvement-103-0.56.hdf5\n",
            "Epoch 104/120\n",
            "270/449 [=================>............] - ETA: 26s - loss: 1.7322 - acc: 0.5534"
          ],
          "name": "stdout"
        },
        {
          "output_type": "stream",
          "text": [
            "449/449 [==============================] - 71s 159ms/step - loss: 1.7097 - acc: 0.5563 - val_loss: 1.1975 - val_acc: 0.5548\n",
            "\n",
            "Epoch 00104: val_acc did not improve from 0.55837\n",
            "Epoch 105/120\n",
            "317/449 [====================>.........] - ETA: 19s - loss: 1.6962 - acc: 0.5582"
          ],
          "name": "stdout"
        },
        {
          "output_type": "stream",
          "text": [
            "449/449 [==============================] - 71s 159ms/step - loss: 1.7063 - acc: 0.5578 - val_loss: 1.2507 - val_acc: 0.5380\n",
            "\n",
            "Epoch 00105: val_acc did not improve from 0.55837\n",
            "Epoch 106/120\n",
            "331/449 [=====================>........] - ETA: 17s - loss: 1.6819 - acc: 0.5637"
          ],
          "name": "stdout"
        },
        {
          "output_type": "stream",
          "text": [
            "449/449 [==============================] - 72s 160ms/step - loss: 1.7038 - acc: 0.5606 - val_loss: 1.2921 - val_acc: 0.5199\n",
            "\n",
            "Epoch 00106: val_acc did not improve from 0.55837\n",
            "Epoch 107/120\n",
            "335/449 [=====================>........] - ETA: 16s - loss: 1.6860 - acc: 0.5568"
          ],
          "name": "stdout"
        },
        {
          "output_type": "stream",
          "text": [
            "449/449 [==============================] - 72s 160ms/step - loss: 1.6961 - acc: 0.5564 - val_loss: 1.3108 - val_acc: 0.5208\n",
            "\n",
            "Epoch 00107: val_acc did not improve from 0.55837\n",
            "Epoch 108/120\n",
            "336/449 [=====================>........] - ETA: 16s - loss: 1.7135 - acc: 0.5547"
          ],
          "name": "stdout"
        },
        {
          "output_type": "stream",
          "text": [
            "449/449 [==============================] - 72s 160ms/step - loss: 1.6999 - acc: 0.5577 - val_loss: 1.2863 - val_acc: 0.5208\n",
            "\n",
            "Epoch 00108: val_acc did not improve from 0.55837\n",
            "Epoch 109/120\n",
            "337/449 [=====================>........] - ETA: 16s - loss: 1.6709 - acc: 0.5626"
          ],
          "name": "stdout"
        },
        {
          "output_type": "stream",
          "text": [
            "449/449 [==============================] - 72s 160ms/step - loss: 1.6796 - acc: 0.5593 - val_loss: 1.2270 - val_acc: 0.5461\n",
            "\n",
            "Epoch 00109: val_acc did not improve from 0.55837\n",
            "Epoch 110/120\n",
            "337/449 [=====================>........] - ETA: 16s - loss: 1.6774 - acc: 0.5630"
          ],
          "name": "stdout"
        },
        {
          "output_type": "stream",
          "text": [
            "449/449 [==============================] - 72s 160ms/step - loss: 1.6795 - acc: 0.5628 - val_loss: 1.2922 - val_acc: 0.5180\n",
            "\n",
            "Epoch 00110: val_acc did not improve from 0.55837\n",
            "Epoch 111/120\n",
            "337/449 [=====================>........] - ETA: 16s - loss: 1.6870 - acc: 0.5613"
          ],
          "name": "stdout"
        },
        {
          "output_type": "stream",
          "text": [
            "449/449 [==============================] - 72s 160ms/step - loss: 1.6769 - acc: 0.5624 - val_loss: 1.2973 - val_acc: 0.5096\n",
            "\n",
            "Epoch 00111: val_acc did not improve from 0.55837\n",
            "Epoch 112/120\n",
            "337/449 [=====================>........] - ETA: 16s - loss: 1.7078 - acc: 0.5535"
          ],
          "name": "stdout"
        },
        {
          "output_type": "stream",
          "text": [
            "449/449 [==============================] - 72s 160ms/step - loss: 1.7136 - acc: 0.5537 - val_loss: 1.2270 - val_acc: 0.5453\n",
            "\n",
            "Epoch 00112: val_acc did not improve from 0.55837\n",
            "Epoch 113/120\n",
            "337/449 [=====================>........] - ETA: 16s - loss: 1.6753 - acc: 0.5630"
          ],
          "name": "stdout"
        },
        {
          "output_type": "stream",
          "text": [
            "449/449 [==============================] - 72s 160ms/step - loss: 1.6825 - acc: 0.5618 - val_loss: 1.2643 - val_acc: 0.5417\n",
            "\n",
            "Epoch 00113: val_acc did not improve from 0.55837\n",
            "Epoch 114/120\n",
            "337/449 [=====================>........] - ETA: 16s - loss: 1.7036 - acc: 0.5607"
          ],
          "name": "stdout"
        },
        {
          "output_type": "stream",
          "text": [
            "449/449 [==============================] - 72s 160ms/step - loss: 1.6923 - acc: 0.5614 - val_loss: 1.2094 - val_acc: 0.5595\n",
            "\n",
            "Epoch 00114: val_acc improved from 0.55837 to 0.55949, saving model to weights-improvement-114-0.56.hdf5\n",
            "Epoch 115/120\n",
            "279/449 [=================>............] - ETA: 25s - loss: 1.6739 - acc: 0.5669"
          ],
          "name": "stdout"
        },
        {
          "output_type": "stream",
          "text": [
            "449/449 [==============================] - 72s 160ms/step - loss: 1.6725 - acc: 0.5663 - val_loss: 1.2822 - val_acc: 0.5255\n",
            "\n",
            "Epoch 00115: val_acc did not improve from 0.55949\n",
            "Epoch 116/120\n",
            "320/449 [====================>.........] - ETA: 19s - loss: 1.6473 - acc: 0.5667"
          ],
          "name": "stdout"
        },
        {
          "output_type": "stream",
          "text": [
            "449/449 [==============================] - 72s 160ms/step - loss: 1.6496 - acc: 0.5665 - val_loss: 1.2325 - val_acc: 0.5403\n",
            "\n",
            "Epoch 00116: val_acc did not improve from 0.55949\n",
            "Epoch 117/120\n",
            "332/449 [=====================>........] - ETA: 17s - loss: 1.6627 - acc: 0.5660"
          ],
          "name": "stdout"
        },
        {
          "output_type": "stream",
          "text": [
            "449/449 [==============================] - 71s 159ms/step - loss: 1.6570 - acc: 0.5683 - val_loss: 1.2694 - val_acc: 0.5300\n",
            "\n",
            "Epoch 00117: val_acc did not improve from 0.55949\n",
            "Epoch 118/120\n",
            "335/449 [=====================>........] - ETA: 16s - loss: 1.6569 - acc: 0.5652"
          ],
          "name": "stdout"
        },
        {
          "output_type": "stream",
          "text": [
            "449/449 [==============================] - 72s 160ms/step - loss: 1.6562 - acc: 0.5663 - val_loss: 1.2707 - val_acc: 0.5277\n",
            "\n",
            "Epoch 00118: val_acc did not improve from 0.55949\n",
            "Epoch 119/120\n",
            "336/449 [=====================>........] - ETA: 16s - loss: 1.6378 - acc: 0.5687"
          ],
          "name": "stdout"
        },
        {
          "output_type": "stream",
          "text": [
            "449/449 [==============================] - 72s 160ms/step - loss: 1.6563 - acc: 0.5641 - val_loss: 1.3035 - val_acc: 0.5185\n",
            "\n",
            "Epoch 00119: val_acc did not improve from 0.55949\n",
            "Epoch 120/120\n",
            "337/449 [=====================>........] - ETA: 16s - loss: 1.6624 - acc: 0.5641"
          ],
          "name": "stdout"
        },
        {
          "output_type": "stream",
          "text": [
            "449/449 [==============================] - 72s 160ms/step - loss: 1.6531 - acc: 0.5666 - val_loss: 1.2490 - val_acc: 0.5325\n",
            "\n",
            "Epoch 00120: val_acc did not improve from 0.55949\n"
          ],
          "name": "stdout"
        }
      ]
    },
    {
      "metadata": {
        "id": "NyDDRVWXH9wu",
        "colab_type": "text"
      },
      "cell_type": "markdown",
      "source": [
        "## Epochs 121-140"
      ]
    },
    {
      "metadata": {
        "id": "jOwyBNQ4H_zh",
        "colab_type": "code",
        "colab": {
          "autoexec": {
            "startup": false,
            "wait_interval": 0
          },
          "base_uri": "https://localhost:8080/",
          "height": 1446
        },
        "outputId": "1ecc27df-05c8-4773-860c-d56d703902f2",
        "executionInfo": {
          "status": "ok",
          "timestamp": 1529565572085,
          "user_tz": -330,
          "elapsed": 1435728,
          "user": {
            "displayName": "suraj b",
            "photoUrl": "https://lh3.googleusercontent.com/a/default-user=s128",
            "userId": "102683608279765749841"
          }
        }
      },
      "cell_type": "code",
      "source": [
        "model.load_weights('weights-improvement-114-0.56.hdf5')\n",
        "epoch = 120\n",
        "model.fit_generator(data_aug_x, \n",
        "                    epochs=140,\n",
        "                    verbose=1,\n",
        "                    initial_epoch=epoch,\n",
        "                    callbacks=callbacks_list,\n",
        "                    validation_data=(cv_img, cv_l),\n",
        "                    class_weight = class_weight)\n",
        "!cp *.hdf5 drive/EIP/Facial_Expression_Recognition/iter_2"
      ],
      "execution_count": 41,
      "outputs": [
        {
          "output_type": "stream",
          "text": [
            "Epoch 121/140\n",
            "449/449 [==============================] - 71s 159ms/step - loss: 1.6813 - acc: 0.5632 - val_loss: 1.2712 - val_acc: 0.5366\n",
            "\n",
            "Epoch 00121: val_acc did not improve from 0.55949\n",
            "Epoch 122/140\n",
            "203/449 [============>.................] - ETA: 36s - loss: 1.6284 - acc: 0.5704"
          ],
          "name": "stdout"
        },
        {
          "output_type": "stream",
          "text": [
            "449/449 [==============================] - 71s 159ms/step - loss: 1.6544 - acc: 0.5658 - val_loss: 1.2699 - val_acc: 0.5417\n",
            "\n",
            "Epoch 00122: val_acc did not improve from 0.55949\n",
            "Epoch 123/140\n",
            "297/449 [==================>...........] - ETA: 22s - loss: 1.6773 - acc: 0.5613"
          ],
          "name": "stdout"
        },
        {
          "output_type": "stream",
          "text": [
            "449/449 [==============================] - 71s 158ms/step - loss: 1.6698 - acc: 0.5612 - val_loss: 1.2375 - val_acc: 0.5408\n",
            "\n",
            "Epoch 00123: val_acc did not improve from 0.55949\n",
            "Epoch 124/140\n",
            "325/449 [====================>.........] - ETA: 18s - loss: 1.6640 - acc: 0.5634"
          ],
          "name": "stdout"
        },
        {
          "output_type": "stream",
          "text": [
            "449/449 [==============================] - 71s 158ms/step - loss: 1.6713 - acc: 0.5629 - val_loss: 1.2406 - val_acc: 0.5380\n",
            "\n",
            "Epoch 00124: val_acc did not improve from 0.55949\n",
            "Epoch 125/140\n",
            "333/449 [=====================>........] - ETA: 17s - loss: 1.6730 - acc: 0.5613"
          ],
          "name": "stdout"
        },
        {
          "output_type": "stream",
          "text": [
            "449/449 [==============================] - 71s 158ms/step - loss: 1.6782 - acc: 0.5615 - val_loss: 1.3688 - val_acc: 0.5099\n",
            "\n",
            "Epoch 00125: val_acc did not improve from 0.55949\n",
            "Epoch 126/140\n",
            "336/449 [=====================>........] - ETA: 16s - loss: 1.6496 - acc: 0.5684"
          ],
          "name": "stdout"
        },
        {
          "output_type": "stream",
          "text": [
            "449/449 [==============================] - 72s 159ms/step - loss: 1.6621 - acc: 0.5650 - val_loss: 1.2091 - val_acc: 0.5492\n",
            "\n",
            "Epoch 00126: val_acc did not improve from 0.55949\n",
            "Epoch 127/140\n",
            "337/449 [=====================>........] - ETA: 16s - loss: 1.6477 - acc: 0.5677"
          ],
          "name": "stdout"
        },
        {
          "output_type": "stream",
          "text": [
            "449/449 [==============================] - 71s 159ms/step - loss: 1.6512 - acc: 0.5659 - val_loss: 1.2138 - val_acc: 0.5508\n",
            "\n",
            "Epoch 00127: val_acc did not improve from 0.55949\n",
            "Epoch 128/140\n",
            "337/449 [=====================>........] - ETA: 16s - loss: 1.6314 - acc: 0.5678"
          ],
          "name": "stdout"
        },
        {
          "output_type": "stream",
          "text": [
            "449/449 [==============================] - 71s 159ms/step - loss: 1.6330 - acc: 0.5665 - val_loss: 1.2500 - val_acc: 0.5450\n",
            "\n",
            "Epoch 00128: val_acc did not improve from 0.55949\n",
            "Epoch 129/140\n",
            "337/449 [=====================>........] - ETA: 16s - loss: 1.6314 - acc: 0.5695"
          ],
          "name": "stdout"
        },
        {
          "output_type": "stream",
          "text": [
            "449/449 [==============================] - 71s 159ms/step - loss: 1.6478 - acc: 0.5677 - val_loss: 1.2370 - val_acc: 0.5436\n",
            "\n",
            "Epoch 00129: val_acc did not improve from 0.55949\n",
            "Epoch 130/140\n",
            "337/449 [=====================>........] - ETA: 16s - loss: 1.6291 - acc: 0.5706"
          ],
          "name": "stdout"
        },
        {
          "output_type": "stream",
          "text": [
            "449/449 [==============================] - 71s 159ms/step - loss: 1.6269 - acc: 0.5709 - val_loss: 1.3109 - val_acc: 0.5302\n",
            "\n",
            "Epoch 00130: val_acc did not improve from 0.55949\n",
            "Epoch 131/140\n",
            "337/449 [=====================>........] - ETA: 16s - loss: 1.6437 - acc: 0.5712"
          ],
          "name": "stdout"
        },
        {
          "output_type": "stream",
          "text": [
            "449/449 [==============================] - 72s 160ms/step - loss: 1.6643 - acc: 0.5683 - val_loss: 1.2782 - val_acc: 0.5341\n",
            "\n",
            "Epoch 00131: val_acc did not improve from 0.55949\n",
            "Epoch 132/140\n",
            "337/449 [=====================>........] - ETA: 16s - loss: 1.6538 - acc: 0.5689"
          ],
          "name": "stdout"
        },
        {
          "output_type": "stream",
          "text": [
            "449/449 [==============================] - 71s 159ms/step - loss: 1.6615 - acc: 0.5667 - val_loss: 1.2296 - val_acc: 0.5511\n",
            "\n",
            "Epoch 00132: val_acc did not improve from 0.55949\n",
            "Epoch 133/140\n",
            "337/449 [=====================>........] - ETA: 16s - loss: 1.6220 - acc: 0.5685"
          ],
          "name": "stdout"
        },
        {
          "output_type": "stream",
          "text": [
            "449/449 [==============================] - 71s 159ms/step - loss: 1.6365 - acc: 0.5673 - val_loss: 1.2261 - val_acc: 0.5425\n",
            "\n",
            "Epoch 00133: val_acc did not improve from 0.55949\n",
            "Epoch 134/140\n",
            "337/449 [=====================>........] - ETA: 16s - loss: 1.6147 - acc: 0.5775"
          ],
          "name": "stdout"
        },
        {
          "output_type": "stream",
          "text": [
            "449/449 [==============================] - 71s 159ms/step - loss: 1.6270 - acc: 0.5755 - val_loss: 1.2702 - val_acc: 0.5300\n",
            "\n",
            "Epoch 00134: val_acc did not improve from 0.55949\n",
            "Epoch 135/140\n",
            "337/449 [=====================>........] - ETA: 16s - loss: 1.6072 - acc: 0.5794"
          ],
          "name": "stdout"
        },
        {
          "output_type": "stream",
          "text": [
            "449/449 [==============================] - 71s 159ms/step - loss: 1.6105 - acc: 0.5765 - val_loss: 1.2920 - val_acc: 0.5319\n",
            "\n",
            "Epoch 00135: val_acc did not improve from 0.55949\n",
            "Epoch 136/140\n",
            "337/449 [=====================>........] - ETA: 16s - loss: 1.6212 - acc: 0.5719"
          ],
          "name": "stdout"
        },
        {
          "output_type": "stream",
          "text": [
            "449/449 [==============================] - 71s 159ms/step - loss: 1.6288 - acc: 0.5724 - val_loss: 1.2603 - val_acc: 0.5288\n",
            "\n",
            "Epoch 00136: val_acc did not improve from 0.55949\n",
            "Epoch 137/140\n",
            "337/449 [=====================>........] - ETA: 16s - loss: 1.6272 - acc: 0.5708"
          ],
          "name": "stdout"
        },
        {
          "output_type": "stream",
          "text": [
            "449/449 [==============================] - 71s 159ms/step - loss: 1.6220 - acc: 0.5719 - val_loss: 1.3746 - val_acc: 0.5032\n",
            "\n",
            "Epoch 00137: val_acc did not improve from 0.55949\n",
            "Epoch 138/140\n",
            "338/449 [=====================>........] - ETA: 16s - loss: 1.6164 - acc: 0.5759"
          ],
          "name": "stdout"
        },
        {
          "output_type": "stream",
          "text": [
            "449/449 [==============================] - 71s 159ms/step - loss: 1.6092 - acc: 0.5765 - val_loss: 1.2500 - val_acc: 0.5344\n",
            "\n",
            "Epoch 00138: val_acc did not improve from 0.55949\n",
            "Epoch 139/140\n",
            "337/449 [=====================>........] - ETA: 16s - loss: 1.6228 - acc: 0.5699"
          ],
          "name": "stdout"
        },
        {
          "output_type": "stream",
          "text": [
            "449/449 [==============================] - 71s 159ms/step - loss: 1.6345 - acc: 0.5680 - val_loss: 1.2441 - val_acc: 0.5322\n",
            "\n",
            "Epoch 00139: val_acc did not improve from 0.55949\n",
            "Epoch 140/140\n",
            "337/449 [=====================>........] - ETA: 16s - loss: 1.6023 - acc: 0.5820"
          ],
          "name": "stdout"
        },
        {
          "output_type": "stream",
          "text": [
            "449/449 [==============================] - 71s 159ms/step - loss: 1.5995 - acc: 0.5780 - val_loss: 1.2555 - val_acc: 0.5464\n",
            "\n",
            "Epoch 00140: val_acc did not improve from 0.55949\n"
          ],
          "name": "stdout"
        }
      ]
    },
    {
      "metadata": {
        "id": "cus6cumgscSj",
        "colab_type": "code",
        "colab": {
          "autoexec": {
            "startup": false,
            "wait_interval": 0
          },
          "base_uri": "https://localhost:8080/",
          "height": 88
        },
        "outputId": "9fc6d577-91cf-4039-b134-eb32599a0978",
        "executionInfo": {
          "status": "ok",
          "timestamp": 1529562284529,
          "user_tz": -330,
          "elapsed": 7350,
          "user": {
            "displayName": "suraj b",
            "photoUrl": "https://lh3.googleusercontent.com/a/default-user=s128",
            "userId": "102683608279765749841"
          }
        }
      },
      "cell_type": "code",
      "source": [
        "model.load_weights('weights-improvement-98-0.55.hdf5')\n",
        "score = model.evaluate(te_img,te_l, verbose=1)\n",
        "print('Test loss:', score[0])\n",
        "print('Test accuracy:', score[1])\n",
        "#model.save_weights(\"DNST_model.h5\")\n",
        "print(\"Saved model to disk\")"
      ],
      "execution_count": 40,
      "outputs": [
        {
          "output_type": "stream",
          "text": [
            "3589/3589 [==============================] - 7s 2ms/step\n",
            "Test loss: 1.1416676885804682\n",
            "Test accuracy: 0.574254667046476\n",
            "Saved model to disk\n"
          ],
          "name": "stdout"
        }
      ]
    }
  ]
}