{
  "nbformat": 4,
  "nbformat_minor": 0,
  "metadata": {
    "colab": {
      "name": "BVSG_Suraj_Session7.ipynb",
      "version": "0.3.2",
      "views": {},
      "default_view": {},
      "provenance": [],
      "collapsed_sections": [
        "SQ5re8hqv84g",
        "B1nvmPpaqRYe",
        "rc5sikS1Szo-",
        "UIuj5ry5TkOP",
        "-vuNUl_8ho_z",
        "D3cILoE0ha80",
        "v0TGhaGXyFls"
      ]
    },
    "kernelspec": {
      "name": "python3",
      "display_name": "Python 3"
    },
    "accelerator": "GPU"
  },
  "cells": [
    {
      "metadata": {
        "id": "SQ5re8hqv84g",
        "colab_type": "text"
      },
      "cell_type": "markdown",
      "source": [
        "# About me:\n",
        "\n"
      ]
    },
    {
      "metadata": {
        "id": "UFIVxLAb0ERn",
        "colab_type": "text"
      },
      "cell_type": "markdown",
      "source": [
        "## Profile\n",
        "**Name** : BVSG Suraj\n",
        "\n",
        "**Batch** : 7\n",
        "\n",
        "**Project** : Implement [Facial Expression Recognition](https://github.com/zlpure/Facial-Expression-Recognition) using winograd convolutions and write a tutorial on the same."
      ]
    },
    {
      "metadata": {
        "id": "A8zSyPZW8juW",
        "colab_type": "text"
      },
      "cell_type": "markdown",
      "source": [
        "## Current Status\n",
        "\n",
        "Implementing seperable convolutions."
      ]
    },
    {
      "metadata": {
        "id": "aqc85Rw2xjrR",
        "colab_type": "text"
      },
      "cell_type": "markdown",
      "source": [
        "## Logs\n",
        "* 21/6 : used kernel_size=5 with data augmentation and class weights. Amazing improvement in performance. (IN PROGRESS)\n",
        "* 20/6 : Found few valuable observations during the hyperparameter tuning. (DONE)\n",
        "* 19/6 : Experimenting with hyperparameters. (DONE)\n",
        "* 18/6 : Ditching Winograd Implementation. Going with Seperable Conv. (DONE)\n",
        "* 16/6 : Implementing winograd convolutions for 2D data (ABORTTED)\n",
        "* 14/6 : Performing EDA and some data pre-processing. (DONE)\n",
        "* 13/6 : Setting up Jupyter Notebook. (DONE)\n",
        "* 12/6 : Understanding Winograg Convolution. (DONE)\n",
        "* 10/6 : Starting literature survey. (DONE)"
      ]
    },
    {
      "metadata": {
        "id": "B1nvmPpaqRYe",
        "colab_type": "text"
      },
      "cell_type": "markdown",
      "source": [
        "# Preliminary Setup\n"
      ]
    },
    {
      "metadata": {
        "id": "1rKNhHXOqxtr",
        "colab_type": "code",
        "colab": {
          "autoexec": {
            "startup": false,
            "wait_interval": 0
          }
        }
      },
      "cell_type": "code",
      "source": [
        "#Installing required libraries\n",
        "!pip install -q keras\n",
        "#!pip install -q --upgrade git+git://github.com/fchollet/keras.git\n",
        "!pip install -q pathlib"
      ],
      "execution_count": 0,
      "outputs": []
    },
    {
      "metadata": {
        "id": "lJT2mLzKNqno",
        "colab_type": "code",
        "colab": {
          "autoexec": {
            "startup": false,
            "wait_interval": 0
          },
          "base_uri": "https://localhost:8080/",
          "height": 2500
        },
        "outputId": "f4fff1b3-da4e-4efd-d3e6-007009f2bbc4",
        "executionInfo": {
          "status": "ok",
          "timestamp": 1529547279780,
          "user_tz": -330,
          "elapsed": 30820,
          "user": {
            "displayName": "suraj bonagiri",
            "photoUrl": "//lh6.googleusercontent.com/-0F1W31o5q6E/AAAAAAAAAAI/AAAAAAAAA1c/XRzofGyVVA0/s50-c-k-no/photo.jpg",
            "userId": "117654023614571625344"
          }
        }
      },
      "cell_type": "code",
      "source": [
        "#Linking drive to colab to store datasets\n",
        "!apt-get install -y -qq software-properties-common python-software-properties module-init-tools\n",
        "!add-apt-repository -y ppa:alessandro-strada/ppa 2>&1 > /dev/null\n",
        "!apt-get update -qq 2>&1 > /dev/null\n",
        "!apt-get -y install -qq google-drive-ocamlfuse fuse"
      ],
      "execution_count": 2,
      "outputs": [
        {
          "output_type": "stream",
          "text": [
            "Preconfiguring packages ...\n",
            "Selecting previously unselected package cron.\n",
            "(Reading database ... 18298 files and directories currently installed.)\n",
            "Preparing to unpack .../00-cron_3.0pl1-128ubuntu5_amd64.deb ...\n",
            "Unpacking cron (3.0pl1-128ubuntu5) ...\n",
            "Selecting previously unselected package libapparmor1:amd64.\n",
            "Preparing to unpack .../01-libapparmor1_2.11.0-2ubuntu17.1_amd64.deb ...\n",
            "Unpacking libapparmor1:amd64 (2.11.0-2ubuntu17.1) ...\n",
            "Selecting previously unselected package libdbus-1-3:amd64.\n",
            "Preparing to unpack .../02-libdbus-1-3_1.10.22-1ubuntu1_amd64.deb ...\n",
            "Unpacking libdbus-1-3:amd64 (1.10.22-1ubuntu1) ...\n",
            "Selecting previously unselected package dbus.\n",
            "Preparing to unpack .../03-dbus_1.10.22-1ubuntu1_amd64.deb ...\n",
            "Unpacking dbus (1.10.22-1ubuntu1) ...\n",
            "Preparing to unpack .../04-gnupg_2.1.15-1ubuntu8.1_amd64.deb ...\n",
            "Unpacking gnupg (2.1.15-1ubuntu8.1) over (2.1.15-1ubuntu8) ...\n",
            "Preparing to unpack .../05-gnupg-agent_2.1.15-1ubuntu8.1_amd64.deb ...\n",
            "Unpacking gnupg-agent (2.1.15-1ubuntu8.1) over (2.1.15-1ubuntu8) ...\n",
            "Selecting previously unselected package dirmngr.\n",
            "Preparing to unpack .../06-dirmngr_2.1.15-1ubuntu8.1_amd64.deb ...\n",
            "Unpacking dirmngr (2.1.15-1ubuntu8.1) ...\n",
            "Selecting previously unselected package distro-info-data.\n",
            "Preparing to unpack .../07-distro-info-data_0.36ubuntu0.2_all.deb ...\n",
            "Unpacking distro-info-data (0.36ubuntu0.2) ...\n",
            "Selecting previously unselected package libkmod2:amd64.\n",
            "Preparing to unpack .../08-libkmod2_24-1ubuntu2_amd64.deb ...\n",
            "Unpacking libkmod2:amd64 (24-1ubuntu2) ...\n",
            "Selecting previously unselected package kmod.\n",
            "Preparing to unpack .../09-kmod_24-1ubuntu2_amd64.deb ...\n",
            "Unpacking kmod (24-1ubuntu2) ...\n",
            "Selecting previously unselected package lsb-release.\n",
            "Preparing to unpack .../10-lsb-release_9.20160110ubuntu5_all.deb ...\n",
            "Unpacking lsb-release (9.20160110ubuntu5) ...\n",
            "Selecting previously unselected package libgirepository-1.0-1:amd64.\n",
            "Preparing to unpack .../11-libgirepository-1.0-1_1.54.1-1_amd64.deb ...\n",
            "Unpacking libgirepository-1.0-1:amd64 (1.54.1-1) ...\n",
            "Selecting previously unselected package gir1.2-glib-2.0:amd64.\n",
            "Preparing to unpack .../12-gir1.2-glib-2.0_1.54.1-1_amd64.deb ...\n",
            "Unpacking gir1.2-glib-2.0:amd64 (1.54.1-1) ...\n",
            "Selecting previously unselected package iso-codes.\n",
            "Preparing to unpack .../13-iso-codes_3.75-1_all.deb ...\n",
            "Unpacking iso-codes (3.75-1) ...\n",
            "Selecting previously unselected package libdbus-glib-1-2:amd64.\n",
            "Preparing to unpack .../14-libdbus-glib-1-2_0.108-2_amd64.deb ...\n",
            "Unpacking libdbus-glib-1-2:amd64 (0.108-2) ...\n",
            "Selecting previously unselected package python-apt-common.\n",
            "Preparing to unpack .../15-python-apt-common_1.4.0~beta3build2_all.deb ...\n",
            "Unpacking python-apt-common (1.4.0~beta3build2) ...\n",
            "Selecting previously unselected package python3-apt.\n",
            "Preparing to unpack .../16-python3-apt_1.4.0~beta3build2_amd64.deb ...\n",
            "Unpacking python3-apt (1.4.0~beta3build2) ...\n",
            "Selecting previously unselected package python3-dbus.\n",
            "Preparing to unpack .../17-python3-dbus_1.2.4-1build3_amd64.deb ...\n",
            "Unpacking python3-dbus (1.2.4-1build3) ...\n",
            "Selecting previously unselected package python3-gi.\n",
            "Preparing to unpack .../18-python3-gi_3.24.1-2build1_amd64.deb ...\n",
            "Unpacking python3-gi (3.24.1-2build1) ...\n",
            "Selecting previously unselected package module-init-tools.\n",
            "Preparing to unpack .../19-module-init-tools_24-1ubuntu2_all.deb ...\n",
            "Unpacking module-init-tools (24-1ubuntu2) ...\n",
            "Selecting previously unselected package python-apt.\n",
            "Preparing to unpack .../20-python-apt_1.4.0~beta3build2_amd64.deb ...\n",
            "Unpacking python-apt (1.4.0~beta3build2) ...\n",
            "Selecting previously unselected package python-pycurl.\n",
            "Preparing to unpack .../21-python-pycurl_7.43.0-2build2_amd64.deb ...\n",
            "Unpacking python-pycurl (7.43.0-2build2) ...\n",
            "Selecting previously unselected package python-software-properties.\n",
            "Preparing to unpack .../22-python-software-properties_0.96.24.17_all.deb ...\n",
            "Unpacking python-software-properties (0.96.24.17) ...\n",
            "Selecting previously unselected package python3-software-properties.\n",
            "Preparing to unpack .../23-python3-software-properties_0.96.24.17_all.deb ...\n",
            "Unpacking python3-software-properties (0.96.24.17) ...\n",
            "Selecting previously unselected package software-properties-common.\n",
            "Preparing to unpack .../24-software-properties-common_0.96.24.17_all.deb ...\n",
            "Unpacking software-properties-common (0.96.24.17) ...\n",
            "Selecting previously unselected package unattended-upgrades.\n",
            "Preparing to unpack .../25-unattended-upgrades_0.98ubuntu1.1_all.deb ...\n",
            "Unpacking unattended-upgrades (0.98ubuntu1.1) ...\n",
            "Setting up python-apt-common (1.4.0~beta3build2) ...\n",
            "Setting up python3-apt (1.4.0~beta3build2) ...\n",
            "Setting up iso-codes (3.75-1) ...\n",
            "Setting up distro-info-data (0.36ubuntu0.2) ...\n",
            "Setting up python-pycurl (7.43.0-2build2) ...\n",
            "Setting up lsb-release (9.20160110ubuntu5) ...\n",
            "Setting up libgirepository-1.0-1:amd64 (1.54.1-1) ...\n",
            "Setting up libkmod2:amd64 (24-1ubuntu2) ...\n",
            "Setting up gir1.2-glib-2.0:amd64 (1.54.1-1) ...\n"
          ],
          "name": "stdout"
        },
        {
          "output_type": "stream",
          "text": [
            "Processing triggers for libc-bin (2.26-0ubuntu2.1) ...\n",
            "Setting up libapparmor1:amd64 (2.11.0-2ubuntu17.1) ...\n",
            "Setting up unattended-upgrades (0.98ubuntu1.1) ...\n",
            "\n",
            "Creating config file /etc/apt/apt.conf.d/20auto-upgrades with new version\n",
            "\n",
            "Creating config file /etc/apt/apt.conf.d/50unattended-upgrades with new version\n",
            "invoke-rc.d: could not determine current runlevel\n",
            "invoke-rc.d: policy-rc.d denied execution of start.\n",
            "Setting up gnupg-agent (2.1.15-1ubuntu8.1) ...\n",
            "Setting up dirmngr (2.1.15-1ubuntu8.1) ...\n",
            "Setting up cron (3.0pl1-128ubuntu5) ...\n",
            "Adding group `crontab' (GID 102) ...\n",
            "Done.\n",
            "update-rc.d: warning: start and stop actions are no longer supported; falling back to defaults\n",
            "update-rc.d: warning: stop runlevel arguments (1) do not match cron Default-Stop values (none)\n",
            "invoke-rc.d: could not determine current runlevel\n",
            "invoke-rc.d: policy-rc.d denied execution of start.\n",
            "Setting up libdbus-1-3:amd64 (1.10.22-1ubuntu1) ...\n",
            "Setting up kmod (24-1ubuntu2) ...\n",
            "Setting up libdbus-glib-1-2:amd64 (0.108-2) ...\n",
            "Setting up gnupg (2.1.15-1ubuntu8.1) ...\n",
            "Setting up python3-gi (3.24.1-2build1) ...\n",
            "Setting up module-init-tools (24-1ubuntu2) ...\n",
            "Setting up python3-software-properties (0.96.24.17) ...\n",
            "Setting up dbus (1.10.22-1ubuntu1) ...\n",
            "Setting up python-apt (1.4.0~beta3build2) ...\n",
            "Setting up python3-dbus (1.2.4-1build3) ...\n",
            "Setting up python-software-properties (0.96.24.17) ...\n",
            "Setting up software-properties-common (0.96.24.17) ...\n",
            "Processing triggers for libc-bin (2.26-0ubuntu2.1) ...\n",
            "Processing triggers for dbus (1.10.22-1ubuntu1) ...\n",
            "gpg: keybox '/tmp/tmp_rl18tjc/pubring.gpg' created\n",
            "gpg: /tmp/tmp_rl18tjc/trustdb.gpg: trustdb created\n",
            "gpg: key AD5F235DF639B041: public key \"Launchpad PPA for Alessandro Strada\" imported\n",
            "gpg: Total number processed: 1\n",
            "gpg:               imported: 1\n",
            "Warning: apt-key output should not be parsed (stdout is not a terminal)\n",
            "Selecting previously unselected package libfuse2:amd64.\n",
            "(Reading database ... 19706 files and directories currently installed.)\n",
            "Preparing to unpack .../libfuse2_2.9.7-1ubuntu1_amd64.deb ...\n",
            "Unpacking libfuse2:amd64 (2.9.7-1ubuntu1) ...\n",
            "Selecting previously unselected package fuse.\n",
            "Preparing to unpack .../fuse_2.9.7-1ubuntu1_amd64.deb ...\n",
            "Unpacking fuse (2.9.7-1ubuntu1) ...\n",
            "Selecting previously unselected package google-drive-ocamlfuse.\n",
            "Preparing to unpack .../google-drive-ocamlfuse_0.6.21-0ubuntu2_amd64.deb ...\n",
            "Unpacking google-drive-ocamlfuse (0.6.21-0ubuntu2) ...\n",
            "Setting up libfuse2:amd64 (2.9.7-1ubuntu1) ...\n",
            "Processing triggers for libc-bin (2.26-0ubuntu2.1) ...\n",
            "Setting up fuse (2.9.7-1ubuntu1) ...\n",
            "Setting up google-drive-ocamlfuse (0.6.21-0ubuntu2) ...\n"
          ],
          "name": "stdout"
        }
      ]
    },
    {
      "metadata": {
        "id": "zC_f-TGfOFva",
        "colab_type": "code",
        "colab": {
          "autoexec": {
            "startup": false,
            "wait_interval": 0
          },
          "base_uri": "https://localhost:8080/",
          "height": 108
        },
        "outputId": "6de4c8d5-722f-481c-9977-e4b04f3ab60c",
        "executionInfo": {
          "status": "ok",
          "timestamp": 1529547454399,
          "user_tz": -330,
          "elapsed": 22609,
          "user": {
            "displayName": "suraj bonagiri",
            "photoUrl": "//lh6.googleusercontent.com/-0F1W31o5q6E/AAAAAAAAAAI/AAAAAAAAA1c/XRzofGyVVA0/s50-c-k-no/photo.jpg",
            "userId": "117654023614571625344"
          }
        }
      },
      "cell_type": "code",
      "source": [
        "# Generate auth tokens for Colab\n",
        "from google.colab import auth\n",
        "auth.authenticate_user()\n",
        "\n",
        "# Generate creds for the Drive FUSE library. Though the link asks you to verify twice, you don't have to!\n",
        "from oauth2client.client import GoogleCredentials\n",
        "creds = GoogleCredentials.get_application_default()\n",
        "import getpass\n",
        "!google-drive-ocamlfuse -headless -id={creds.client_id} -secret={creds.client_secret} < /dev/null 2>&1 | grep URL\n",
        "vcode = getpass.getpass()\n",
        "!echo {vcode} | google-drive-ocamlfuse -headless -id={creds.client_id} -secret={creds.client_secret}"
      ],
      "execution_count": 3,
      "outputs": [
        {
          "output_type": "stream",
          "text": [
            "Please, open the following URL in a web browser: https://accounts.google.com/o/oauth2/auth?client_id=32555940559.apps.googleusercontent.com&redirect_uri=urn%3Aietf%3Awg%3Aoauth%3A2.0%3Aoob&scope=https%3A%2F%2Fwww.googleapis.com%2Fauth%2Fdrive&response_type=code&access_type=offline&approval_prompt=force\r\n",
            "··········\n",
            "Please, open the following URL in a web browser: https://accounts.google.com/o/oauth2/auth?client_id=32555940559.apps.googleusercontent.com&redirect_uri=urn%3Aietf%3Awg%3Aoauth%3A2.0%3Aoob&scope=https%3A%2F%2Fwww.googleapis.com%2Fauth%2Fdrive&response_type=code&access_type=offline&approval_prompt=force\n",
            "Please enter the verification code: Access token retrieved correctly.\n"
          ],
          "name": "stdout"
        }
      ]
    },
    {
      "metadata": {
        "id": "O3NZ8qV9OFzl",
        "colab_type": "code",
        "colab": {
          "autoexec": {
            "startup": false,
            "wait_interval": 0
          },
          "base_uri": "https://localhost:8080/",
          "height": 71
        },
        "outputId": "e745331d-52e2-40b5-b393-3bde581f069a",
        "executionInfo": {
          "status": "ok",
          "timestamp": 1529547543469,
          "user_tz": -330,
          "elapsed": 6922,
          "user": {
            "displayName": "suraj bonagiri",
            "photoUrl": "//lh6.googleusercontent.com/-0F1W31o5q6E/AAAAAAAAAAI/AAAAAAAAA1c/XRzofGyVVA0/s50-c-k-no/photo.jpg",
            "userId": "117654023614571625344"
          }
        }
      },
      "cell_type": "code",
      "source": [
        "# Create a directory and mount Google Drive using that directory.\n",
        "!mkdir -p drive\n",
        "!google-drive-ocamlfuse drive\n",
        "\n",
        "print ('Files in Drive:')\n",
        "!ls drive/EIP/Facial_Expression_Recognition/iter_2/"
      ],
      "execution_count": 5,
      "outputs": [
        {
          "output_type": "stream",
          "text": [
            "fuse: mountpoint is not empty\r\n",
            "fuse: if you are sure this is safe, use the 'nonempty' mount option\r\n",
            "Files in Drive:\n"
          ],
          "name": "stdout"
        }
      ]
    },
    {
      "metadata": {
        "id": "CzVhrP6IO0-9",
        "colab_type": "code",
        "colab": {
          "autoexec": {
            "startup": false,
            "wait_interval": 0
          }
        }
      },
      "cell_type": "code",
      "source": [
        "#Unpack datasets and copy back to drive. Just once at the beginning.\n",
        "#!tar -xvf drive/EIP/Facial_Expression_Recognition/fer2013.tar.gz\n",
        "!cp -a drive/EIP/Facial_Expression_Recognition/iter_3/weights-improvement-97-0.58.hdf5 .\n",
        "\n",
        "# Run this only when starting a new session. Syncing files in drive to pwd.\n",
        "#!cp -a drive/EIP/Facial_Expression_Recognition/iter_2/*.hdf5 .\n",
        "#!ls"
      ],
      "execution_count": 0,
      "outputs": []
    },
    {
      "metadata": {
        "id": "rc5sikS1Szo-",
        "colab_type": "text"
      },
      "cell_type": "markdown",
      "source": [
        "# Environment specific Setup"
      ]
    },
    {
      "metadata": {
        "id": "U4neQrMmfEF6",
        "colab_type": "code",
        "colab": {
          "autoexec": {
            "startup": false,
            "wait_interval": 0
          },
          "base_uri": "https://localhost:8080/",
          "height": 35
        },
        "outputId": "3e76d29d-52cc-421a-d772-ee598b22accf",
        "executionInfo": {
          "status": "ok",
          "timestamp": 1529547574976,
          "user_tz": -330,
          "elapsed": 8865,
          "user": {
            "displayName": "suraj bonagiri",
            "photoUrl": "//lh6.googleusercontent.com/-0F1W31o5q6E/AAAAAAAAAAI/AAAAAAAAA1c/XRzofGyVVA0/s50-c-k-no/photo.jpg",
            "userId": "117654023614571625344"
          }
        }
      },
      "cell_type": "code",
      "source": [
        "#Framework related libraries\n",
        "import keras\n",
        "from keras.models import Model, Sequential\n",
        "from keras.layers import Dense, Dropout, Flatten, Input, Activation\n",
        "from keras.layers import MaxPooling2D, BatchNormalization, SeparableConv2D\n",
        "from keras.layers import Concatenate\n",
        "from keras.optimizers import Adam\n",
        "\n",
        "##---------------------------------------------##\n",
        "\n",
        "#For loading models\n",
        "from pathlib import Path\n",
        "from keras.models import load_model\n",
        "\n",
        "##---------------------------------------------##\n",
        "\n",
        "##Data preprocessing\n",
        "\n",
        "#for class balance\n",
        "from sklearn.utils import class_weight\n",
        "\n",
        "#For data augmentation\n",
        "from keras.preprocessing.image import ImageDataGenerator, array_to_img, img_to_array, load_img\n",
        "\n",
        "##---------------------------------------------##\n",
        "\n",
        "# this part will prevent tensorflow to allocate all the avaliable GPU Memory\n",
        "# backend\n",
        "import tensorflow as tf\n",
        "#tf.python.control_flow_ops = tf\n",
        "from keras import backend as k\n",
        "\n",
        "##---------------------------------------------##\n",
        "\n",
        "# Don't pre-allocate memory; allocate as-needed\n",
        "config = tf.ConfigProto()\n",
        "config.gpu_options.allow_growth = True\n",
        "\n",
        "##---------------------------------------------##\n",
        "\n",
        "# Create a session with the above options specified.\n",
        "k.tensorflow_backend.set_session(tf.Session(config=config))"
      ],
      "execution_count": 7,
      "outputs": [
        {
          "output_type": "stream",
          "text": [
            "Using TensorFlow backend.\n"
          ],
          "name": "stderr"
        }
      ]
    },
    {
      "metadata": {
        "id": "IHHpIu6hWnlh",
        "colab_type": "code",
        "colab": {
          "autoexec": {
            "startup": false,
            "wait_interval": 0
          }
        }
      },
      "cell_type": "code",
      "source": [
        "#Data handling libraries\n",
        "import numpy as np\n",
        "import pandas as spd\n",
        "\n",
        "##---------------------------------------------##\n",
        "\n",
        "#Image handling libraries\n",
        "import matplotlib.pyplot as plt\n",
        "\n",
        "##---------------------------------------------##\n",
        "\n",
        "# This is a bit of magic to make matplotlib figures appear inline in the notebook rather than in a new window.\n",
        "%matplotlib inline\n",
        "plt.rcParams['figure.figsize'] = (10, 8) # set default size of plots\n",
        "plt.rcParams['image.interpolation'] = 'nearest'\n",
        "plt.rcParams['image.cmap'] = 'gray'\n",
        "\n",
        "# Some more magic so that the notebook will reload external python modules;\n",
        "%load_ext autoreload\n",
        "%autoreload 2"
      ],
      "execution_count": 0,
      "outputs": []
    },
    {
      "metadata": {
        "id": "UIuj5ry5TkOP",
        "colab_type": "text"
      },
      "cell_type": "markdown",
      "source": [
        "# Exploratory Data Analysis\n",
        "\n"
      ]
    },
    {
      "metadata": {
        "id": "dHYu4jTBXqQk",
        "colab_type": "code",
        "colab": {
          "autoexec": {
            "startup": false,
            "wait_interval": 0
          }
        }
      },
      "cell_type": "code",
      "source": [
        "#Given data set is in csv format after unzipping.\n",
        "\n",
        "file = 'drive/EIP/Facial_Expression_Recognition/fer2013/fer2013.csv'\n",
        "df = spd.read_csv(file)"
      ],
      "execution_count": 0,
      "outputs": []
    },
    {
      "metadata": {
        "id": "DAFTWtZtalD9",
        "colab_type": "code",
        "colab": {
          "autoexec": {
            "startup": false,
            "wait_interval": 0
          }
        }
      },
      "cell_type": "code",
      "source": [
        "#Assign separate data frames to training, cross-validation and test data\n",
        "\n",
        "#Training set\n",
        "tr_set = df.loc[df['Usage'] == 'Training']\n",
        "tr = tr_set.loc[:,'pixels']\n",
        "tr_labels = tr_set.loc[:,'emotion']\n",
        "\n",
        "#Cross-validation set\n",
        "cv_set = df.loc[df['Usage'] == 'PublicTest']\n",
        "cv = cv_set.loc[:,'pixels']\n",
        "cv_labels = cv_set.loc[:,'emotion']\n",
        "\n",
        "#Test set\n",
        "te_set = df.loc[df['Usage'] == 'PrivateTest']\n",
        "te = te_set.loc[:,'pixels']\n",
        "te_labels = te_set.loc[:,'emotion']"
      ],
      "execution_count": 0,
      "outputs": []
    },
    {
      "metadata": {
        "id": "8A5_XG1xha4c",
        "colab_type": "text"
      },
      "cell_type": "markdown",
      "source": [
        "Lets randomly sample 5 images of each emotion from training dtaset"
      ]
    },
    {
      "metadata": {
        "id": "j1492a5B_9qr",
        "colab_type": "code",
        "colab": {
          "autoexec": {
            "startup": false,
            "wait_interval": 0
          },
          "base_uri": "https://localhost:8080/",
          "height": 498
        },
        "outputId": "872fe675-aff2-4007-fff3-80b7bbcc69c3",
        "executionInfo": {
          "status": "ok",
          "timestamp": 1529547597599,
          "user_tz": -330,
          "elapsed": 4042,
          "user": {
            "displayName": "suraj bonagiri",
            "photoUrl": "//lh6.googleusercontent.com/-0F1W31o5q6E/AAAAAAAAAAI/AAAAAAAAA1c/XRzofGyVVA0/s50-c-k-no/photo.jpg",
            "userId": "117654023614571625344"
          }
        }
      },
      "cell_type": "code",
      "source": [
        "tr_set_emotions_label = ['Angry','Disgust','Fear','Happy','Sad','Surprise','Neutral']\n",
        "\n",
        "#size of each class will be stored in this array\n",
        "t=np.zeros(np.size(tr_set_emotions_label)) \n",
        "\n",
        "#No. of images to sample from each class\n",
        "sample_size=5\n",
        "\n",
        "#Display those images\n",
        "for k,e in enumerate(tr_set_emotions_label):\n",
        "  this_emotion_set = df.loc[(df['Usage'] == 'Training') & (df['emotion'] == k)]\n",
        "  t[k] = this_emotion_set.size\n",
        "  x=this_emotion_set.sample(n=sample_size).loc[:,'pixels']\n",
        "  for i,j in enumerate(x):\n",
        "    plt.subplot(t.size, sample_size,(sample_size*k)+i+1)\n",
        "    y = j.split(' ')\n",
        "    x = np.array(y).reshape(48,48)\n",
        "    plt.axis('off')\n",
        "    plt.grid('off')\n",
        "    plt.imshow(x.astype('uint8'))\n",
        "    plt.title(e)"
      ],
      "execution_count": 11,
      "outputs": [
        {
          "output_type": "display_data",
          "data": {
            "image/png": "[encoded data removed]",
            "text/plain": [
              "<matplotlib.figure.Figure at 0x7f65fa729198>"
            ]
          },
          "metadata": {
            "tags": []
          }
        }
      ]
    },
    {
      "metadata": {
        "id": "-vuNUl_8ho_z",
        "colab_type": "text"
      },
      "cell_type": "markdown",
      "source": [
        "## Inferences\n",
        "\n",
        "\n",
        "1.   The data provided is flattened/unrolled. To display them, we have to roll or reshape the vectors.\n",
        "2.   This dataset consists of faces of various expressions of all kinds of age, race and sex. That means the data is well generalized. \n",
        "3.   Faces in the images seemed to be centered. So, face detection and extraction can be skipped.\n",
        "4.   Images are in grey scale. That means fewer parameters.\n",
        "5.  Given the classes 'Surprise' and 'Happy', there might be high chance of misclassification. This is due to their high spatial corelation.\n",
        "\n",
        "Let's explore data distribution among various classes"
      ]
    },
    {
      "metadata": {
        "id": "Vzi_L1OpkFLt",
        "colab_type": "code",
        "colab": {
          "autoexec": {
            "startup": false,
            "wait_interval": 0
          },
          "base_uri": "https://localhost:8080/",
          "height": 498
        },
        "cellView": "code",
        "outputId": "3d1d8f24-d024-4202-d292-17204867311c",
        "executionInfo": {
          "status": "ok",
          "timestamp": 1529547598761,
          "user_tz": -330,
          "elapsed": 1010,
          "user": {
            "displayName": "suraj bonagiri",
            "photoUrl": "//lh6.googleusercontent.com/-0F1W31o5q6E/AAAAAAAAAAI/AAAAAAAAA1c/XRzofGyVVA0/s50-c-k-no/photo.jpg",
            "userId": "117654023614571625344"
          }
        }
      },
      "cell_type": "code",
      "source": [
        "#Plotting no. of training examples vs their class\n",
        "plt.bar(tr_set_emotions_label, t)\n",
        "plt.ylabel('No. of training examples')\n",
        "plt.ylabel('Emotion')\n",
        "plt.title('Data Distribution among various classes')\n",
        "\n",
        "plt.show()  "
      ],
      "execution_count": 12,
      "outputs": [
        {
          "output_type": "display_data",
          "data": {
            "image/png": "[encoded data removed]",
            "text/plain": [
              "<matplotlib.figure.Figure at 0x7f65fa71ed68>"
            ]
          },
          "metadata": {
            "tags": []
          }
        }
      ]
    },
    {
      "metadata": {
        "id": "RV0urASZoTYR",
        "colab_type": "text"
      },
      "cell_type": "markdown",
      "source": [
        "* It can be observed that the class 'Disgust' has very less number of training data. \n",
        "\n",
        "* And there is a high possibility of the model to predict 'Happy' if the training data isn't normalized.\n",
        "\n",
        "* This problem can be solved in various ways:\n",
        "\n",
        "  1.** Assigning weightage** for each class using Keras 'class_weight'. This is preferred.\n",
        "  \n",
        "  2.** Data augmentation** - Since the variation among the no. of training examples accross the classes is very high, using augmentation might not be a good idea. If we do that, there will be a rich variation in 'Happy' class and less variations in 'disgust' class and training over this data would be redundant. But applying Augmentation on all of the classes is a good idea.\n",
        "  \n",
        "  3.** Removing data** from other classes. Loss of data is not encouraged usually. \n",
        "\n",
        "  4.** Using GANs** : New training data can be created from the respective class's distribution. This is an option too.\n",
        "\n",
        "\n",
        "**NOTE : The labels on the x-axis are not in order of the labels 0-7**"
      ]
    },
    {
      "metadata": {
        "id": "D3cILoE0ha80",
        "colab_type": "text"
      },
      "cell_type": "markdown",
      "source": [
        "# Data Preprocessing\n"
      ]
    },
    {
      "metadata": {
        "id": "v0TGhaGXyFls",
        "colab_type": "text"
      },
      "cell_type": "markdown",
      "source": [
        "## Rolling the data"
      ]
    },
    {
      "metadata": {
        "id": "NqbcoORpyKB0",
        "colab_type": "code",
        "colab": {
          "autoexec": {
            "startup": false,
            "wait_interval": 0
          },
          "base_uri": "https://localhost:8080/",
          "height": 35
        },
        "outputId": "ea3054c3-b1fb-48d1-f8e5-e506c9e8a75c",
        "executionInfo": {
          "status": "ok",
          "timestamp": 1529547610622,
          "user_tz": -330,
          "elapsed": 11619,
          "user": {
            "displayName": "suraj bonagiri",
            "photoUrl": "//lh6.googleusercontent.com/-0F1W31o5q6E/AAAAAAAAAAI/AAAAAAAAA1c/XRzofGyVVA0/s50-c-k-no/photo.jpg",
            "userId": "117654023614571625344"
          }
        }
      },
      "cell_type": "code",
      "source": [
        "#train data\n",
        "tr_img = []\n",
        "tr_l = np.zeros((np.size(tr),np.size(t)))\n",
        "#print(tr_labels)\n",
        "for p,i in enumerate(tr):\n",
        "    y = i.split(' ')\n",
        "    y = np.array(y).reshape(48,48,1)\n",
        "    tr_img.append(y)\n",
        "    tr_l[p,tr_labels[p]]=1\n",
        "tr_img = np.array(tr_img)\n",
        "print(tr_img.shape)"
      ],
      "execution_count": 13,
      "outputs": [
        {
          "output_type": "stream",
          "text": [
            "(28709, 48, 48, 1)\n"
          ],
          "name": "stdout"
        }
      ]
    },
    {
      "metadata": {
        "id": "Tb-CgDtTWq6O",
        "colab_type": "code",
        "colab": {
          "autoexec": {
            "startup": false,
            "wait_interval": 0
          },
          "base_uri": "https://localhost:8080/",
          "height": 160
        },
        "outputId": "fc427de2-11d2-4d5b-b2fb-a9161474b721",
        "executionInfo": {
          "status": "ok",
          "timestamp": 1529547612937,
          "user_tz": -330,
          "elapsed": 2184,
          "user": {
            "displayName": "suraj bonagiri",
            "photoUrl": "//lh6.googleusercontent.com/-0F1W31o5q6E/AAAAAAAAAAI/AAAAAAAAA1c/XRzofGyVVA0/s50-c-k-no/photo.jpg",
            "userId": "117654023614571625344"
          }
        }
      },
      "cell_type": "code",
      "source": [
        "#cv data\n",
        "cv_img = []\n",
        "cv_l = np.zeros((np.size(cv),np.size(t)))\n",
        "for p,i in enumerate(cv):\n",
        "    y = i.split(' ')\n",
        "    y = np.array(y).reshape(48,48,1)\n",
        "    cv_img.append(y)\n",
        "    cv_l[p,cv_labels[np.size(tr)+p]] = 1\n",
        "print(cv_l)\n",
        "cv_img = np.array(cv_img)\n",
        "print(cv_img.shape)"
      ],
      "execution_count": 14,
      "outputs": [
        {
          "output_type": "stream",
          "text": [
            "[[1. 0. 0. ... 0. 0. 0.]\n",
            " [0. 1. 0. ... 0. 0. 0.]\n",
            " [0. 0. 0. ... 1. 0. 0.]\n",
            " ...\n",
            " [0. 0. 0. ... 1. 0. 0.]\n",
            " [0. 0. 0. ... 1. 0. 0.]\n",
            " [0. 0. 0. ... 1. 0. 0.]]\n",
            "(3589, 48, 48, 1)\n"
          ],
          "name": "stdout"
        }
      ]
    },
    {
      "metadata": {
        "id": "Mv7B5iQ0Wup6",
        "colab_type": "code",
        "colab": {
          "autoexec": {
            "startup": false,
            "wait_interval": 0
          },
          "base_uri": "https://localhost:8080/",
          "height": 160
        },
        "outputId": "e85adadf-749a-4d3b-8c48-46e57a350c2d",
        "executionInfo": {
          "status": "ok",
          "timestamp": 1529547615440,
          "user_tz": -330,
          "elapsed": 2447,
          "user": {
            "displayName": "suraj bonagiri",
            "photoUrl": "//lh6.googleusercontent.com/-0F1W31o5q6E/AAAAAAAAAAI/AAAAAAAAA1c/XRzofGyVVA0/s50-c-k-no/photo.jpg",
            "userId": "117654023614571625344"
          }
        }
      },
      "cell_type": "code",
      "source": [
        "#test data\n",
        "te_img = []\n",
        "te_l = np.zeros((np.size(te),np.size(t)))\n",
        "for p,i in enumerate(te):\n",
        "    y = i.split(' ')\n",
        "    y = np.array(y).reshape(48,48,1)\n",
        "    te_img.append(y)\n",
        "    te_l[p,te_labels[np.size(tr) + np.size(cv) + p]]=1\n",
        "print(te_l)\n",
        "te_img = np.array(te_img)\n",
        "print(te_img.shape)"
      ],
      "execution_count": 15,
      "outputs": [
        {
          "output_type": "stream",
          "text": [
            "[[1. 0. 0. ... 0. 0. 0.]\n",
            " [0. 0. 0. ... 0. 1. 0.]\n",
            " [0. 0. 0. ... 0. 0. 1.]\n",
            " ...\n",
            " [1. 0. 0. ... 0. 0. 0.]\n",
            " [0. 0. 0. ... 0. 0. 0.]\n",
            " [0. 0. 1. ... 0. 0. 0.]]\n",
            "(3589, 48, 48, 1)\n"
          ],
          "name": "stdout"
        }
      ]
    },
    {
      "metadata": {
        "id": "a4n4VWCWiUrh",
        "colab_type": "text"
      },
      "cell_type": "markdown",
      "source": [
        "## Assigning weights to classes"
      ]
    },
    {
      "metadata": {
        "id": "-1wpH_ULiXHM",
        "colab_type": "code",
        "colab": {
          "autoexec": {
            "startup": false,
            "wait_interval": 0
          }
        }
      },
      "cell_type": "code",
      "source": [
        "#Finding the weightage to be given to each class\n",
        "class_weights_array = np.round(np.max(t)/t)\n",
        "\n",
        "class_weight = dict(zip(np.arange(np.size(t)), class_weights_array))\n",
        "\n",
        "#print(class_weight)"
      ],
      "execution_count": 0,
      "outputs": []
    },
    {
      "metadata": {
        "id": "qE_ABSxaJNfN",
        "colab_type": "text"
      },
      "cell_type": "markdown",
      "source": [
        "# Data Augmentation"
      ]
    },
    {
      "metadata": {
        "id": "Hdx-MYAWJSID",
        "colab_type": "code",
        "colab": {
          "autoexec": {
            "startup": false,
            "wait_interval": 0
          },
          "base_uri": "https://localhost:8080/",
          "height": 35
        },
        "outputId": "0d70fdb1-27c1-4dcc-e973-4e730d2f338c",
        "executionInfo": {
          "status": "ok",
          "timestamp": 1529547757287,
          "user_tz": -330,
          "elapsed": 62727,
          "user": {
            "displayName": "suraj bonagiri",
            "photoUrl": "//lh6.googleusercontent.com/-0F1W31o5q6E/AAAAAAAAAAI/AAAAAAAAA1c/XRzofGyVVA0/s50-c-k-no/photo.jpg",
            "userId": "117654023614571625344"
          }
        }
      },
      "cell_type": "code",
      "source": [
        "print('Using real-time data augmentation.')\n",
        "\n",
        "from keras.preprocessing.image import ImageDataGenerator\n",
        "datagen = ImageDataGenerator( \n",
        "    rotation_range=15, \n",
        "    width_shift_range=0.1, \n",
        "    height_shift_range=0.1, \n",
        "    horizontal_flip=True) \n",
        "\n",
        "datagen.fit(tr_img)\n",
        "data_aug_x = datagen.flow(tr_img, tr_l, batch_size=64)"
      ],
      "execution_count": 17,
      "outputs": [
        {
          "output_type": "stream",
          "text": [
            "Using real-time data augmentation.\n"
          ],
          "name": "stdout"
        }
      ]
    },
    {
      "metadata": {
        "id": "Q0kgrGwSdR_V",
        "colab_type": "text"
      },
      "cell_type": "markdown",
      "source": [
        "# Acrhitecture"
      ]
    },
    {
      "metadata": {
        "id": "-MzS6hAZ5s6i",
        "colab_type": "text"
      },
      "cell_type": "markdown",
      "source": [
        "## Model"
      ]
    },
    {
      "metadata": {
        "id": "ErF3LCQreLzR",
        "colab_type": "code",
        "colab": {
          "autoexec": {
            "startup": false,
            "wait_interval": 0
          },
          "base_uri": "https://localhost:8080/",
          "height": 928
        },
        "outputId": "e8db88e4-34c9-4c13-8e10-a9f449c0e8a6",
        "executionInfo": {
          "status": "ok",
          "timestamp": 1529559810782,
          "user_tz": -330,
          "elapsed": 1676,
          "user": {
            "displayName": "suraj bonagiri",
            "photoUrl": "//lh6.googleusercontent.com/-0F1W31o5q6E/AAAAAAAAAAI/AAAAAAAAA1c/XRzofGyVVA0/s50-c-k-no/photo.jpg",
            "userId": "117654023614571625344"
          }
        }
      },
      "cell_type": "code",
      "source": [
        "model = Sequential()\n",
        "\n",
        "f =48\n",
        "model.add(SeparableConv2D(f,(5,1),activation='relu', input_shape=(48,48,1)))\n",
        "model.add(SeparableConv2D(f,(1,5),activation='relu'))\n",
        "\n",
        "model.add(BatchNormalization())\n",
        "\n",
        "model.add(SeparableConv2D(f,(5,1),activation='relu'))\n",
        "model.add(SeparableConv2D(f,(1,5),activation='relu'))\n",
        "\n",
        "model.add(MaxPooling2D(pool_size=(2, 2), strides=(1, 1)))\n",
        "\n",
        "##\n",
        "\n",
        "f=96\n",
        "model.add(SeparableConv2D(f,(5,1),activation='relu'))\n",
        "model.add(SeparableConv2D(f,(1,5),activation='relu'))\n",
        "\n",
        "model.add(BatchNormalization())\n",
        "\n",
        "model.add(SeparableConv2D(f,(5,1),activation='relu'))\n",
        "model.add(SeparableConv2D(f,(1,5),activation='relu'))\n",
        "\n",
        "model.add(MaxPooling2D(pool_size=(2, 2), strides=(2, 2)))\n",
        "\n",
        "model.add(Dropout(0.1))\n",
        "\n",
        "##\n",
        "\n",
        "f=198\n",
        "model.add(SeparableConv2D(f,(5,1),activation='relu'))\n",
        "model.add(SeparableConv2D(f,(1,5),activation='relu'))\n",
        "\n",
        "model.add(BatchNormalization())\n",
        "\n",
        "model.add(SeparableConv2D(f,(5,1),activation='relu'))\n",
        "model.add(SeparableConv2D(f,(1,5),activation='relu'))\n",
        "\n",
        "model.add(MaxPooling2D(pool_size=(2, 2), strides=(2, 2)))\n",
        "\n",
        "model.add(Dropout(0.1))\n",
        "\n",
        "##\n",
        "'''\n",
        "f=256\n",
        "model.add(SeparableConv2D(f,(5,1),activation='relu'))\n",
        "model.add(SeparableConv2D(f,(1,5),activation='relu'))\n",
        "\n",
        "model.add(BatchNormalization())\n",
        "\n",
        "model.add(SeparableConv2D(f,(5,1),activation='relu'))\n",
        "model.add(SeparableConv2D(f,(1,5),activation='relu'))\n",
        "\n",
        "model.add(MaxPooling2D(pool_size=(2, 2), strides=(2, 2)))\n",
        "\n",
        "model.add(Dropout(0.25))\n",
        "'''\n",
        "##\n",
        "\n",
        "model.add(Flatten())\n",
        "model.add(Dense(7, activation='softmax'))\n",
        "\n",
        "model.summary()"
      ],
      "execution_count": 41,
      "outputs": [
        {
          "output_type": "stream",
          "text": [
            "_________________________________________________________________\n",
            "Layer (type)                 Output Shape              Param #   \n",
            "=================================================================\n",
            "separable_conv2d_37 (Separab (None, 44, 48, 48)        101       \n",
            "_________________________________________________________________\n",
            "separable_conv2d_38 (Separab (None, 44, 44, 48)        2592      \n",
            "_________________________________________________________________\n",
            "batch_normalization_10 (Batc (None, 44, 44, 48)        192       \n",
            "_________________________________________________________________\n",
            "separable_conv2d_39 (Separab (None, 40, 44, 48)        2592      \n",
            "_________________________________________________________________\n",
            "separable_conv2d_40 (Separab (None, 40, 40, 48)        2592      \n",
            "_________________________________________________________________\n",
            "max_pooling2d_10 (MaxPooling (None, 39, 39, 48)        0         \n",
            "_________________________________________________________________\n",
            "separable_conv2d_41 (Separab (None, 35, 39, 96)        4944      \n",
            "_________________________________________________________________\n",
            "separable_conv2d_42 (Separab (None, 35, 35, 96)        9792      \n",
            "_________________________________________________________________\n",
            "batch_normalization_11 (Batc (None, 35, 35, 96)        384       \n",
            "_________________________________________________________________\n",
            "separable_conv2d_43 (Separab (None, 31, 35, 96)        9792      \n",
            "_________________________________________________________________\n",
            "separable_conv2d_44 (Separab (None, 31, 31, 96)        9792      \n",
            "_________________________________________________________________\n",
            "max_pooling2d_11 (MaxPooling (None, 15, 15, 96)        0         \n",
            "_________________________________________________________________\n",
            "dropout_7 (Dropout)          (None, 15, 15, 96)        0         \n",
            "_________________________________________________________________\n",
            "separable_conv2d_45 (Separab (None, 11, 15, 198)       19686     \n",
            "_________________________________________________________________\n",
            "separable_conv2d_46 (Separab (None, 11, 11, 198)       40392     \n",
            "_________________________________________________________________\n",
            "batch_normalization_12 (Batc (None, 11, 11, 198)       792       \n",
            "_________________________________________________________________\n",
            "separable_conv2d_47 (Separab (None, 7, 11, 198)        40392     \n",
            "_________________________________________________________________\n",
            "separable_conv2d_48 (Separab (None, 7, 7, 198)         40392     \n",
            "_________________________________________________________________\n",
            "max_pooling2d_12 (MaxPooling (None, 3, 3, 198)         0         \n",
            "_________________________________________________________________\n",
            "dropout_8 (Dropout)          (None, 3, 3, 198)         0         \n",
            "_________________________________________________________________\n",
            "flatten_4 (Flatten)          (None, 1782)              0         \n",
            "_________________________________________________________________\n",
            "dense_4 (Dense)              (None, 7)                 12481     \n",
            "=================================================================\n",
            "Total params: 196,908\n",
            "Trainable params: 196,224\n",
            "Non-trainable params: 684\n",
            "_________________________________________________________________\n"
          ],
          "name": "stdout"
        }
      ]
    },
    {
      "metadata": {
        "id": "bSsq2the5wCo",
        "colab_type": "text"
      },
      "cell_type": "markdown",
      "source": [
        "## Compile and run"
      ]
    },
    {
      "metadata": {
        "id": "3N_AEyS5iDRy",
        "colab_type": "code",
        "colab": {
          "autoexec": {
            "startup": false,
            "wait_interval": 0
          }
        }
      },
      "cell_type": "code",
      "source": [
        "model.compile(loss='categorical_crossentropy',\n",
        "             optimizer='adam',\n",
        "             metrics=['accuracy'])\n",
        "\n",
        "# checkpoint\n",
        "from keras.callbacks import ModelCheckpoint\n",
        "filepath= \"weights-improvement-{epoch:02d}-{val_acc:.2f}.hdf5\"\n",
        "checkpoint = ModelCheckpoint(filepath, monitor='val_acc', verbose=1, save_best_only=True, save_weights_only=True, mode='max')\n",
        "callbacks_list = [checkpoint]"
      ],
      "execution_count": 0,
      "outputs": []
    },
    {
      "metadata": {
        "id": "V-JWLt3axrR4",
        "colab_type": "text"
      },
      "cell_type": "markdown",
      "source": [
        "## Epoch 1-10"
      ]
    },
    {
      "metadata": {
        "id": "j9pyixg3mZw_",
        "colab_type": "code",
        "colab": {
          "autoexec": {
            "startup": false,
            "wait_interval": 0
          },
          "base_uri": "https://localhost:8080/",
          "height": 732
        },
        "outputId": "01c2f281-7e32-4d6e-86aa-6b5c76cdce12",
        "executionInfo": {
          "status": "ok",
          "timestamp": 1529553243413,
          "user_tz": -330,
          "elapsed": 944164,
          "user": {
            "displayName": "suraj bonagiri",
            "photoUrl": "//lh6.googleusercontent.com/-0F1W31o5q6E/AAAAAAAAAAI/AAAAAAAAA1c/XRzofGyVVA0/s50-c-k-no/photo.jpg",
            "userId": "117654023614571625344"
          }
        }
      },
      "cell_type": "code",
      "source": [
        "epoch = 0\n",
        "model.fit_generator(data_aug_x, \n",
        "                    epochs=10,\n",
        "                    verbose=1,\n",
        "                    initial_epoch=epoch,\n",
        "                    callbacks=callbacks_list,\n",
        "                    validation_data=(cv_img, cv_l),\n",
        "                    class_weight = class_weight)\n",
        "!cp *.hdf5 drive/EIP/Facial_Expression_Recognition/iter_3"
      ],
      "execution_count": 32,
      "outputs": [
        {
          "output_type": "stream",
          "text": [
            "Epoch 1/10\n",
            "449/449 [==============================] - 94s 209ms/step - loss: 3.1383 - acc: 0.1339 - val_loss: 1.9261 - val_acc: 0.1688\n",
            "\n",
            "Epoch 00001: val_acc improved from -inf to 0.16885, saving model to weights-improvement-01-0.17.hdf5\n",
            "Epoch 2/10\n",
            "177/449 [==========>...................] - ETA: 51s - loss: 3.0982 - acc: 0.1723"
          ],
          "name": "stdout"
        },
        {
          "output_type": "stream",
          "text": [
            "449/449 [==============================] - 91s 202ms/step - loss: 3.0474 - acc: 0.1721 - val_loss: 2.5576 - val_acc: 0.1162\n",
            "\n",
            "Epoch 00002: val_acc did not improve from 0.16885\n",
            "Epoch 3/10\n",
            "292/449 [==================>...........] - ETA: 29s - loss: 2.9708 - acc: 0.2004"
          ],
          "name": "stdout"
        },
        {
          "output_type": "stream",
          "text": [
            "449/449 [==============================] - 91s 202ms/step - loss: 2.9319 - acc: 0.2150 - val_loss: 1.7657 - val_acc: 0.2884\n",
            "\n",
            "Epoch 00003: val_acc improved from 0.16885 to 0.28838, saving model to weights-improvement-03-0.29.hdf5\n",
            "Epoch 4/10\n",
            "271/449 [=================>............] - ETA: 33s - loss: 2.8788 - acc: 0.2515"
          ],
          "name": "stdout"
        },
        {
          "output_type": "stream",
          "text": [
            "449/449 [==============================] - 91s 202ms/step - loss: 2.8471 - acc: 0.2642 - val_loss: 1.8095 - val_acc: 0.2901\n",
            "\n",
            "Epoch 00004: val_acc improved from 0.28838 to 0.29005, saving model to weights-improvement-04-0.29.hdf5\n",
            "Epoch 5/10\n",
            "266/449 [================>.............] - ETA: 34s - loss: 2.7967 - acc: 0.2855"
          ],
          "name": "stdout"
        },
        {
          "output_type": "stream",
          "text": [
            "449/449 [==============================] - 91s 202ms/step - loss: 2.7776 - acc: 0.2892 - val_loss: 1.9967 - val_acc: 0.2469\n",
            "\n",
            "Epoch 00005: val_acc did not improve from 0.29005\n",
            "Epoch 6/10\n",
            "319/449 [====================>.........] - ETA: 24s - loss: 2.7247 - acc: 0.3127"
          ],
          "name": "stdout"
        },
        {
          "output_type": "stream",
          "text": [
            "449/449 [==============================] - 91s 203ms/step - loss: 2.7061 - acc: 0.3154 - val_loss: 1.8233 - val_acc: 0.2898\n",
            "\n",
            "Epoch 00006: val_acc did not improve from 0.29005\n",
            "Epoch 7/10\n",
            "335/449 [=====================>........] - ETA: 21s - loss: 2.6601 - acc: 0.3353"
          ],
          "name": "stdout"
        },
        {
          "output_type": "stream",
          "text": [
            "449/449 [==============================] - 91s 203ms/step - loss: 2.6597 - acc: 0.3353 - val_loss: 1.6206 - val_acc: 0.3789\n",
            "\n",
            "Epoch 00007: val_acc improved from 0.29005 to 0.37894, saving model to weights-improvement-07-0.38.hdf5\n",
            "Epoch 8/10\n",
            "281/449 [=================>............] - ETA: 31s - loss: 2.6042 - acc: 0.3516"
          ],
          "name": "stdout"
        },
        {
          "output_type": "stream",
          "text": [
            "449/449 [==============================] - 91s 203ms/step - loss: 2.5824 - acc: 0.3542 - val_loss: 1.6452 - val_acc: 0.3600\n",
            "\n",
            "Epoch 00008: val_acc did not improve from 0.37894\n",
            "Epoch 9/10\n",
            "322/449 [====================>.........] - ETA: 23s - loss: 2.5188 - acc: 0.3695"
          ],
          "name": "stdout"
        },
        {
          "output_type": "stream",
          "text": [
            "449/449 [==============================] - 91s 203ms/step - loss: 2.5225 - acc: 0.3725 - val_loss: 1.6965 - val_acc: 0.3435\n",
            "\n",
            "Epoch 00009: val_acc did not improve from 0.37894\n",
            "Epoch 10/10\n",
            "334/449 [=====================>........] - ETA: 21s - loss: 2.4758 - acc: 0.3867"
          ],
          "name": "stdout"
        },
        {
          "output_type": "stream",
          "text": [
            "449/449 [==============================] - 91s 202ms/step - loss: 2.4757 - acc: 0.3855 - val_loss: 1.5856 - val_acc: 0.3901\n",
            "\n",
            "Epoch 00010: val_acc improved from 0.37894 to 0.39008, saving model to weights-improvement-10-0.39.hdf5\n"
          ],
          "name": "stdout"
        }
      ]
    },
    {
      "metadata": {
        "id": "KrdYjpJRMZ_2",
        "colab_type": "code",
        "colab": {
          "autoexec": {
            "startup": false,
            "wait_interval": 0
          }
        }
      },
      "cell_type": "code",
      "source": [
        ""
      ],
      "execution_count": 0,
      "outputs": []
    },
    {
      "metadata": {
        "id": "xvPym6BkxwbW",
        "colab_type": "text"
      },
      "cell_type": "markdown",
      "source": [
        "## Epoch 11-30"
      ]
    },
    {
      "metadata": {
        "id": "ycgtSC5OJdMY",
        "colab_type": "code",
        "colab": {
          "autoexec": {
            "startup": false,
            "wait_interval": 0
          },
          "base_uri": "https://localhost:8080/",
          "height": 1464
        },
        "outputId": "5f73acc5-63cb-4e3e-9e50-60d741d42dec",
        "executionInfo": {
          "status": "ok",
          "timestamp": 1529555864929,
          "user_tz": -330,
          "elapsed": 1816160,
          "user": {
            "displayName": "suraj bonagiri",
            "photoUrl": "//lh6.googleusercontent.com/-0F1W31o5q6E/AAAAAAAAAAI/AAAAAAAAA1c/XRzofGyVVA0/s50-c-k-no/photo.jpg",
            "userId": "117654023614571625344"
          }
        }
      },
      "cell_type": "code",
      "source": [
        "#Didnt use dropout for this layer\n",
        "model.load_weights('weights-improvement-10-0.39.hdf5')\n",
        "epoch=10\n",
        "model.fit_generator(data_aug_x, \n",
        "                    epochs=30,\n",
        "                    verbose=1,\n",
        "                    initial_epoch=epoch,\n",
        "                    callbacks=callbacks_list,\n",
        "                    validation_data=(cv_img, cv_l),\n",
        "                    class_weight = class_weight)"
      ],
      "execution_count": 36,
      "outputs": [
        {
          "output_type": "stream",
          "text": [
            "Epoch 11/30\n",
            "449/449 [==============================] - 91s 202ms/step - loss: 2.4302 - acc: 0.3986 - val_loss: 1.6574 - val_acc: 0.3722\n",
            "\n",
            "Epoch 00011: val_acc did not improve from 0.39008\n",
            "Epoch 12/30\n",
            "208/449 [============>.................] - ETA: 45s - loss: 2.3938 - acc: 0.4016"
          ],
          "name": "stdout"
        },
        {
          "output_type": "stream",
          "text": [
            "449/449 [==============================] - 90s 201ms/step - loss: 2.3894 - acc: 0.4040 - val_loss: 1.5094 - val_acc: 0.4230\n",
            "\n",
            "Epoch 00012: val_acc improved from 0.39008 to 0.42296, saving model to weights-improvement-12-0.42.hdf5\n",
            "Epoch 13/30\n",
            "248/449 [===============>..............] - ETA: 37s - loss: 2.3837 - acc: 0.4131"
          ],
          "name": "stdout"
        },
        {
          "output_type": "stream",
          "text": [
            "449/449 [==============================] - 91s 202ms/step - loss: 2.3463 - acc: 0.4176 - val_loss: 1.4536 - val_acc: 0.4450\n",
            "\n",
            "Epoch 00013: val_acc improved from 0.42296 to 0.44497, saving model to weights-improvement-13-0.44.hdf5\n",
            "Epoch 14/30\n",
            "259/449 [================>.............] - ETA: 35s - loss: 2.3075 - acc: 0.4292"
          ],
          "name": "stdout"
        },
        {
          "output_type": "stream",
          "text": [
            "449/449 [==============================] - 91s 202ms/step - loss: 2.3148 - acc: 0.4291 - val_loss: 1.6376 - val_acc: 0.3823\n",
            "\n",
            "Epoch 00014: val_acc did not improve from 0.44497\n",
            "Epoch 15/30\n",
            "314/449 [===================>..........] - ETA: 25s - loss: 2.2730 - acc: 0.4362"
          ],
          "name": "stdout"
        },
        {
          "output_type": "stream",
          "text": [
            "449/449 [==============================] - 91s 202ms/step - loss: 2.2782 - acc: 0.4378 - val_loss: 1.4914 - val_acc: 0.4344\n",
            "\n",
            "Epoch 00015: val_acc did not improve from 0.44497\n",
            "Epoch 16/30\n",
            "332/449 [=====================>........] - ETA: 21s - loss: 2.2634 - acc: 0.4366"
          ],
          "name": "stdout"
        },
        {
          "output_type": "stream",
          "text": [
            "449/449 [==============================] - 91s 202ms/step - loss: 2.2621 - acc: 0.4386 - val_loss: 1.4527 - val_acc: 0.4391\n",
            "\n",
            "Epoch 00016: val_acc did not improve from 0.44497\n",
            "Epoch 17/30\n",
            "338/449 [=====================>........] - ETA: 20s - loss: 2.2191 - acc: 0.4502"
          ],
          "name": "stdout"
        },
        {
          "output_type": "stream",
          "text": [
            "449/449 [==============================] - 91s 202ms/step - loss: 2.2196 - acc: 0.4504 - val_loss: 1.4337 - val_acc: 0.4681\n",
            "\n",
            "Epoch 00017: val_acc improved from 0.44497 to 0.46810, saving model to weights-improvement-17-0.47.hdf5\n",
            "Epoch 18/30\n",
            "282/449 [=================>............] - ETA: 31s - loss: 2.2047 - acc: 0.4480"
          ],
          "name": "stdout"
        },
        {
          "output_type": "stream",
          "text": [
            "449/449 [==============================] - 91s 202ms/step - loss: 2.2016 - acc: 0.4537 - val_loss: 1.6667 - val_acc: 0.3881\n",
            "\n",
            "Epoch 00018: val_acc did not improve from 0.46810\n",
            "Epoch 19/30\n",
            "323/449 [====================>.........] - ETA: 23s - loss: 2.2085 - acc: 0.4523"
          ],
          "name": "stdout"
        },
        {
          "output_type": "stream",
          "text": [
            "449/449 [==============================] - 91s 202ms/step - loss: 2.1979 - acc: 0.4540 - val_loss: 1.3750 - val_acc: 0.4843\n",
            "\n",
            "Epoch 00019: val_acc improved from 0.46810 to 0.48426, saving model to weights-improvement-19-0.48.hdf5\n",
            "Epoch 20/30\n",
            "278/449 [=================>............] - ETA: 32s - loss: 2.1399 - acc: 0.4625"
          ],
          "name": "stdout"
        },
        {
          "output_type": "stream",
          "text": [
            "449/449 [==============================] - 91s 202ms/step - loss: 2.1493 - acc: 0.4632 - val_loss: 1.3938 - val_acc: 0.4823\n",
            "\n",
            "Epoch 00020: val_acc did not improve from 0.48426\n",
            "Epoch 21/30\n",
            "321/449 [====================>.........] - ETA: 24s - loss: 2.1367 - acc: 0.4650"
          ],
          "name": "stdout"
        },
        {
          "output_type": "stream",
          "text": [
            "449/449 [==============================] - 91s 202ms/step - loss: 2.1509 - acc: 0.4642 - val_loss: 1.5652 - val_acc: 0.3912\n",
            "\n",
            "Epoch 00021: val_acc did not improve from 0.48426\n",
            "Epoch 22/30\n",
            "334/449 [=====================>........] - ETA: 21s - loss: 2.0950 - acc: 0.4712"
          ],
          "name": "stdout"
        },
        {
          "output_type": "stream",
          "text": [
            "449/449 [==============================] - 91s 202ms/step - loss: 2.1258 - acc: 0.4670 - val_loss: 1.5723 - val_acc: 0.4171\n",
            "\n",
            "Epoch 00022: val_acc did not improve from 0.48426\n",
            "Epoch 23/30\n",
            "337/449 [=====================>........] - ETA: 21s - loss: 2.0986 - acc: 0.4718"
          ],
          "name": "stdout"
        },
        {
          "output_type": "stream",
          "text": [
            "449/449 [==============================] - 91s 202ms/step - loss: 2.1145 - acc: 0.4719 - val_loss: 1.4426 - val_acc: 0.4642\n",
            "\n",
            "Epoch 00023: val_acc did not improve from 0.48426\n",
            "Epoch 24/30\n",
            "339/449 [=====================>........] - ETA: 20s - loss: 2.0747 - acc: 0.4776"
          ],
          "name": "stdout"
        },
        {
          "output_type": "stream",
          "text": [
            "449/449 [==============================] - 91s 202ms/step - loss: 2.0744 - acc: 0.4805 - val_loss: 1.4522 - val_acc: 0.4792\n",
            "\n",
            "Epoch 00024: val_acc did not improve from 0.48426\n",
            "Epoch 25/30\n",
            "340/449 [=====================>........] - ETA: 20s - loss: 2.0934 - acc: 0.4812"
          ],
          "name": "stdout"
        },
        {
          "output_type": "stream",
          "text": [
            "449/449 [==============================] - 91s 202ms/step - loss: 2.0840 - acc: 0.4801 - val_loss: 1.4836 - val_acc: 0.4500\n",
            "\n",
            "Epoch 00025: val_acc did not improve from 0.48426\n",
            "Epoch 26/30\n",
            "339/449 [=====================>........] - ETA: 20s - loss: 2.0447 - acc: 0.4855"
          ],
          "name": "stdout"
        },
        {
          "output_type": "stream",
          "text": [
            "449/449 [==============================] - 91s 202ms/step - loss: 2.0476 - acc: 0.4858 - val_loss: 1.4143 - val_acc: 0.4826\n",
            "\n",
            "Epoch 00026: val_acc did not improve from 0.48426\n",
            "Epoch 27/30\n",
            "340/449 [=====================>........] - ETA: 20s - loss: 2.0295 - acc: 0.4856"
          ],
          "name": "stdout"
        },
        {
          "output_type": "stream",
          "text": [
            "449/449 [==============================] - 91s 202ms/step - loss: 2.0326 - acc: 0.4852 - val_loss: 1.4877 - val_acc: 0.4586\n",
            "\n",
            "Epoch 00027: val_acc did not improve from 0.48426\n",
            "Epoch 28/30\n",
            "338/449 [=====================>........] - ETA: 20s - loss: 2.0195 - acc: 0.4925"
          ],
          "name": "stdout"
        },
        {
          "output_type": "stream",
          "text": [
            "449/449 [==============================] - 91s 203ms/step - loss: 2.0277 - acc: 0.4898 - val_loss: 1.6888 - val_acc: 0.4143\n",
            "\n",
            "Epoch 00028: val_acc did not improve from 0.48426\n",
            "Epoch 29/30\n",
            "339/449 [=====================>........] - ETA: 20s - loss: 2.0121 - acc: 0.4969"
          ],
          "name": "stdout"
        },
        {
          "output_type": "stream",
          "text": [
            "449/449 [==============================] - 91s 202ms/step - loss: 2.0074 - acc: 0.4962 - val_loss: 1.3508 - val_acc: 0.5063\n",
            "\n",
            "Epoch 00029: val_acc improved from 0.48426 to 0.50627, saving model to weights-improvement-29-0.51.hdf5\n",
            "Epoch 30/30\n",
            "281/449 [=================>............] - ETA: 31s - loss: 2.0093 - acc: 0.4945"
          ],
          "name": "stdout"
        },
        {
          "output_type": "stream",
          "text": [
            "449/449 [==============================] - 91s 202ms/step - loss: 2.0029 - acc: 0.4970 - val_loss: 1.5496 - val_acc: 0.4205\n",
            "\n",
            "Epoch 00030: val_acc did not improve from 0.50627\n"
          ],
          "name": "stdout"
        },
        {
          "output_type": "execute_result",
          "data": {
            "text/plain": [
              "<keras.callbacks.History at 0x7f658c58a438>"
            ]
          },
          "metadata": {
            "tags": []
          },
          "execution_count": 36
        }
      ]
    },
    {
      "metadata": {
        "id": "C6ojHDrcTTDj",
        "colab_type": "code",
        "colab": {
          "autoexec": {
            "startup": false,
            "wait_interval": 0
          }
        }
      },
      "cell_type": "code",
      "source": [
        "!cp *.hdf5 drive/EIP/Facial_Expression_Recognition/iter_3"
      ],
      "execution_count": 0,
      "outputs": []
    },
    {
      "metadata": {
        "id": "Noga8KXUx1WL",
        "colab_type": "text"
      },
      "cell_type": "markdown",
      "source": [
        "##Epoch 31-50"
      ]
    },
    {
      "metadata": {
        "id": "OwIzN33aRqzE",
        "colab_type": "code",
        "colab": {
          "autoexec": {
            "startup": false,
            "wait_interval": 0
          },
          "base_uri": "https://localhost:8080/",
          "height": 1464
        },
        "outputId": "65864720-6426-4be6-9aaf-3ad39ff35860",
        "executionInfo": {
          "status": "ok",
          "timestamp": 1529557713265,
          "user_tz": -330,
          "elapsed": 1820423,
          "user": {
            "displayName": "suraj bonagiri",
            "photoUrl": "//lh6.googleusercontent.com/-0F1W31o5q6E/AAAAAAAAAAI/AAAAAAAAA1c/XRzofGyVVA0/s50-c-k-no/photo.jpg",
            "userId": "117654023614571625344"
          }
        }
      },
      "cell_type": "code",
      "source": [
        "model.load_weights('weights-improvement-29-0.51.hdf5')\n",
        "epoch = 30\n",
        "model.fit_generator(data_aug_x, \n",
        "                    epochs=50,\n",
        "                    verbose=1,\n",
        "                    initial_epoch=epoch,\n",
        "                    callbacks=callbacks_list,\n",
        "                    validation_data=(cv_img, cv_l),\n",
        "                    class_weight = class_weight)"
      ],
      "execution_count": 38,
      "outputs": [
        {
          "output_type": "stream",
          "text": [
            "Epoch 31/50\n",
            "449/449 [==============================] - 91s 203ms/step - loss: 1.9873 - acc: 0.4960 - val_loss: 1.4338 - val_acc: 0.4765\n",
            "\n",
            "Epoch 00031: val_acc did not improve from 0.50627\n",
            "Epoch 32/50\n",
            "207/449 [============>.................] - ETA: 45s - loss: 1.9393 - acc: 0.5103"
          ],
          "name": "stdout"
        },
        {
          "output_type": "stream",
          "text": [
            "449/449 [==============================] - 91s 203ms/step - loss: 1.9869 - acc: 0.4995 - val_loss: 1.3047 - val_acc: 0.5110\n",
            "\n",
            "Epoch 00032: val_acc improved from 0.50627 to 0.51101, saving model to weights-improvement-32-0.51.hdf5\n",
            "Epoch 33/50\n",
            "247/449 [===============>..............] - ETA: 38s - loss: 1.9379 - acc: 0.5045"
          ],
          "name": "stdout"
        },
        {
          "output_type": "stream",
          "text": [
            "449/449 [==============================] - 91s 203ms/step - loss: 1.9601 - acc: 0.5030 - val_loss: 1.3373 - val_acc: 0.5157\n",
            "\n",
            "Epoch 00033: val_acc improved from 0.51101 to 0.51574, saving model to weights-improvement-33-0.52.hdf5\n",
            "Epoch 34/50\n",
            "258/449 [================>.............] - ETA: 35s - loss: 1.9365 - acc: 0.5100"
          ],
          "name": "stdout"
        },
        {
          "output_type": "stream",
          "text": [
            "449/449 [==============================] - 91s 203ms/step - loss: 1.9556 - acc: 0.5061 - val_loss: 1.4084 - val_acc: 0.4781\n",
            "\n",
            "Epoch 00034: val_acc did not improve from 0.51574\n",
            "Epoch 35/50\n",
            "315/449 [====================>.........] - ETA: 25s - loss: 1.9264 - acc: 0.5120"
          ],
          "name": "stdout"
        },
        {
          "output_type": "stream",
          "text": [
            "449/449 [==============================] - 91s 203ms/step - loss: 1.9266 - acc: 0.5096 - val_loss: 1.2825 - val_acc: 0.5274\n",
            "\n",
            "Epoch 00035: val_acc improved from 0.51574 to 0.52744, saving model to weights-improvement-35-0.53.hdf5\n",
            "Epoch 36/50\n",
            "275/449 [=================>............] - ETA: 32s - loss: 1.9416 - acc: 0.5055"
          ],
          "name": "stdout"
        },
        {
          "output_type": "stream",
          "text": [
            "449/449 [==============================] - 91s 203ms/step - loss: 1.9369 - acc: 0.5096 - val_loss: 1.3507 - val_acc: 0.5060\n",
            "\n",
            "Epoch 00036: val_acc did not improve from 0.52744\n",
            "Epoch 37/50\n",
            "319/449 [====================>.........] - ETA: 24s - loss: 1.8919 - acc: 0.5131"
          ],
          "name": "stdout"
        },
        {
          "output_type": "stream",
          "text": [
            "449/449 [==============================] - 91s 203ms/step - loss: 1.8939 - acc: 0.5156 - val_loss: 1.3576 - val_acc: 0.4990\n",
            "\n",
            "Epoch 00037: val_acc did not improve from 0.52744\n",
            "Epoch 38/50\n",
            "333/449 [=====================>........] - ETA: 21s - loss: 1.8795 - acc: 0.5148"
          ],
          "name": "stdout"
        },
        {
          "output_type": "stream",
          "text": [
            "449/449 [==============================] - 91s 202ms/step - loss: 1.8903 - acc: 0.5162 - val_loss: 1.7247 - val_acc: 0.3773\n",
            "\n",
            "Epoch 00038: val_acc did not improve from 0.52744\n",
            "Epoch 39/50\n",
            "338/449 [=====================>........] - ETA: 20s - loss: 1.8768 - acc: 0.5190"
          ],
          "name": "stdout"
        },
        {
          "output_type": "stream",
          "text": [
            "449/449 [==============================] - 91s 202ms/step - loss: 1.8971 - acc: 0.5143 - val_loss: 1.6916 - val_acc: 0.4107\n",
            "\n",
            "Epoch 00039: val_acc did not improve from 0.52744\n",
            "Epoch 40/50\n",
            "339/449 [=====================>........] - ETA: 20s - loss: 1.8798 - acc: 0.5170"
          ],
          "name": "stdout"
        },
        {
          "output_type": "stream",
          "text": [
            "449/449 [==============================] - 91s 203ms/step - loss: 1.8792 - acc: 0.5179 - val_loss: 1.4113 - val_acc: 0.4882\n",
            "\n",
            "Epoch 00040: val_acc did not improve from 0.52744\n",
            "Epoch 41/50\n",
            "339/449 [=====================>........] - ETA: 20s - loss: 1.8704 - acc: 0.5233"
          ],
          "name": "stdout"
        },
        {
          "output_type": "stream",
          "text": [
            "449/449 [==============================] - 91s 202ms/step - loss: 1.8657 - acc: 0.5219 - val_loss: 1.3143 - val_acc: 0.5261\n",
            "\n",
            "Epoch 00041: val_acc did not improve from 0.52744\n",
            "Epoch 42/50\n",
            "340/449 [=====================>........] - ETA: 20s - loss: 1.8483 - acc: 0.5256"
          ],
          "name": "stdout"
        },
        {
          "output_type": "stream",
          "text": [
            "449/449 [==============================] - 91s 202ms/step - loss: 1.8546 - acc: 0.5244 - val_loss: 1.4011 - val_acc: 0.4773\n",
            "\n",
            "Epoch 00042: val_acc did not improve from 0.52744\n",
            "Epoch 43/50\n",
            "339/449 [=====================>........] - ETA: 20s - loss: 1.8338 - acc: 0.5280"
          ],
          "name": "stdout"
        },
        {
          "output_type": "stream",
          "text": [
            "449/449 [==============================] - 91s 202ms/step - loss: 1.8484 - acc: 0.5259 - val_loss: 1.4274 - val_acc: 0.4792\n",
            "\n",
            "Epoch 00043: val_acc did not improve from 0.52744\n",
            "Epoch 44/50\n",
            "337/449 [=====================>........] - ETA: 21s - loss: 1.8345 - acc: 0.5288"
          ],
          "name": "stdout"
        },
        {
          "output_type": "stream",
          "text": [
            "449/449 [==============================] - 91s 203ms/step - loss: 1.8313 - acc: 0.5290 - val_loss: 1.3399 - val_acc: 0.5166\n",
            "\n",
            "Epoch 00044: val_acc did not improve from 0.52744\n",
            "Epoch 45/50\n",
            "339/449 [=====================>........] - ETA: 20s - loss: 1.8086 - acc: 0.5307"
          ],
          "name": "stdout"
        },
        {
          "output_type": "stream",
          "text": [
            "449/449 [==============================] - 91s 202ms/step - loss: 1.8044 - acc: 0.5323 - val_loss: 1.3713 - val_acc: 0.5038\n",
            "\n",
            "Epoch 00045: val_acc did not improve from 0.52744\n",
            "Epoch 46/50\n",
            "340/449 [=====================>........] - ETA: 20s - loss: 1.8061 - acc: 0.5322"
          ],
          "name": "stdout"
        },
        {
          "output_type": "stream",
          "text": [
            "449/449 [==============================] - 91s 202ms/step - loss: 1.8137 - acc: 0.5301 - val_loss: 1.3438 - val_acc: 0.5180\n",
            "\n",
            "Epoch 00046: val_acc did not improve from 0.52744\n",
            "Epoch 47/50\n",
            "339/449 [=====================>........] - ETA: 20s - loss: 1.8007 - acc: 0.5370"
          ],
          "name": "stdout"
        },
        {
          "output_type": "stream",
          "text": [
            "449/449 [==============================] - 91s 203ms/step - loss: 1.7949 - acc: 0.5360 - val_loss: 1.6023 - val_acc: 0.4068\n",
            "\n",
            "Epoch 00047: val_acc did not improve from 0.52744\n",
            "Epoch 48/50\n",
            "338/449 [=====================>........] - ETA: 20s - loss: 1.7647 - acc: 0.5450"
          ],
          "name": "stdout"
        },
        {
          "output_type": "stream",
          "text": [
            "449/449 [==============================] - 91s 203ms/step - loss: 1.7750 - acc: 0.5414 - val_loss: 1.2218 - val_acc: 0.5403\n",
            "\n",
            "Epoch 00048: val_acc improved from 0.52744 to 0.54026, saving model to weights-improvement-48-0.54.hdf5\n",
            "Epoch 49/50\n",
            "280/449 [=================>............] - ETA: 31s - loss: 1.8009 - acc: 0.5338"
          ],
          "name": "stdout"
        },
        {
          "output_type": "stream",
          "text": [
            "449/449 [==============================] - 91s 203ms/step - loss: 1.7892 - acc: 0.5375 - val_loss: 1.3674 - val_acc: 0.5007\n",
            "\n",
            "Epoch 00049: val_acc did not improve from 0.54026\n",
            "Epoch 50/50\n",
            "322/449 [====================>.........] - ETA: 23s - loss: 1.7687 - acc: 0.5443"
          ],
          "name": "stdout"
        },
        {
          "output_type": "stream",
          "text": [
            "449/449 [==============================] - 91s 202ms/step - loss: 1.7737 - acc: 0.5416 - val_loss: 1.2439 - val_acc: 0.5358\n",
            "\n",
            "Epoch 00050: val_acc did not improve from 0.54026\n"
          ],
          "name": "stdout"
        },
        {
          "output_type": "execute_result",
          "data": {
            "text/plain": [
              "<keras.callbacks.History at 0x7f658c58f710>"
            ]
          },
          "metadata": {
            "tags": []
          },
          "execution_count": 38
        }
      ]
    },
    {
      "metadata": {
        "id": "Cmi2ZLAhosvU",
        "colab_type": "code",
        "colab": {
          "autoexec": {
            "startup": false,
            "wait_interval": 0
          }
        }
      },
      "cell_type": "code",
      "source": [
        "!cp *.hdf5 drive/EIP/Facial_Expression_Recognition/iter_3/"
      ],
      "execution_count": 0,
      "outputs": []
    },
    {
      "metadata": {
        "id": "42XAFgjqx6ZZ",
        "colab_type": "text"
      },
      "cell_type": "markdown",
      "source": [
        "## Epoch 51-70"
      ]
    },
    {
      "metadata": {
        "id": "elfz9L_6lzJv",
        "colab_type": "code",
        "colab": {
          "autoexec": {
            "startup": false,
            "wait_interval": 0
          },
          "base_uri": "https://localhost:8080/",
          "height": 1446
        },
        "outputId": "92345071-8e0b-4eec-a6dd-dbc068f6a4a1",
        "executionInfo": {
          "status": "ok",
          "timestamp": 1529559642090,
          "user_tz": -330,
          "elapsed": 1832064,
          "user": {
            "displayName": "suraj bonagiri",
            "photoUrl": "//lh6.googleusercontent.com/-0F1W31o5q6E/AAAAAAAAAAI/AAAAAAAAA1c/XRzofGyVVA0/s50-c-k-no/photo.jpg",
            "userId": "117654023614571625344"
          }
        }
      },
      "cell_type": "code",
      "source": [
        "model.load_weights('weights-improvement-48-0.54.hdf5')\n",
        "epoch = 50\n",
        "model.fit_generator(data_aug_x, \n",
        "                    epochs=70,\n",
        "                    verbose=1,\n",
        "                    initial_epoch=epoch,\n",
        "                    callbacks=callbacks_list,\n",
        "                    validation_data=(cv_img, cv_l),\n",
        "                    class_weight = class_weight)\n",
        "!cp *.hdf5 drive/EIP/Facial_Expression_Recognition/iter_3/"
      ],
      "execution_count": 40,
      "outputs": [
        {
          "output_type": "stream",
          "text": [
            "Epoch 51/70\n",
            "449/449 [==============================] - 91s 202ms/step - loss: 1.7646 - acc: 0.5402 - val_loss: 1.4448 - val_acc: 0.4798\n",
            "\n",
            "Epoch 00051: val_acc did not improve from 0.54026\n",
            "Epoch 52/70\n",
            "207/449 [============>.................] - ETA: 45s - loss: 1.7320 - acc: 0.5449"
          ],
          "name": "stdout"
        },
        {
          "output_type": "stream",
          "text": [
            "449/449 [==============================] - 91s 203ms/step - loss: 1.7446 - acc: 0.5424 - val_loss: 1.2840 - val_acc: 0.5417\n",
            "\n",
            "Epoch 00052: val_acc improved from 0.54026 to 0.54166, saving model to weights-improvement-52-0.54.hdf5\n",
            "Epoch 53/70\n",
            "249/449 [===============>..............] - ETA: 37s - loss: 1.7891 - acc: 0.5376"
          ],
          "name": "stdout"
        },
        {
          "output_type": "stream",
          "text": [
            "449/449 [==============================] - 91s 203ms/step - loss: 1.7854 - acc: 0.5387 - val_loss: 1.3046 - val_acc: 0.5219\n",
            "\n",
            "Epoch 00053: val_acc did not improve from 0.54166\n",
            "Epoch 54/70\n",
            "312/449 [===================>..........] - ETA: 25s - loss: 1.7379 - acc: 0.5462"
          ],
          "name": "stdout"
        },
        {
          "output_type": "stream",
          "text": [
            "449/449 [==============================] - 91s 202ms/step - loss: 1.7468 - acc: 0.5444 - val_loss: 1.4170 - val_acc: 0.4876\n",
            "\n",
            "Epoch 00054: val_acc did not improve from 0.54166\n",
            "Epoch 55/70\n",
            "332/449 [=====================>........] - ETA: 22s - loss: 1.7488 - acc: 0.5469"
          ],
          "name": "stdout"
        },
        {
          "output_type": "stream",
          "text": [
            "449/449 [==============================] - 91s 203ms/step - loss: 1.7437 - acc: 0.5485 - val_loss: 1.3082 - val_acc: 0.5249\n",
            "\n",
            "Epoch 00055: val_acc did not improve from 0.54166\n",
            "Epoch 56/70\n",
            "338/449 [=====================>........] - ETA: 20s - loss: 1.7488 - acc: 0.5443"
          ],
          "name": "stdout"
        },
        {
          "output_type": "stream",
          "text": [
            "449/449 [==============================] - 91s 202ms/step - loss: 1.7301 - acc: 0.5493 - val_loss: 1.2116 - val_acc: 0.5508\n",
            "\n",
            "Epoch 00056: val_acc improved from 0.54166 to 0.55085, saving model to weights-improvement-56-0.55.hdf5\n",
            "Epoch 57/70\n",
            "281/449 [=================>............] - ETA: 31s - loss: 1.6892 - acc: 0.5610"
          ],
          "name": "stdout"
        },
        {
          "output_type": "stream",
          "text": [
            "449/449 [==============================] - 91s 202ms/step - loss: 1.7245 - acc: 0.5534 - val_loss: 1.3610 - val_acc: 0.4987\n",
            "\n",
            "Epoch 00057: val_acc did not improve from 0.55085\n",
            "Epoch 58/70\n",
            "320/449 [====================>.........] - ETA: 24s - loss: 1.7166 - acc: 0.5460"
          ],
          "name": "stdout"
        },
        {
          "output_type": "stream",
          "text": [
            "449/449 [==============================] - 91s 203ms/step - loss: 1.7282 - acc: 0.5457 - val_loss: 1.3082 - val_acc: 0.5196\n",
            "\n",
            "Epoch 00058: val_acc did not improve from 0.55085\n",
            "Epoch 59/70\n",
            "333/449 [=====================>........] - ETA: 21s - loss: 1.7022 - acc: 0.5530"
          ],
          "name": "stdout"
        },
        {
          "output_type": "stream",
          "text": [
            "449/449 [==============================] - 91s 203ms/step - loss: 1.6988 - acc: 0.5552 - val_loss: 1.2318 - val_acc: 0.5344\n",
            "\n",
            "Epoch 00059: val_acc did not improve from 0.55085\n",
            "Epoch 60/70\n",
            "338/449 [=====================>........] - ETA: 20s - loss: 1.7160 - acc: 0.5529"
          ],
          "name": "stdout"
        },
        {
          "output_type": "stream",
          "text": [
            "449/449 [==============================] - 91s 203ms/step - loss: 1.7142 - acc: 0.5527 - val_loss: 1.2646 - val_acc: 0.5447\n",
            "\n",
            "Epoch 00060: val_acc did not improve from 0.55085\n",
            "Epoch 61/70\n",
            "339/449 [=====================>........] - ETA: 20s - loss: 1.6747 - acc: 0.5578"
          ],
          "name": "stdout"
        },
        {
          "output_type": "stream",
          "text": [
            "449/449 [==============================] - 91s 203ms/step - loss: 1.6682 - acc: 0.5580 - val_loss: 1.2703 - val_acc: 0.5350\n",
            "\n",
            "Epoch 00061: val_acc did not improve from 0.55085\n",
            "Epoch 62/70\n",
            "338/449 [=====================>........] - ETA: 20s - loss: 1.6763 - acc: 0.5615"
          ],
          "name": "stdout"
        },
        {
          "output_type": "stream",
          "text": [
            "449/449 [==============================] - 91s 203ms/step - loss: 1.6892 - acc: 0.5556 - val_loss: 1.5459 - val_acc: 0.4815\n",
            "\n",
            "Epoch 00062: val_acc did not improve from 0.55085\n",
            "Epoch 63/70\n",
            "337/449 [=====================>........] - ETA: 21s - loss: 1.6726 - acc: 0.5663"
          ],
          "name": "stdout"
        },
        {
          "output_type": "stream",
          "text": [
            "449/449 [==============================] - 91s 203ms/step - loss: 1.6683 - acc: 0.5673 - val_loss: 1.2741 - val_acc: 0.5520\n",
            "\n",
            "Epoch 00063: val_acc improved from 0.55085 to 0.55196, saving model to weights-improvement-63-0.55.hdf5\n",
            "Epoch 64/70\n",
            "280/449 [=================>............] - ETA: 31s - loss: 1.6467 - acc: 0.5638"
          ],
          "name": "stdout"
        },
        {
          "output_type": "stream",
          "text": [
            "449/449 [==============================] - 91s 203ms/step - loss: 1.6590 - acc: 0.5642 - val_loss: 1.3296 - val_acc: 0.5160\n",
            "\n",
            "Epoch 00064: val_acc did not improve from 0.55196\n",
            "Epoch 65/70\n",
            "322/449 [====================>.........] - ETA: 23s - loss: 1.6545 - acc: 0.5633"
          ],
          "name": "stdout"
        },
        {
          "output_type": "stream",
          "text": [
            "449/449 [==============================] - 91s 202ms/step - loss: 1.6520 - acc: 0.5620 - val_loss: 1.2564 - val_acc: 0.5330\n",
            "\n",
            "Epoch 00065: val_acc did not improve from 0.55196\n",
            "Epoch 66/70\n",
            "335/449 [=====================>........] - ETA: 21s - loss: 1.6299 - acc: 0.5697"
          ],
          "name": "stdout"
        },
        {
          "output_type": "stream",
          "text": [
            "449/449 [==============================] - 91s 203ms/step - loss: 1.6423 - acc: 0.5668 - val_loss: 1.4182 - val_acc: 0.4976\n",
            "\n",
            "Epoch 00066: val_acc did not improve from 0.55196\n",
            "Epoch 67/70\n",
            "338/449 [=====================>........] - ETA: 20s - loss: 1.6359 - acc: 0.5704"
          ],
          "name": "stdout"
        },
        {
          "output_type": "stream",
          "text": [
            "449/449 [==============================] - 91s 203ms/step - loss: 1.6445 - acc: 0.5693 - val_loss: 1.2870 - val_acc: 0.5277\n",
            "\n",
            "Epoch 00067: val_acc did not improve from 0.55196\n",
            "Epoch 68/70\n",
            "339/449 [=====================>........] - ETA: 20s - loss: 1.6464 - acc: 0.5638"
          ],
          "name": "stdout"
        },
        {
          "output_type": "stream",
          "text": [
            "449/449 [==============================] - 91s 203ms/step - loss: 1.6410 - acc: 0.5657 - val_loss: 1.2387 - val_acc: 0.5514\n",
            "\n",
            "Epoch 00068: val_acc did not improve from 0.55196\n",
            "Epoch 69/70\n",
            "340/449 [=====================>........] - ETA: 20s - loss: 1.6023 - acc: 0.5709"
          ],
          "name": "stdout"
        },
        {
          "output_type": "stream",
          "text": [
            "449/449 [==============================] - 91s 203ms/step - loss: 1.6213 - acc: 0.5687 - val_loss: 1.2781 - val_acc: 0.5311\n",
            "\n",
            "Epoch 00069: val_acc did not improve from 0.55196\n",
            "Epoch 70/70\n",
            "340/449 [=====================>........] - ETA: 20s - loss: 1.6245 - acc: 0.5734"
          ],
          "name": "stdout"
        },
        {
          "output_type": "stream",
          "text": [
            "449/449 [==============================] - 91s 202ms/step - loss: 1.6448 - acc: 0.5671 - val_loss: 1.2568 - val_acc: 0.5224\n",
            "\n",
            "Epoch 00070: val_acc did not improve from 0.55196\n"
          ],
          "name": "stdout"
        }
      ]
    },
    {
      "metadata": {
        "id": "JZzzU_nLkknq",
        "colab_type": "text"
      },
      "cell_type": "markdown",
      "source": [
        "## Epochs 71-80"
      ]
    },
    {
      "metadata": {
        "id": "U70XB5yOkj2O",
        "colab_type": "code",
        "colab": {
          "autoexec": {
            "startup": false,
            "wait_interval": 0
          },
          "base_uri": "https://localhost:8080/",
          "height": 732
        },
        "outputId": "99919ed6-83df-4902-d251-86be58141ff1",
        "executionInfo": {
          "status": "ok",
          "timestamp": 1529560805631,
          "user_tz": -330,
          "elapsed": 950062,
          "user": {
            "displayName": "suraj bonagiri",
            "photoUrl": "//lh6.googleusercontent.com/-0F1W31o5q6E/AAAAAAAAAAI/AAAAAAAAA1c/XRzofGyVVA0/s50-c-k-no/photo.jpg",
            "userId": "117654023614571625344"
          }
        }
      },
      "cell_type": "code",
      "source": [
        "model.load_weights('weights-improvement-63-0.55.hdf5')\n",
        "epoch = 70\n",
        "model.fit_generator(data_aug_x, \n",
        "                    epochs=80,\n",
        "                    verbose=1,\n",
        "                    initial_epoch=epoch,\n",
        "                    callbacks=callbacks_list,\n",
        "                    validation_data=(cv_img, cv_l),\n",
        "                    class_weight = class_weight)\n",
        "!cp *.hdf5 drive/EIP/Facial_Expression_Recognition/iter_3/"
      ],
      "execution_count": 43,
      "outputs": [
        {
          "output_type": "stream",
          "text": [
            "Epoch 71/80\n",
            "449/449 [==============================] - 94s 210ms/step - loss: 1.6484 - acc: 0.5652 - val_loss: 1.3410 - val_acc: 0.5116\n",
            "\n",
            "Epoch 00071: val_acc improved from -inf to 0.51156, saving model to weights-improvement-71-0.51.hdf5\n",
            "Epoch 72/80\n",
            "174/449 [==========>...................] - ETA: 52s - loss: 1.5977 - acc: 0.5789"
          ],
          "name": "stdout"
        },
        {
          "output_type": "stream",
          "text": [
            "449/449 [==============================] - 92s 204ms/step - loss: 1.6562 - acc: 0.5626 - val_loss: 1.2905 - val_acc: 0.5327\n",
            "\n",
            "Epoch 00072: val_acc improved from 0.51156 to 0.53274, saving model to weights-improvement-72-0.53.hdf5\n",
            "Epoch 73/80\n",
            "239/449 [==============>...............] - ETA: 39s - loss: 1.6354 - acc: 0.5698"
          ],
          "name": "stdout"
        },
        {
          "output_type": "stream",
          "text": [
            "449/449 [==============================] - 92s 204ms/step - loss: 1.6569 - acc: 0.5659 - val_loss: 1.2964 - val_acc: 0.5302\n",
            "\n",
            "Epoch 00073: val_acc did not improve from 0.53274\n",
            "Epoch 74/80\n",
            "306/449 [===================>..........] - ETA: 27s - loss: 1.6177 - acc: 0.5738"
          ],
          "name": "stdout"
        },
        {
          "output_type": "stream",
          "text": [
            "449/449 [==============================] - 92s 204ms/step - loss: 1.6221 - acc: 0.5731 - val_loss: 1.3700 - val_acc: 0.5082\n",
            "\n",
            "Epoch 00074: val_acc did not improve from 0.53274\n",
            "Epoch 75/80\n",
            "326/449 [====================>.........] - ETA: 23s - loss: 1.6325 - acc: 0.5740"
          ],
          "name": "stdout"
        },
        {
          "output_type": "stream",
          "text": [
            "449/449 [==============================] - 92s 205ms/step - loss: 1.6307 - acc: 0.5725 - val_loss: 1.3351 - val_acc: 0.5160\n",
            "\n",
            "Epoch 00075: val_acc did not improve from 0.53274\n",
            "Epoch 76/80\n",
            "331/449 [=====================>........] - ETA: 22s - loss: 1.6383 - acc: 0.5694"
          ],
          "name": "stdout"
        },
        {
          "output_type": "stream",
          "text": [
            "449/449 [==============================] - 92s 205ms/step - loss: 1.6268 - acc: 0.5707 - val_loss: 1.2746 - val_acc: 0.5366\n",
            "\n",
            "Epoch 00076: val_acc improved from 0.53274 to 0.53664, saving model to weights-improvement-76-0.54.hdf5\n",
            "Epoch 77/80\n",
            "280/449 [=================>............] - ETA: 32s - loss: 1.6000 - acc: 0.5770"
          ],
          "name": "stdout"
        },
        {
          "output_type": "stream",
          "text": [
            "449/449 [==============================] - 92s 205ms/step - loss: 1.6095 - acc: 0.5735 - val_loss: 1.3204 - val_acc: 0.5308\n",
            "\n",
            "Epoch 00077: val_acc did not improve from 0.53664\n",
            "Epoch 78/80\n",
            "319/449 [====================>.........] - ETA: 24s - loss: 1.6013 - acc: 0.5768"
          ],
          "name": "stdout"
        },
        {
          "output_type": "stream",
          "text": [
            "449/449 [==============================] - 92s 204ms/step - loss: 1.6070 - acc: 0.5752 - val_loss: 1.2080 - val_acc: 0.5522\n",
            "\n",
            "Epoch 00078: val_acc improved from 0.53664 to 0.55224, saving model to weights-improvement-78-0.55.hdf5\n",
            "Epoch 79/80\n",
            "274/449 [=================>............] - ETA: 33s - loss: 1.5614 - acc: 0.5829"
          ],
          "name": "stdout"
        },
        {
          "output_type": "stream",
          "text": [
            "449/449 [==============================] - 92s 205ms/step - loss: 1.5888 - acc: 0.5775 - val_loss: 1.2794 - val_acc: 0.5222\n",
            "\n",
            "Epoch 00079: val_acc did not improve from 0.55224\n",
            "Epoch 80/80\n",
            "318/449 [====================>.........] - ETA: 24s - loss: 1.5887 - acc: 0.5723"
          ],
          "name": "stdout"
        },
        {
          "output_type": "stream",
          "text": [
            "449/449 [==============================] - 92s 205ms/step - loss: 1.5955 - acc: 0.5718 - val_loss: 1.1966 - val_acc: 0.5648\n",
            "\n",
            "Epoch 00080: val_acc improved from 0.55224 to 0.56478, saving model to weights-improvement-80-0.56.hdf5\n"
          ],
          "name": "stdout"
        }
      ]
    },
    {
      "metadata": {
        "id": "Q85Idiibx_8P",
        "colab_type": "text"
      },
      "cell_type": "markdown",
      "source": [
        "## Epoch 81-100"
      ]
    },
    {
      "metadata": {
        "id": "Vy-VvVW4FpKf",
        "colab_type": "code",
        "colab": {
          "autoexec": {
            "startup": false,
            "wait_interval": 0
          },
          "base_uri": "https://localhost:8080/",
          "height": 1446
        },
        "outputId": "d1c9b0e6-8ab9-40fb-8e31-6141ebc1f415",
        "executionInfo": {
          "status": "ok",
          "timestamp": 1529562804348,
          "user_tz": -330,
          "elapsed": 1850565,
          "user": {
            "displayName": "suraj bonagiri",
            "photoUrl": "//lh6.googleusercontent.com/-0F1W31o5q6E/AAAAAAAAAAI/AAAAAAAAA1c/XRzofGyVVA0/s50-c-k-no/photo.jpg",
            "userId": "117654023614571625344"
          }
        }
      },
      "cell_type": "code",
      "source": [
        "model.load_weights('weights-improvement-80-0.56.hdf5')\n",
        "epoch = 80\n",
        "model.fit_generator(data_aug_x, \n",
        "                    epochs=100,\n",
        "                    verbose=1,\n",
        "                    initial_epoch=epoch,\n",
        "                    callbacks=callbacks_list,\n",
        "                    validation_data=(cv_img, cv_l),\n",
        "                    class_weight = class_weight)\n",
        "!cp *.hdf5 drive/EIP/Facial_Expression_Recognition/iter_3/"
      ],
      "execution_count": 45,
      "outputs": [
        {
          "output_type": "stream",
          "text": [
            "Epoch 81/100\n",
            "449/449 [==============================] - 92s 205ms/step - loss: 1.5933 - acc: 0.5769 - val_loss: 1.2578 - val_acc: 0.5497\n",
            "\n",
            "Epoch 00081: val_acc did not improve from 0.56478\n",
            "Epoch 82/100\n",
            "201/449 [============>.................] - ETA: 47s - loss: 1.5621 - acc: 0.5758"
          ],
          "name": "stdout"
        },
        {
          "output_type": "stream",
          "text": [
            "449/449 [==============================] - 92s 205ms/step - loss: 1.5782 - acc: 0.5780 - val_loss: 1.4031 - val_acc: 0.5121\n",
            "\n",
            "Epoch 00082: val_acc did not improve from 0.56478\n",
            "Epoch 83/100\n",
            "293/449 [==================>...........] - ETA: 29s - loss: 1.5692 - acc: 0.5794"
          ],
          "name": "stdout"
        },
        {
          "output_type": "stream",
          "text": [
            "449/449 [==============================] - 92s 205ms/step - loss: 1.5936 - acc: 0.5755 - val_loss: 1.5082 - val_acc: 0.4617\n",
            "\n",
            "Epoch 00083: val_acc did not improve from 0.56478\n",
            "Epoch 84/100\n",
            "320/449 [====================>.........] - ETA: 24s - loss: 1.5566 - acc: 0.5844"
          ],
          "name": "stdout"
        },
        {
          "output_type": "stream",
          "text": [
            "449/449 [==============================] - 92s 205ms/step - loss: 1.5713 - acc: 0.5817 - val_loss: 1.2584 - val_acc: 0.5327\n",
            "\n",
            "Epoch 00084: val_acc did not improve from 0.56478\n",
            "Epoch 85/100\n",
            "330/449 [=====================>........] - ETA: 22s - loss: 1.5733 - acc: 0.5815"
          ],
          "name": "stdout"
        },
        {
          "output_type": "stream",
          "text": [
            "449/449 [==============================] - 92s 204ms/step - loss: 1.5662 - acc: 0.5839 - val_loss: 1.2604 - val_acc: 0.5506\n",
            "\n",
            "Epoch 00085: val_acc did not improve from 0.56478\n",
            "Epoch 86/100\n",
            "331/449 [=====================>........] - ETA: 22s - loss: 1.5782 - acc: 0.5863"
          ],
          "name": "stdout"
        },
        {
          "output_type": "stream",
          "text": [
            "449/449 [==============================] - 92s 204ms/step - loss: 1.5834 - acc: 0.5850 - val_loss: 1.2079 - val_acc: 0.5584\n",
            "\n",
            "Epoch 00086: val_acc did not improve from 0.56478\n",
            "Epoch 87/100\n",
            "334/449 [=====================>........] - ETA: 21s - loss: 1.5415 - acc: 0.5897"
          ],
          "name": "stdout"
        },
        {
          "output_type": "stream",
          "text": [
            "449/449 [==============================] - 92s 204ms/step - loss: 1.5442 - acc: 0.5890 - val_loss: 1.2908 - val_acc: 0.5425\n",
            "\n",
            "Epoch 00087: val_acc did not improve from 0.56478\n",
            "Epoch 88/100\n",
            "328/449 [====================>.........] - ETA: 22s - loss: 1.5255 - acc: 0.5958"
          ],
          "name": "stdout"
        },
        {
          "output_type": "stream",
          "text": [
            "449/449 [==============================] - 92s 205ms/step - loss: 1.5307 - acc: 0.5919 - val_loss: 1.2900 - val_acc: 0.5313\n",
            "\n",
            "Epoch 00088: val_acc did not improve from 0.56478\n",
            "Epoch 89/100\n",
            "332/449 [=====================>........] - ETA: 22s - loss: 1.5326 - acc: 0.5914"
          ],
          "name": "stdout"
        },
        {
          "output_type": "stream",
          "text": [
            "449/449 [==============================] - 92s 204ms/step - loss: 1.5464 - acc: 0.5862 - val_loss: 1.2799 - val_acc: 0.5400\n",
            "\n",
            "Epoch 00089: val_acc did not improve from 0.56478\n",
            "Epoch 90/100\n",
            "333/449 [=====================>........] - ETA: 22s - loss: 1.5388 - acc: 0.5915"
          ],
          "name": "stdout"
        },
        {
          "output_type": "stream",
          "text": [
            "449/449 [==============================] - 92s 205ms/step - loss: 1.5266 - acc: 0.5925 - val_loss: 1.2499 - val_acc: 0.5645\n",
            "\n",
            "Epoch 00090: val_acc did not improve from 0.56478\n",
            "Epoch 91/100\n",
            "334/449 [=====================>........] - ETA: 21s - loss: 1.5209 - acc: 0.5917"
          ],
          "name": "stdout"
        },
        {
          "output_type": "stream",
          "text": [
            "449/449 [==============================] - 92s 205ms/step - loss: 1.5075 - acc: 0.5939 - val_loss: 1.2393 - val_acc: 0.5567\n",
            "\n",
            "Epoch 00091: val_acc did not improve from 0.56478\n",
            "Epoch 92/100\n",
            "334/449 [=====================>........] - ETA: 21s - loss: 1.5276 - acc: 0.5909"
          ],
          "name": "stdout"
        },
        {
          "output_type": "stream",
          "text": [
            "449/449 [==============================] - 92s 205ms/step - loss: 1.5367 - acc: 0.5897 - val_loss: 1.2106 - val_acc: 0.5584\n",
            "\n",
            "Epoch 00092: val_acc did not improve from 0.56478\n",
            "Epoch 93/100\n",
            "333/449 [=====================>........] - ETA: 22s - loss: 1.5032 - acc: 0.5963"
          ],
          "name": "stdout"
        },
        {
          "output_type": "stream",
          "text": [
            "449/449 [==============================] - 92s 204ms/step - loss: 1.5242 - acc: 0.5941 - val_loss: 1.2841 - val_acc: 0.5361\n",
            "\n",
            "Epoch 00093: val_acc did not improve from 0.56478\n",
            "Epoch 94/100\n",
            "332/449 [=====================>........] - ETA: 22s - loss: 1.5332 - acc: 0.5930"
          ],
          "name": "stdout"
        },
        {
          "output_type": "stream",
          "text": [
            "449/449 [==============================] - 92s 204ms/step - loss: 1.5299 - acc: 0.5925 - val_loss: 1.2810 - val_acc: 0.5467\n",
            "\n",
            "Epoch 00094: val_acc did not improve from 0.56478\n",
            "Epoch 95/100\n",
            "335/449 [=====================>........] - ETA: 21s - loss: 1.5277 - acc: 0.5907"
          ],
          "name": "stdout"
        },
        {
          "output_type": "stream",
          "text": [
            "449/449 [==============================] - 92s 204ms/step - loss: 1.5222 - acc: 0.5898 - val_loss: 1.3724 - val_acc: 0.5247\n",
            "\n",
            "Epoch 00095: val_acc did not improve from 0.56478\n",
            "Epoch 96/100\n",
            "332/449 [=====================>........] - ETA: 22s - loss: 1.5060 - acc: 0.5948"
          ],
          "name": "stdout"
        },
        {
          "output_type": "stream",
          "text": [
            "449/449 [==============================] - 92s 204ms/step - loss: 1.5094 - acc: 0.5954 - val_loss: 1.2701 - val_acc: 0.5478\n",
            "\n",
            "Epoch 00096: val_acc did not improve from 0.56478\n",
            "Epoch 97/100\n",
            "334/449 [=====================>........] - ETA: 21s - loss: 1.4726 - acc: 0.6029"
          ],
          "name": "stdout"
        },
        {
          "output_type": "stream",
          "text": [
            "449/449 [==============================] - 92s 205ms/step - loss: 1.4684 - acc: 0.6019 - val_loss: 1.2008 - val_acc: 0.5651\n",
            "\n",
            "Epoch 00097: val_acc improved from 0.56478 to 0.56506, saving model to weights-improvement-97-0.57.hdf5\n",
            "Epoch 98/100\n",
            "278/449 [=================>............] - ETA: 32s - loss: 1.4604 - acc: 0.6024"
          ],
          "name": "stdout"
        },
        {
          "output_type": "stream",
          "text": [
            "449/449 [==============================] - 92s 205ms/step - loss: 1.4821 - acc: 0.6008 - val_loss: 1.2021 - val_acc: 0.5692\n",
            "\n",
            "Epoch 00098: val_acc improved from 0.56506 to 0.56924, saving model to weights-improvement-98-0.57.hdf5\n",
            "Epoch 99/100\n",
            "260/449 [================>.............] - ETA: 35s - loss: 1.4785 - acc: 0.6030"
          ],
          "name": "stdout"
        },
        {
          "output_type": "stream",
          "text": [
            "449/449 [==============================] - 92s 204ms/step - loss: 1.4833 - acc: 0.6014 - val_loss: 1.2520 - val_acc: 0.5612\n",
            "\n",
            "Epoch 00099: val_acc did not improve from 0.56924\n",
            "Epoch 100/100\n",
            "307/449 [===================>..........] - ETA: 26s - loss: 1.4746 - acc: 0.6074"
          ],
          "name": "stdout"
        },
        {
          "output_type": "stream",
          "text": [
            "449/449 [==============================] - 92s 205ms/step - loss: 1.4889 - acc: 0.6039 - val_loss: 1.2082 - val_acc: 0.5614\n",
            "\n",
            "Epoch 00100: val_acc did not improve from 0.56924\n"
          ],
          "name": "stdout"
        }
      ]
    },
    {
      "metadata": {
        "id": "uCnEahRIyEeX",
        "colab_type": "text"
      },
      "cell_type": "markdown",
      "source": [
        "## Epoch 101-120"
      ]
    },
    {
      "metadata": {
        "id": "4TId2AiXbBE8",
        "colab_type": "code",
        "colab": {
          "autoexec": {
            "startup": false,
            "wait_interval": 0
          },
          "base_uri": "https://localhost:8080/",
          "height": 725
        },
        "outputId": "35ac939a-eeac-44a8-d369-adfe513dc6a2",
        "executionInfo": {
          "status": "error",
          "timestamp": 1529568011066,
          "user_tz": -330,
          "elapsed": 1037,
          "user": {
            "displayName": "suraj bonagiri",
            "photoUrl": "//lh6.googleusercontent.com/-0F1W31o5q6E/AAAAAAAAAAI/AAAAAAAAA1c/XRzofGyVVA0/s50-c-k-no/photo.jpg",
            "userId": "117654023614571625344"
          }
        }
      },
      "cell_type": "code",
      "source": [
        "model.load_weights('weights-improvement-98-0.57.hdf5')\n",
        "epoch = 100\n",
        "model.fit_generator(data_aug_x, \n",
        "                    epochs=120,\n",
        "                    verbose=1,\n",
        "                    initial_epoch=epoch,\n",
        "                    callbacks=callbacks_list,\n",
        "                    validation_data=(cv_img, cv_l),\n",
        "                    class_weight = class_weight)\n",
        "!cp *.hdf5 drive/EIP/Facial_Expression_Recognition/iter_3/"
      ],
      "execution_count": 54,
      "outputs": [
        {
          "output_type": "error",
          "ename": "OSError",
          "evalue": "ignored",
          "traceback": [
            "\u001b[0;31m---------------------------------------------------------------------------\u001b[0m",
            "\u001b[0;31mOSError\u001b[0m                                   Traceback (most recent call last)",
            "\u001b[0;32m<ipython-input-54-128b70b0d409>\u001b[0m in \u001b[0;36m<module>\u001b[0;34m()\u001b[0m\n\u001b[0;32m----> 1\u001b[0;31m \u001b[0mmodel\u001b[0m\u001b[0;34m.\u001b[0m\u001b[0mload_weights\u001b[0m\u001b[0;34m(\u001b[0m\u001b[0;34m'weights-improvement-98-0.57.hdf5'\u001b[0m\u001b[0;34m)\u001b[0m\u001b[0;34m\u001b[0m\u001b[0m\n\u001b[0m\u001b[1;32m      2\u001b[0m \u001b[0mepoch\u001b[0m \u001b[0;34m=\u001b[0m \u001b[0;36m100\u001b[0m\u001b[0;34m\u001b[0m\u001b[0m\n\u001b[1;32m      3\u001b[0m model.fit_generator(data_aug_x, \n\u001b[1;32m      4\u001b[0m                     \u001b[0mepochs\u001b[0m\u001b[0;34m=\u001b[0m\u001b[0;36m120\u001b[0m\u001b[0;34m,\u001b[0m\u001b[0;34m\u001b[0m\u001b[0m\n\u001b[1;32m      5\u001b[0m                     \u001b[0mverbose\u001b[0m\u001b[0;34m=\u001b[0m\u001b[0;36m1\u001b[0m\u001b[0;34m,\u001b[0m\u001b[0;34m\u001b[0m\u001b[0m\n",
            "\u001b[0;32m/usr/local/lib/python3.6/dist-packages/keras/models.py\u001b[0m in \u001b[0;36mload_weights\u001b[0;34m(self, filepath, by_name, skip_mismatch, reshape)\u001b[0m\n\u001b[1;32m    752\u001b[0m         \u001b[0;32mif\u001b[0m \u001b[0mh5py\u001b[0m \u001b[0;32mis\u001b[0m \u001b[0;32mNone\u001b[0m\u001b[0;34m:\u001b[0m\u001b[0;34m\u001b[0m\u001b[0m\n\u001b[1;32m    753\u001b[0m             \u001b[0;32mraise\u001b[0m \u001b[0mImportError\u001b[0m\u001b[0;34m(\u001b[0m\u001b[0;34m'`load_weights` requires h5py.'\u001b[0m\u001b[0;34m)\u001b[0m\u001b[0;34m\u001b[0m\u001b[0m\n\u001b[0;32m--> 754\u001b[0;31m         \u001b[0;32mwith\u001b[0m \u001b[0mh5py\u001b[0m\u001b[0;34m.\u001b[0m\u001b[0mFile\u001b[0m\u001b[0;34m(\u001b[0m\u001b[0mfilepath\u001b[0m\u001b[0;34m,\u001b[0m \u001b[0mmode\u001b[0m\u001b[0;34m=\u001b[0m\u001b[0;34m'r'\u001b[0m\u001b[0;34m)\u001b[0m \u001b[0;32mas\u001b[0m \u001b[0mf\u001b[0m\u001b[0;34m:\u001b[0m\u001b[0;34m\u001b[0m\u001b[0m\n\u001b[0m\u001b[1;32m    755\u001b[0m             \u001b[0;32mif\u001b[0m \u001b[0;34m'layer_names'\u001b[0m \u001b[0;32mnot\u001b[0m \u001b[0;32min\u001b[0m \u001b[0mf\u001b[0m\u001b[0;34m.\u001b[0m\u001b[0mattrs\u001b[0m \u001b[0;32mand\u001b[0m \u001b[0;34m'model_weights'\u001b[0m \u001b[0;32min\u001b[0m \u001b[0mf\u001b[0m\u001b[0;34m:\u001b[0m\u001b[0;34m\u001b[0m\u001b[0m\n\u001b[1;32m    756\u001b[0m                 \u001b[0mf\u001b[0m \u001b[0;34m=\u001b[0m \u001b[0mf\u001b[0m\u001b[0;34m[\u001b[0m\u001b[0;34m'model_weights'\u001b[0m\u001b[0;34m]\u001b[0m\u001b[0;34m\u001b[0m\u001b[0m\n",
            "\u001b[0;32m/usr/local/lib/python3.6/dist-packages/h5py/_hl/files.py\u001b[0m in \u001b[0;36m__init__\u001b[0;34m(self, name, mode, driver, libver, userblock_size, swmr, **kwds)\u001b[0m\n\u001b[1;32m    267\u001b[0m             \u001b[0;32mwith\u001b[0m \u001b[0mphil\u001b[0m\u001b[0;34m:\u001b[0m\u001b[0;34m\u001b[0m\u001b[0m\n\u001b[1;32m    268\u001b[0m                 \u001b[0mfapl\u001b[0m \u001b[0;34m=\u001b[0m \u001b[0mmake_fapl\u001b[0m\u001b[0;34m(\u001b[0m\u001b[0mdriver\u001b[0m\u001b[0;34m,\u001b[0m \u001b[0mlibver\u001b[0m\u001b[0;34m,\u001b[0m \u001b[0;34m**\u001b[0m\u001b[0mkwds\u001b[0m\u001b[0;34m)\u001b[0m\u001b[0;34m\u001b[0m\u001b[0m\n\u001b[0;32m--> 269\u001b[0;31m                 \u001b[0mfid\u001b[0m \u001b[0;34m=\u001b[0m \u001b[0mmake_fid\u001b[0m\u001b[0;34m(\u001b[0m\u001b[0mname\u001b[0m\u001b[0;34m,\u001b[0m \u001b[0mmode\u001b[0m\u001b[0;34m,\u001b[0m \u001b[0muserblock_size\u001b[0m\u001b[0;34m,\u001b[0m \u001b[0mfapl\u001b[0m\u001b[0;34m,\u001b[0m \u001b[0mswmr\u001b[0m\u001b[0;34m=\u001b[0m\u001b[0mswmr\u001b[0m\u001b[0;34m)\u001b[0m\u001b[0;34m\u001b[0m\u001b[0m\n\u001b[0m\u001b[1;32m    270\u001b[0m \u001b[0;34m\u001b[0m\u001b[0m\n\u001b[1;32m    271\u001b[0m                 \u001b[0;32mif\u001b[0m \u001b[0mswmr_support\u001b[0m\u001b[0;34m:\u001b[0m\u001b[0;34m\u001b[0m\u001b[0m\n",
            "\u001b[0;32m/usr/local/lib/python3.6/dist-packages/h5py/_hl/files.py\u001b[0m in \u001b[0;36mmake_fid\u001b[0;34m(name, mode, userblock_size, fapl, fcpl, swmr)\u001b[0m\n\u001b[1;32m     97\u001b[0m         \u001b[0;32mif\u001b[0m \u001b[0mswmr\u001b[0m \u001b[0;32mand\u001b[0m \u001b[0mswmr_support\u001b[0m\u001b[0;34m:\u001b[0m\u001b[0;34m\u001b[0m\u001b[0m\n\u001b[1;32m     98\u001b[0m             \u001b[0mflags\u001b[0m \u001b[0;34m|=\u001b[0m \u001b[0mh5f\u001b[0m\u001b[0;34m.\u001b[0m\u001b[0mACC_SWMR_READ\u001b[0m\u001b[0;34m\u001b[0m\u001b[0m\n\u001b[0;32m---> 99\u001b[0;31m         \u001b[0mfid\u001b[0m \u001b[0;34m=\u001b[0m \u001b[0mh5f\u001b[0m\u001b[0;34m.\u001b[0m\u001b[0mopen\u001b[0m\u001b[0;34m(\u001b[0m\u001b[0mname\u001b[0m\u001b[0;34m,\u001b[0m \u001b[0mflags\u001b[0m\u001b[0;34m,\u001b[0m \u001b[0mfapl\u001b[0m\u001b[0;34m=\u001b[0m\u001b[0mfapl\u001b[0m\u001b[0;34m)\u001b[0m\u001b[0;34m\u001b[0m\u001b[0m\n\u001b[0m\u001b[1;32m    100\u001b[0m     \u001b[0;32melif\u001b[0m \u001b[0mmode\u001b[0m \u001b[0;34m==\u001b[0m \u001b[0;34m'r+'\u001b[0m\u001b[0;34m:\u001b[0m\u001b[0;34m\u001b[0m\u001b[0m\n\u001b[1;32m    101\u001b[0m         \u001b[0mfid\u001b[0m \u001b[0;34m=\u001b[0m \u001b[0mh5f\u001b[0m\u001b[0;34m.\u001b[0m\u001b[0mopen\u001b[0m\u001b[0;34m(\u001b[0m\u001b[0mname\u001b[0m\u001b[0;34m,\u001b[0m \u001b[0mh5f\u001b[0m\u001b[0;34m.\u001b[0m\u001b[0mACC_RDWR\u001b[0m\u001b[0;34m,\u001b[0m \u001b[0mfapl\u001b[0m\u001b[0;34m=\u001b[0m\u001b[0mfapl\u001b[0m\u001b[0;34m)\u001b[0m\u001b[0;34m\u001b[0m\u001b[0m\n",
            "\u001b[0;32mh5py/_objects.pyx\u001b[0m in \u001b[0;36mh5py._objects.with_phil.wrapper\u001b[0;34m()\u001b[0m\n",
            "\u001b[0;32mh5py/_objects.pyx\u001b[0m in \u001b[0;36mh5py._objects.with_phil.wrapper\u001b[0;34m()\u001b[0m\n",
            "\u001b[0;32mh5py/h5f.pyx\u001b[0m in \u001b[0;36mh5py.h5f.open\u001b[0;34m()\u001b[0m\n",
            "\u001b[0;31mOSError\u001b[0m: Unable to open file (unable to open file: name = 'weights-improvement-98-0.57.hdf5', errno = 2, error message = 'No such file or directory', flags = 0, o_flags = 0)"
          ]
        }
      ]
    },
    {
      "metadata": {
        "id": "l9r7ywNiVCrB",
        "colab_type": "text"
      },
      "cell_type": "markdown",
      "source": [
        "## Epochs 100-120"
      ]
    },
    {
      "metadata": {
        "id": "abrTcHVvKvzs",
        "colab_type": "code",
        "colab": {
          "autoexec": {
            "startup": false,
            "wait_interval": 0
          },
          "base_uri": "https://localhost:8080/",
          "height": 339
        },
        "outputId": "851bf3f0-edb8-4b58-cfe0-468e0d8f3281"
      },
      "cell_type": "code",
      "source": [
        "lr=0.0003\n",
        "model.compile(loss='categorical_crossentropy',\n",
        "             optimizer='adam',\n",
        "             metrics=['accuracy'])\n",
        "\n",
        "# checkpoint\n",
        "from keras.callbacks import ModelCheckpoint\n",
        "filepath= \"weights-improvement-{epoch:02d}-{val_acc:.2f}.hdf5\"\n",
        "checkpoint = ModelCheckpoint(filepath, monitor='val_acc', verbose=1, save_best_only=True, save_weights_only=True, mode='max')\n",
        "callbacks_list = [checkpoint]\n",
        "\n",
        "model.load_weights('weights-improvement-97-0.58.hdf5')\n",
        "epoch = 100\n",
        "model.fit_generator(data_aug_x, \n",
        "                    epochs=120,\n",
        "                    verbose=1,\n",
        "                    initial_epoch=epoch,\n",
        "                    callbacks=callbacks_list,\n",
        "                    validation_data=(cv_img, cv_l),\n",
        "                    class_weight = class_weight)\n",
        "!cp *.hdf5 drive/EIP/Facial_Expression_Recognition/iter_4/"
      ],
      "execution_count": 0,
      "outputs": [
        {
          "output_type": "stream",
          "text": [
            "Epoch 101/120\n",
            "449/449 [==============================] - 96s 214ms/step - loss: 1.4068 - acc: 0.6223 - val_loss: 1.2775 - val_acc: 0.5542\n",
            "\n",
            "Epoch 00101: val_acc improved from -inf to 0.55419, saving model to weights-improvement-101-0.55.hdf5\n",
            "Epoch 102/120\n",
            "162/449 [=========>....................] - ETA: 54s - loss: 1.4498 - acc: 0.6094"
          ],
          "name": "stdout"
        },
        {
          "output_type": "stream",
          "text": [
            "449/449 [==============================] - 92s 204ms/step - loss: 1.4203 - acc: 0.6174 - val_loss: 1.2378 - val_acc: 0.5673\n",
            "\n",
            "Epoch 00102: val_acc improved from 0.55419 to 0.56729, saving model to weights-improvement-102-0.57.hdf5\n",
            "Epoch 103/120\n",
            "235/449 [==============>...............] - ETA: 40s - loss: 1.4554 - acc: 0.6118"
          ],
          "name": "stdout"
        },
        {
          "output_type": "stream",
          "text": [
            "449/449 [==============================] - 91s 204ms/step - loss: 1.4227 - acc: 0.6160 - val_loss: 1.2466 - val_acc: 0.5729\n",
            "\n",
            "Epoch 00103: val_acc improved from 0.56729 to 0.57286, saving model to weights-improvement-103-0.57.hdf5\n",
            "Epoch 104/120\n",
            "253/449 [===============>..............] - ETA: 37s - loss: 1.3720 - acc: 0.6252"
          ],
          "name": "stdout"
        },
        {
          "output_type": "stream",
          "text": [
            "449/449 [==============================] - 92s 204ms/step - loss: 1.3816 - acc: 0.6236 - val_loss: 1.3446 - val_acc: 0.5344\n",
            "\n",
            "Epoch 00104: val_acc did not improve from 0.57286\n",
            "Epoch 105/120\n",
            "310/449 [===================>..........] - ETA: 26s - loss: 1.4065 - acc: 0.6229"
          ],
          "name": "stdout"
        },
        {
          "output_type": "stream",
          "text": [
            "315/449 [====================>.........] - ETA: 25s - loss: 1.4087 - acc: 0.6225"
          ],
          "name": "stdout"
        }
      ]
    },
    {
      "metadata": {
        "id": "VEIrcFuc10jX",
        "colab_type": "text"
      },
      "cell_type": "markdown",
      "source": [
        "## Testing phase"
      ]
    },
    {
      "metadata": {
        "id": "cus6cumgscSj",
        "colab_type": "code",
        "colab": {
          "autoexec": {
            "startup": false,
            "wait_interval": 0
          },
          "base_uri": "https://localhost:8080/",
          "height": 88
        },
        "outputId": "13fe8b2a-4918-4faf-bbd9-673238584e91",
        "executionInfo": {
          "status": "ok",
          "timestamp": 1529570815565,
          "user_tz": -330,
          "elapsed": 9065,
          "user": {
            "displayName": "suraj bonagiri",
            "photoUrl": "//lh6.googleusercontent.com/-0F1W31o5q6E/AAAAAAAAAAI/AAAAAAAAA1c/XRzofGyVVA0/s50-c-k-no/photo.jpg",
            "userId": "117654023614571625344"
          }
        }
      },
      "cell_type": "code",
      "source": [
        "model.load_weights('weights-improvement-113-0.58.hdf5')\n",
        "score = model.evaluate(te_img,te_l, verbose=1)\n",
        "print('Test loss:', score[0])\n",
        "print('Test accuracy:', score[1])\n",
        "#model.save_weights(\"DNST_model.h5\")\n",
        "print(\"Saved model to disk\")"
      ],
      "execution_count": 62,
      "outputs": [
        {
          "output_type": "stream",
          "text": [
            "3589/3589 [==============================] - 8s 2ms/step\n",
            "Test loss: 1.1628494354037064\n",
            "Test accuracy: 0.5971022569292865\n",
            "Saved model to disk\n"
          ],
          "name": "stdout"
        }
      ]
    },
    {
      "metadata": {
        "id": "R9FTJMAbhRJR",
        "colab_type": "code",
        "colab": {
          "autoexec": {
            "startup": false,
            "wait_interval": 0
          },
          "base_uri": "https://localhost:8080/",
          "height": 106
        },
        "outputId": "2b132536-97d6-40b9-9f54-0579ceccba56",
        "executionInfo": {
          "status": "ok",
          "timestamp": 1529570733438,
          "user_tz": -330,
          "elapsed": 2232,
          "user": {
            "displayName": "suraj bonagiri",
            "photoUrl": "//lh6.googleusercontent.com/-0F1W31o5q6E/AAAAAAAAAAI/AAAAAAAAA1c/XRzofGyVVA0/s50-c-k-no/photo.jpg",
            "userId": "117654023614571625344"
          }
        }
      },
      "cell_type": "code",
      "source": [
        "!ls"
      ],
      "execution_count": 57,
      "outputs": [
        {
          "output_type": "stream",
          "text": [
            "datalab\t\t\t\t   weights-improvement-112-0.58.hdf5\r\n",
            "drive\t\t\t\t   weights-improvement-113-0.58.hdf5\r\n",
            "weights-improvement-101-0.55.hdf5  weights-improvement-118-0.58.hdf5\r\n",
            "weights-improvement-102-0.57.hdf5  weights-improvement-97-0.58.hdf5\r\n",
            "weights-improvement-103-0.57.hdf5\r\n"
          ],
          "name": "stdout"
        }
      ]
    }
  ]
}