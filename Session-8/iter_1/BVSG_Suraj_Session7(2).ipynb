{
  "nbformat": 4,
  "nbformat_minor": 0,
  "metadata": {
    "colab": {
      "name": "BVSG_Suraj_Session7.ipynb",
      "version": "0.3.2",
      "views": {},
      "default_view": {},
      "provenance": [],
      "collapsed_sections": [
        "SQ5re8hqv84g",
        "B1nvmPpaqRYe",
        "rc5sikS1Szo-",
        "UIuj5ry5TkOP",
        "-vuNUl_8ho_z",
        "D3cILoE0ha80",
        "v0TGhaGXyFls"
      ]
    },
    "kernelspec": {
      "name": "python3",
      "display_name": "Python 3"
    },
    "accelerator": "GPU"
  },
  "cells": [
    {
      "metadata": {
        "id": "SQ5re8hqv84g",
        "colab_type": "text"
      },
      "cell_type": "markdown",
      "source": [
        "# About me:\n",
        "\n"
      ]
    },
    {
      "metadata": {
        "id": "UFIVxLAb0ERn",
        "colab_type": "text"
      },
      "cell_type": "markdown",
      "source": [
        "## Profile\n",
        "**Name** : BVSG Suraj\n",
        "\n",
        "**Batch** : 7\n",
        "\n",
        "**Project** : Implement [Facial Expression Recognition](https://github.com/zlpure/Facial-Expression-Recognition) using winograd convolutions and write a tutorial on the same."
      ]
    },
    {
      "metadata": {
        "id": "A8zSyPZW8juW",
        "colab_type": "text"
      },
      "cell_type": "markdown",
      "source": [
        "## Current Status\n",
        "\n",
        "Implementing seperable convolutions."
      ]
    },
    {
      "metadata": {
        "id": "aqc85Rw2xjrR",
        "colab_type": "text"
      },
      "cell_type": "markdown",
      "source": [
        "## Logs\n",
        "* 19/6 : The validation accuracy did not improve much over epochs while using 'class_weights'. \n",
        "* 18/6 : Ditching Winograd Implementation. Going with Seperable Conv. (DONE)\n",
        "* 16/6 : Implementing winograd convolutions for 2D data (ABORTTED)\n",
        "* 14/6 : Performing EDA and some data pre-processing. (DONE)\n",
        "* 13/6 : Setting up Jupyter Notebook. (DONE)\n",
        "* 12/6 : Understanding Winograg Convolution. (DONE)\n",
        "* 10/6 : Starting literature survey. (DONE)"
      ]
    },
    {
      "metadata": {
        "id": "B1nvmPpaqRYe",
        "colab_type": "text"
      },
      "cell_type": "markdown",
      "source": [
        "# Preliminary Setup\n"
      ]
    },
    {
      "metadata": {
        "id": "1rKNhHXOqxtr",
        "colab_type": "code",
        "colab": {
          "autoexec": {
            "startup": false,
            "wait_interval": 0
          }
        }
      },
      "cell_type": "code",
      "source": [
        "#Installing required libraries\n",
        "!pip install -q keras\n",
        "#!pip install -q --upgrade git+git://github.com/fchollet/keras.git\n",
        "!pip install -q pathlib"
      ],
      "execution_count": 0,
      "outputs": []
    },
    {
      "metadata": {
        "id": "lJT2mLzKNqno",
        "colab_type": "code",
        "colab": {
          "autoexec": {
            "startup": false,
            "wait_interval": 0
          },
          "base_uri": "https://localhost:8080/",
          "height": 2500
        },
        "outputId": "e0fc359e-eda6-45e4-d392-d054a6f4f247",
        "executionInfo": {
          "status": "ok",
          "timestamp": 1529460252140,
          "user_tz": -330,
          "elapsed": 33540,
          "user": {
            "displayName": "suraj bonagiri",
            "photoUrl": "//lh6.googleusercontent.com/-0F1W31o5q6E/AAAAAAAAAAI/AAAAAAAAA1c/XRzofGyVVA0/s50-c-k-no/photo.jpg",
            "userId": "117654023614571625344"
          }
        }
      },
      "cell_type": "code",
      "source": [
        "#Linking drive to colab to store datasets\n",
        "!apt-get install -y -qq software-properties-common python-software-properties module-init-tools\n",
        "!add-apt-repository -y ppa:alessandro-strada/ppa 2>&1 > /dev/null\n",
        "!apt-get update -qq 2>&1 > /dev/null\n",
        "!apt-get -y install -qq google-drive-ocamlfuse fuse"
      ],
      "execution_count": 3,
      "outputs": [
        {
          "output_type": "stream",
          "text": [
            "Preconfiguring packages ...\n",
            "Selecting previously unselected package cron.\n",
            "(Reading database ... 18298 files and directories currently installed.)\n",
            "Preparing to unpack .../00-cron_3.0pl1-128ubuntu5_amd64.deb ...\n",
            "Unpacking cron (3.0pl1-128ubuntu5) ...\n",
            "Selecting previously unselected package libapparmor1:amd64.\n",
            "Preparing to unpack .../01-libapparmor1_2.11.0-2ubuntu17.1_amd64.deb ...\n",
            "Unpacking libapparmor1:amd64 (2.11.0-2ubuntu17.1) ...\n",
            "Selecting previously unselected package libdbus-1-3:amd64.\n",
            "Preparing to unpack .../02-libdbus-1-3_1.10.22-1ubuntu1_amd64.deb ...\n",
            "Unpacking libdbus-1-3:amd64 (1.10.22-1ubuntu1) ...\n",
            "Selecting previously unselected package dbus.\n",
            "Preparing to unpack .../03-dbus_1.10.22-1ubuntu1_amd64.deb ...\n",
            "Unpacking dbus (1.10.22-1ubuntu1) ...\n",
            "Preparing to unpack .../04-gnupg_2.1.15-1ubuntu8.1_amd64.deb ...\n",
            "Unpacking gnupg (2.1.15-1ubuntu8.1) over (2.1.15-1ubuntu8) ...\n",
            "Preparing to unpack .../05-gnupg-agent_2.1.15-1ubuntu8.1_amd64.deb ...\n",
            "Unpacking gnupg-agent (2.1.15-1ubuntu8.1) over (2.1.15-1ubuntu8) ...\n",
            "Selecting previously unselected package dirmngr.\n",
            "Preparing to unpack .../06-dirmngr_2.1.15-1ubuntu8.1_amd64.deb ...\n",
            "Unpacking dirmngr (2.1.15-1ubuntu8.1) ...\n",
            "Selecting previously unselected package distro-info-data.\n",
            "Preparing to unpack .../07-distro-info-data_0.36ubuntu0.2_all.deb ...\n",
            "Unpacking distro-info-data (0.36ubuntu0.2) ...\n",
            "Selecting previously unselected package libkmod2:amd64.\n",
            "Preparing to unpack .../08-libkmod2_24-1ubuntu2_amd64.deb ...\n",
            "Unpacking libkmod2:amd64 (24-1ubuntu2) ...\n",
            "Selecting previously unselected package kmod.\n",
            "Preparing to unpack .../09-kmod_24-1ubuntu2_amd64.deb ...\n",
            "Unpacking kmod (24-1ubuntu2) ...\n",
            "Selecting previously unselected package lsb-release.\n",
            "Preparing to unpack .../10-lsb-release_9.20160110ubuntu5_all.deb ...\n",
            "Unpacking lsb-release (9.20160110ubuntu5) ...\n",
            "Selecting previously unselected package libgirepository-1.0-1:amd64.\n",
            "Preparing to unpack .../11-libgirepository-1.0-1_1.54.1-1_amd64.deb ...\n",
            "Unpacking libgirepository-1.0-1:amd64 (1.54.1-1) ...\n",
            "Selecting previously unselected package gir1.2-glib-2.0:amd64.\n",
            "Preparing to unpack .../12-gir1.2-glib-2.0_1.54.1-1_amd64.deb ...\n",
            "Unpacking gir1.2-glib-2.0:amd64 (1.54.1-1) ...\n",
            "Selecting previously unselected package iso-codes.\n",
            "Preparing to unpack .../13-iso-codes_3.75-1_all.deb ...\n",
            "Unpacking iso-codes (3.75-1) ...\n",
            "Selecting previously unselected package libdbus-glib-1-2:amd64.\n",
            "Preparing to unpack .../14-libdbus-glib-1-2_0.108-2_amd64.deb ...\n",
            "Unpacking libdbus-glib-1-2:amd64 (0.108-2) ...\n",
            "Selecting previously unselected package python-apt-common.\n",
            "Preparing to unpack .../15-python-apt-common_1.4.0~beta3build2_all.deb ...\n",
            "Unpacking python-apt-common (1.4.0~beta3build2) ...\n",
            "Selecting previously unselected package python3-apt.\n",
            "Preparing to unpack .../16-python3-apt_1.4.0~beta3build2_amd64.deb ...\n",
            "Unpacking python3-apt (1.4.0~beta3build2) ...\n",
            "Selecting previously unselected package python3-dbus.\n",
            "Preparing to unpack .../17-python3-dbus_1.2.4-1build3_amd64.deb ...\n",
            "Unpacking python3-dbus (1.2.4-1build3) ...\n",
            "Selecting previously unselected package python3-gi.\n",
            "Preparing to unpack .../18-python3-gi_3.24.1-2build1_amd64.deb ...\n",
            "Unpacking python3-gi (3.24.1-2build1) ...\n",
            "Selecting previously unselected package module-init-tools.\n",
            "Preparing to unpack .../19-module-init-tools_24-1ubuntu2_all.deb ...\n",
            "Unpacking module-init-tools (24-1ubuntu2) ...\n",
            "Selecting previously unselected package python-apt.\n",
            "Preparing to unpack .../20-python-apt_1.4.0~beta3build2_amd64.deb ...\n",
            "Unpacking python-apt (1.4.0~beta3build2) ...\n",
            "Selecting previously unselected package python-pycurl.\n",
            "Preparing to unpack .../21-python-pycurl_7.43.0-2build2_amd64.deb ...\n",
            "Unpacking python-pycurl (7.43.0-2build2) ...\n",
            "Selecting previously unselected package python-software-properties.\n",
            "Preparing to unpack .../22-python-software-properties_0.96.24.17_all.deb ...\n",
            "Unpacking python-software-properties (0.96.24.17) ...\n",
            "Selecting previously unselected package python3-software-properties.\n",
            "Preparing to unpack .../23-python3-software-properties_0.96.24.17_all.deb ...\n",
            "Unpacking python3-software-properties (0.96.24.17) ...\n",
            "Selecting previously unselected package software-properties-common.\n",
            "Preparing to unpack .../24-software-properties-common_0.96.24.17_all.deb ...\n",
            "Unpacking software-properties-common (0.96.24.17) ...\n",
            "Selecting previously unselected package unattended-upgrades.\n",
            "Preparing to unpack .../25-unattended-upgrades_0.98ubuntu1.1_all.deb ...\n",
            "Unpacking unattended-upgrades (0.98ubuntu1.1) ...\n",
            "Setting up python-apt-common (1.4.0~beta3build2) ...\n",
            "Setting up python3-apt (1.4.0~beta3build2) ...\n",
            "Setting up iso-codes (3.75-1) ...\n",
            "Setting up distro-info-data (0.36ubuntu0.2) ...\n",
            "Setting up python-pycurl (7.43.0-2build2) ...\n",
            "Setting up lsb-release (9.20160110ubuntu5) ...\n",
            "Setting up libgirepository-1.0-1:amd64 (1.54.1-1) ...\n"
          ],
          "name": "stdout"
        },
        {
          "output_type": "stream",
          "text": [
            "Setting up libkmod2:amd64 (24-1ubuntu2) ...\r\n",
            "Setting up gir1.2-glib-2.0:amd64 (1.54.1-1) ...\n",
            "Processing triggers for libc-bin (2.26-0ubuntu2.1) ...\n",
            "Setting up libapparmor1:amd64 (2.11.0-2ubuntu17.1) ...\n",
            "Setting up unattended-upgrades (0.98ubuntu1.1) ...\n",
            "\n",
            "Creating config file /etc/apt/apt.conf.d/20auto-upgrades with new version\n",
            "\n",
            "Creating config file /etc/apt/apt.conf.d/50unattended-upgrades with new version\n",
            "invoke-rc.d: could not determine current runlevel\n",
            "invoke-rc.d: policy-rc.d denied execution of start.\n",
            "Setting up gnupg-agent (2.1.15-1ubuntu8.1) ...\n",
            "Setting up dirmngr (2.1.15-1ubuntu8.1) ...\n",
            "Setting up cron (3.0pl1-128ubuntu5) ...\n",
            "Adding group `crontab' (GID 102) ...\n",
            "Done.\n",
            "update-rc.d: warning: start and stop actions are no longer supported; falling back to defaults\n",
            "update-rc.d: warning: stop runlevel arguments (1) do not match cron Default-Stop values (none)\n",
            "invoke-rc.d: could not determine current runlevel\n",
            "invoke-rc.d: policy-rc.d denied execution of start.\n",
            "Setting up libdbus-1-3:amd64 (1.10.22-1ubuntu1) ...\n",
            "Setting up kmod (24-1ubuntu2) ...\n",
            "Setting up libdbus-glib-1-2:amd64 (0.108-2) ...\n",
            "Setting up gnupg (2.1.15-1ubuntu8.1) ...\n",
            "Setting up python3-gi (3.24.1-2build1) ...\n",
            "Setting up module-init-tools (24-1ubuntu2) ...\n",
            "Setting up python3-software-properties (0.96.24.17) ...\n",
            "Setting up dbus (1.10.22-1ubuntu1) ...\n",
            "Setting up python-apt (1.4.0~beta3build2) ...\n",
            "Setting up python3-dbus (1.2.4-1build3) ...\n",
            "Setting up python-software-properties (0.96.24.17) ...\n",
            "Setting up software-properties-common (0.96.24.17) ...\n",
            "Processing triggers for libc-bin (2.26-0ubuntu2.1) ...\n",
            "Processing triggers for dbus (1.10.22-1ubuntu1) ...\n",
            "gpg: keybox '/tmp/tmpu24iqhmd/pubring.gpg' created\n",
            "gpg: /tmp/tmpu24iqhmd/trustdb.gpg: trustdb created\n",
            "gpg: key AD5F235DF639B041: public key \"Launchpad PPA for Alessandro Strada\" imported\n",
            "gpg: Total number processed: 1\n",
            "gpg:               imported: 1\n",
            "Warning: apt-key output should not be parsed (stdout is not a terminal)\n",
            "Selecting previously unselected package libfuse2:amd64.\n",
            "(Reading database ... 19706 files and directories currently installed.)\n",
            "Preparing to unpack .../libfuse2_2.9.7-1ubuntu1_amd64.deb ...\n",
            "Unpacking libfuse2:amd64 (2.9.7-1ubuntu1) ...\n",
            "Selecting previously unselected package fuse.\n",
            "Preparing to unpack .../fuse_2.9.7-1ubuntu1_amd64.deb ...\n",
            "Unpacking fuse (2.9.7-1ubuntu1) ...\n",
            "Selecting previously unselected package google-drive-ocamlfuse.\n",
            "Preparing to unpack .../google-drive-ocamlfuse_0.6.21-0ubuntu2_amd64.deb ...\n",
            "Unpacking google-drive-ocamlfuse (0.6.21-0ubuntu2) ...\n",
            "Setting up libfuse2:amd64 (2.9.7-1ubuntu1) ...\n",
            "Processing triggers for libc-bin (2.26-0ubuntu2.1) ...\n",
            "Setting up fuse (2.9.7-1ubuntu1) ...\n",
            "Setting up google-drive-ocamlfuse (0.6.21-0ubuntu2) ...\n"
          ],
          "name": "stdout"
        }
      ]
    },
    {
      "metadata": {
        "id": "zC_f-TGfOFva",
        "colab_type": "code",
        "colab": {
          "autoexec": {
            "startup": false,
            "wait_interval": 0
          },
          "base_uri": "https://localhost:8080/",
          "height": 108
        },
        "outputId": "fff07e3c-538e-4f28-f335-4eb13066ca6d",
        "executionInfo": {
          "status": "ok",
          "timestamp": 1529460303420,
          "user_tz": -330,
          "elapsed": 19109,
          "user": {
            "displayName": "suraj bonagiri",
            "photoUrl": "//lh6.googleusercontent.com/-0F1W31o5q6E/AAAAAAAAAAI/AAAAAAAAA1c/XRzofGyVVA0/s50-c-k-no/photo.jpg",
            "userId": "117654023614571625344"
          }
        }
      },
      "cell_type": "code",
      "source": [
        "# Generate auth tokens for Colab\n",
        "from google.colab import auth\n",
        "auth.authenticate_user()\n",
        "\n",
        "# Generate creds for the Drive FUSE library. Though the link asks you to verify twice, you don't have to!\n",
        "from oauth2client.client import GoogleCredentials\n",
        "creds = GoogleCredentials.get_application_default()\n",
        "import getpass\n",
        "!google-drive-ocamlfuse -headless -id={creds.client_id} -secret={creds.client_secret} < /dev/null 2>&1 | grep URL\n",
        "vcode = getpass.getpass()\n",
        "!echo {vcode} | google-drive-ocamlfuse -headless -id={creds.client_id} -secret={creds.client_secret}"
      ],
      "execution_count": 4,
      "outputs": [
        {
          "output_type": "stream",
          "text": [
            "Please, open the following URL in a web browser: https://accounts.google.com/o/oauth2/auth?client_id=32555940559.apps.googleusercontent.com&redirect_uri=urn%3Aietf%3Awg%3Aoauth%3A2.0%3Aoob&scope=https%3A%2F%2Fwww.googleapis.com%2Fauth%2Fdrive&response_type=code&access_type=offline&approval_prompt=force\r\n",
            "··········\n",
            "Please, open the following URL in a web browser: https://accounts.google.com/o/oauth2/auth?client_id=32555940559.apps.googleusercontent.com&redirect_uri=urn%3Aietf%3Awg%3Aoauth%3A2.0%3Aoob&scope=https%3A%2F%2Fwww.googleapis.com%2Fauth%2Fdrive&response_type=code&access_type=offline&approval_prompt=force\n",
            "Please enter the verification code: Access token retrieved correctly.\n"
          ],
          "name": "stdout"
        }
      ]
    },
    {
      "metadata": {
        "id": "O3NZ8qV9OFzl",
        "colab_type": "code",
        "colab": {
          "autoexec": {
            "startup": false,
            "wait_interval": 0
          },
          "base_uri": "https://localhost:8080/",
          "height": 0
        },
        "outputId": "85a13eb8-7abf-4886-ddc8-b9980c84c57a",
        "executionInfo": {
          "status": "ok",
          "timestamp": 1529460310093,
          "user_tz": -330,
          "elapsed": 6488,
          "user": {
            "displayName": "suraj bonagiri",
            "photoUrl": "//lh6.googleusercontent.com/-0F1W31o5q6E/AAAAAAAAAAI/AAAAAAAAA1c/XRzofGyVVA0/s50-c-k-no/photo.jpg",
            "userId": "117654023614571625344"
          }
        }
      },
      "cell_type": "code",
      "source": [
        "# Create a directory and mount Google Drive using that directory.\n",
        "!mkdir -p drive\n",
        "!google-drive-ocamlfuse drive\n",
        "\n",
        "print ('Files in Drive:')\n",
        "!ls drive/EIP/Facial_Expression_Recognition/"
      ],
      "execution_count": 5,
      "outputs": [
        {
          "output_type": "stream",
          "text": [
            "Files in Drive:\n",
            "BVSG_Suraj_Session7.ipynb\t  weights-improvement-34-0.31.hdf5\n",
            "datalab\t\t\t\t  weights-improvement-36-0.33.hdf5\n",
            "drive\t\t\t\t  weights-improvement-39-0.35.hdf5\n",
            "fer2013\t\t\t\t  weights-improvement-43-0.36.hdf5\n",
            "fer2013.tar.gz\t\t\t  weights-improvement-44-0.37.hdf5\n",
            "fer2013.tar.gz.1\t\t  weights-improvement-45-0.39.hdf5\n",
            "weights-improvement-28-0.28.hdf5  weights-improvement-54-0.39.hdf5\n",
            "weights-improvement-31-0.28.hdf5  weights-improvement-59-0.40.hdf5\n"
          ],
          "name": "stdout"
        }
      ]
    },
    {
      "metadata": {
        "id": "CzVhrP6IO0-9",
        "colab_type": "code",
        "colab": {
          "autoexec": {
            "startup": false,
            "wait_interval": 0
          }
        }
      },
      "cell_type": "code",
      "source": [
        "#Unpack datasets and copy back to drive. Just once at the beginning.\n",
        "#!tar -xvf drive/EIP/Facial_Expression_Recognition/fer2013.tar.gz\n",
        "#!cp -a . drive/EIP/Facial_Expression_Recognition\n",
        "\n",
        "# Run this only when starting a new session. Syncing files in drive to pwd.\n",
        "!cp -a drive/EIP/Facial_Expression_Recognition/*.hdf5 .\n",
        "#!ls"
      ],
      "execution_count": 0,
      "outputs": []
    },
    {
      "metadata": {
        "id": "rc5sikS1Szo-",
        "colab_type": "text"
      },
      "cell_type": "markdown",
      "source": [
        "# Environment specific Setup"
      ]
    },
    {
      "metadata": {
        "id": "U4neQrMmfEF6",
        "colab_type": "code",
        "colab": {
          "autoexec": {
            "startup": false,
            "wait_interval": 0
          },
          "base_uri": "https://localhost:8080/",
          "height": 0
        },
        "outputId": "e1b59f30-3bde-4eed-8cfc-bb0973eeb92e",
        "executionInfo": {
          "status": "ok",
          "timestamp": 1529460341066,
          "user_tz": -330,
          "elapsed": 8762,
          "user": {
            "displayName": "suraj bonagiri",
            "photoUrl": "//lh6.googleusercontent.com/-0F1W31o5q6E/AAAAAAAAAAI/AAAAAAAAA1c/XRzofGyVVA0/s50-c-k-no/photo.jpg",
            "userId": "117654023614571625344"
          }
        }
      },
      "cell_type": "code",
      "source": [
        "#Framework related libraries\n",
        "import keras\n",
        "from keras.models import Model, Sequential\n",
        "from keras.layers import Dense, Dropout, Flatten, Input, Activation\n",
        "from keras.layers import MaxPooling2D, BatchNormalization, SeparableConv2D\n",
        "from keras.layers import Concatenate\n",
        "from keras.optimizers import Adam\n",
        "\n",
        "##---------------------------------------------##\n",
        "\n",
        "#For loading models\n",
        "from pathlib import Path\n",
        "from keras.models import load_model\n",
        "\n",
        "##---------------------------------------------##\n",
        "\n",
        "##Data preprocessing\n",
        "\n",
        "#for class balance\n",
        "from sklearn.utils import class_weight\n",
        "\n",
        "#For data augmentation\n",
        "from keras.preprocessing.image import ImageDataGenerator, array_to_img, img_to_array, load_img\n",
        "\n",
        "##---------------------------------------------##\n",
        "\n",
        "# this part will prevent tensorflow to allocate all the avaliable GPU Memory\n",
        "# backend\n",
        "import tensorflow as tf\n",
        "#tf.python.control_flow_ops = tf\n",
        "from keras import backend as k\n",
        "\n",
        "##---------------------------------------------##\n",
        "\n",
        "# Don't pre-allocate memory; allocate as-needed\n",
        "config = tf.ConfigProto()\n",
        "config.gpu_options.allow_growth = True\n",
        "\n",
        "##---------------------------------------------##\n",
        "\n",
        "# Create a session with the above options specified.\n",
        "k.tensorflow_backend.set_session(tf.Session(config=config))"
      ],
      "execution_count": 7,
      "outputs": [
        {
          "output_type": "stream",
          "text": [
            "Using TensorFlow backend.\n"
          ],
          "name": "stderr"
        }
      ]
    },
    {
      "metadata": {
        "id": "IHHpIu6hWnlh",
        "colab_type": "code",
        "colab": {
          "autoexec": {
            "startup": false,
            "wait_interval": 0
          }
        }
      },
      "cell_type": "code",
      "source": [
        "#Data handling libraries\n",
        "import numpy as np\n",
        "import pandas as spd\n",
        "\n",
        "##---------------------------------------------##\n",
        "\n",
        "#Image handling libraries\n",
        "import matplotlib.pyplot as plt\n",
        "\n",
        "##---------------------------------------------##\n",
        "\n",
        "# This is a bit of magic to make matplotlib figures appear inline in the notebook rather than in a new window.\n",
        "%matplotlib inline\n",
        "plt.rcParams['figure.figsize'] = (10, 8) # set default size of plots\n",
        "plt.rcParams['image.interpolation'] = 'nearest'\n",
        "plt.rcParams['image.cmap'] = 'gray'\n",
        "\n",
        "# Some more magic so that the notebook will reload external python modules;\n",
        "%load_ext autoreload\n",
        "%autoreload 2"
      ],
      "execution_count": 0,
      "outputs": []
    },
    {
      "metadata": {
        "id": "UIuj5ry5TkOP",
        "colab_type": "text"
      },
      "cell_type": "markdown",
      "source": [
        "# Exploratory Data Analysis\n",
        "\n"
      ]
    },
    {
      "metadata": {
        "id": "dHYu4jTBXqQk",
        "colab_type": "code",
        "colab": {
          "autoexec": {
            "startup": false,
            "wait_interval": 0
          }
        }
      },
      "cell_type": "code",
      "source": [
        "#Given data set is in csv format after unzipping.\n",
        "\n",
        "file = 'drive/EIP/Facial_Expression_Recognition/fer2013/fer2013.csv'\n",
        "df = spd.read_csv(file)"
      ],
      "execution_count": 0,
      "outputs": []
    },
    {
      "metadata": {
        "id": "DAFTWtZtalD9",
        "colab_type": "code",
        "colab": {
          "autoexec": {
            "startup": false,
            "wait_interval": 0
          }
        }
      },
      "cell_type": "code",
      "source": [
        "#Assign separate data frames to training, cross-validation and test data\n",
        "\n",
        "#Training set\n",
        "tr_set = df.loc[df['Usage'] == 'Training']\n",
        "tr = tr_set.loc[:,'pixels']\n",
        "tr_labels = tr_set.loc[:,'emotion']\n",
        "\n",
        "#Cross-validation set\n",
        "cv_set = df.loc[df['Usage'] == 'PublicTest']\n",
        "cv = cv_set.loc[:,'pixels']\n",
        "cv_labels = cv_set.loc[:,'emotion']\n",
        "\n",
        "#Test set\n",
        "te_set = df.loc[df['Usage'] == 'PrivateTest']\n",
        "te = te_set.loc[:,'pixels']\n",
        "te_labels = te_set.loc[:,'emotion']"
      ],
      "execution_count": 0,
      "outputs": []
    },
    {
      "metadata": {
        "id": "8A5_XG1xha4c",
        "colab_type": "text"
      },
      "cell_type": "markdown",
      "source": [
        "Lets randomly sample 5 images of each emotion from training dtaset"
      ]
    },
    {
      "metadata": {
        "id": "j1492a5B_9qr",
        "colab_type": "code",
        "colab": {
          "autoexec": {
            "startup": false,
            "wait_interval": 0
          },
          "base_uri": "https://localhost:8080/",
          "height": 0
        },
        "outputId": "4134f580-ae13-460e-abf7-f8ff7525889d",
        "executionInfo": {
          "status": "ok",
          "timestamp": 1529460359133,
          "user_tz": -330,
          "elapsed": 3991,
          "user": {
            "displayName": "suraj bonagiri",
            "photoUrl": "//lh6.googleusercontent.com/-0F1W31o5q6E/AAAAAAAAAAI/AAAAAAAAA1c/XRzofGyVVA0/s50-c-k-no/photo.jpg",
            "userId": "117654023614571625344"
          }
        }
      },
      "cell_type": "code",
      "source": [
        "tr_set_emotions_label = ['Angry','Disgust','Fear','Happy','Sad','Surprise','Neutral']\n",
        "\n",
        "#size of each class will be stored in this array\n",
        "t=np.zeros(np.size(tr_set_emotions_label)) \n",
        "\n",
        "#No. of images to sample from each class\n",
        "sample_size=5\n",
        "\n",
        "#Display those images\n",
        "for k,e in enumerate(tr_set_emotions_label):\n",
        "  this_emotion_set = df.loc[(df['Usage'] == 'Training') & (df['emotion'] == k)]\n",
        "  t[k] = this_emotion_set.size\n",
        "  x=this_emotion_set.sample(n=sample_size).loc[:,'pixels']\n",
        "  for i,j in enumerate(x):\n",
        "    plt.subplot(t.size, sample_size,(sample_size*k)+i+1)\n",
        "    y = j.split(' ')\n",
        "    x = np.array(y).reshape(48,48)\n",
        "    plt.axis('off')\n",
        "    plt.grid('off')\n",
        "    plt.imshow(x.astype('uint8'))\n",
        "    plt.title(e)"
      ],
      "execution_count": 11,
      "outputs": [
        {
          "output_type": "display_data",
          "data": {
            "image/png": "[encoded data removed]",
            "text/plain": [
              "<matplotlib.figure.Figure at 0x7fb704f4a0b8>"
            ]
          },
          "metadata": {
            "tags": []
          }
        }
      ]
    },
    {
      "metadata": {
        "id": "-vuNUl_8ho_z",
        "colab_type": "text"
      },
      "cell_type": "markdown",
      "source": [
        "## Inferences\n",
        "\n",
        "\n",
        "1.   The data provided is flattened/unrolled. To display them, we have to roll or reshape the vectors.\n",
        "2.   This dataset consists of faces of various expressions of all kinds of age, race and sex. That means the data is well generalized. \n",
        "3.   Faces in the images seemed to be centered. So, face detection and extraction can be skipped.\n",
        "4.   Images are in grey scale. That means fewer parameters.\n",
        "5.  Given the classes 'Surprise' and 'Happy', there might be high chance of misclassification. This is due to their high spatial corelation.\n",
        "\n",
        "Let's explore data distribution among various classes"
      ]
    },
    {
      "metadata": {
        "id": "Vzi_L1OpkFLt",
        "colab_type": "code",
        "colab": {
          "autoexec": {
            "startup": false,
            "wait_interval": 0
          },
          "base_uri": "https://localhost:8080/",
          "height": 0
        },
        "cellView": "code",
        "outputId": "b73f2b28-c271-4fd9-a978-b299ecdd2ca9",
        "executionInfo": {
          "status": "ok",
          "timestamp": 1529359829257,
          "user_tz": -330,
          "elapsed": 1126,
          "user": {
            "displayName": "suraj bonagiri",
            "photoUrl": "//lh6.googleusercontent.com/-0F1W31o5q6E/AAAAAAAAAAI/AAAAAAAAA1c/XRzofGyVVA0/s50-c-k-no/photo.jpg",
            "userId": "117654023614571625344"
          }
        }
      },
      "cell_type": "code",
      "source": [
        "#Plotting no. of training examples vs their class\n",
        "plt.bar(tr_set_emotions_label, t)\n",
        "plt.ylabel('No. of training examples')\n",
        "plt.ylabel('Emotion')\n",
        "plt.title('Data Distribution among various classes')\n",
        "\n",
        "plt.show()  "
      ],
      "execution_count": 11,
      "outputs": [
        {
          "output_type": "display_data",
          "data": {
            "image/png": "[encoded data removed]",
            "text/plain": [
              "<matplotlib.figure.Figure at 0x7fab2c61a710>"
            ]
          },
          "metadata": {
            "tags": []
          }
        }
      ]
    },
    {
      "metadata": {
        "id": "RV0urASZoTYR",
        "colab_type": "text"
      },
      "cell_type": "markdown",
      "source": [
        "* It can be observed that the class 'Disgust' has very less number of training data. \n",
        "\n",
        "* And there is a high possibility of the model to predict 'Happy' if the training data isn't normalized.\n",
        "\n",
        "* This problem can be solved in various ways:\n",
        "\n",
        "  1.** Assigning weightage** for each class using Keras 'class_weight'. This is preferred.\n",
        "  \n",
        "  2.** Data augmentation** - Since the variation among the no. of training examples accross the classes is very high, using augmentation might not be a good idea. If we do that, there will be a rich variation in 'Happy' class and less variations in 'disgust' class and training over this data would be redundant. But applying Augmentation on all of the classes is a good idea.\n",
        "  \n",
        "  3.** Removing data** from other classes. Loss of data is not encouraged usually. \n",
        "\n",
        "  4.** Using GANs** : New training data can be created from the respective class's distribution. This is an option too.\n",
        "\n",
        "\n",
        "**NOTE : The labels on the x-axis are not in order of the labels 0-7**"
      ]
    },
    {
      "metadata": {
        "id": "D3cILoE0ha80",
        "colab_type": "text"
      },
      "cell_type": "markdown",
      "source": [
        "# Data Preprocessing\n"
      ]
    },
    {
      "metadata": {
        "id": "v0TGhaGXyFls",
        "colab_type": "text"
      },
      "cell_type": "markdown",
      "source": [
        "## Rolling the data"
      ]
    },
    {
      "metadata": {
        "id": "NqbcoORpyKB0",
        "colab_type": "code",
        "colab": {
          "autoexec": {
            "startup": false,
            "wait_interval": 0
          },
          "base_uri": "https://localhost:8080/",
          "height": 0
        },
        "outputId": "eb1bcfdf-7941-43f3-e39d-0e5f33b190fc",
        "executionInfo": {
          "status": "ok",
          "timestamp": 1529460371022,
          "user_tz": -330,
          "elapsed": 11674,
          "user": {
            "displayName": "suraj bonagiri",
            "photoUrl": "//lh6.googleusercontent.com/-0F1W31o5q6E/AAAAAAAAAAI/AAAAAAAAA1c/XRzofGyVVA0/s50-c-k-no/photo.jpg",
            "userId": "117654023614571625344"
          }
        }
      },
      "cell_type": "code",
      "source": [
        "#train data\n",
        "tr_img = []\n",
        "tr_l = np.zeros((np.size(tr),np.size(t)))\n",
        "#print(tr_labels)\n",
        "for p,i in enumerate(tr):\n",
        "    y = i.split(' ')\n",
        "    y = np.array(y).reshape(48,48,1)\n",
        "    tr_img.append(y)\n",
        "    tr_l[p,tr_labels[p]]=1\n",
        "tr_img = np.array(tr_img)\n",
        "print(tr_img.shape)"
      ],
      "execution_count": 12,
      "outputs": [
        {
          "output_type": "stream",
          "text": [
            "(28709, 48, 48, 1)\n"
          ],
          "name": "stdout"
        }
      ]
    },
    {
      "metadata": {
        "id": "Tb-CgDtTWq6O",
        "colab_type": "code",
        "colab": {
          "autoexec": {
            "startup": false,
            "wait_interval": 0
          },
          "base_uri": "https://localhost:8080/",
          "height": 0
        },
        "outputId": "4b6eec93-ebb4-416c-a5e4-dfc3698844d7",
        "executionInfo": {
          "status": "ok",
          "timestamp": 1529460373473,
          "user_tz": -330,
          "elapsed": 2273,
          "user": {
            "displayName": "suraj bonagiri",
            "photoUrl": "//lh6.googleusercontent.com/-0F1W31o5q6E/AAAAAAAAAAI/AAAAAAAAA1c/XRzofGyVVA0/s50-c-k-no/photo.jpg",
            "userId": "117654023614571625344"
          }
        }
      },
      "cell_type": "code",
      "source": [
        "#cv data\n",
        "cv_img = []\n",
        "cv_l = np.zeros((np.size(cv),np.size(t)))\n",
        "for p,i in enumerate(cv):\n",
        "    y = i.split(' ')\n",
        "    y = np.array(y).reshape(48,48,1)\n",
        "    cv_img.append(y)\n",
        "    cv_l[p,cv_labels[np.size(tr)+p]] = 1\n",
        "print(cv_l)\n",
        "cv_img = np.array(cv_img)\n",
        "print(cv_img.shape)"
      ],
      "execution_count": 13,
      "outputs": [
        {
          "output_type": "stream",
          "text": [
            "[[1. 0. 0. ... 0. 0. 0.]\n",
            " [0. 1. 0. ... 0. 0. 0.]\n",
            " [0. 0. 0. ... 1. 0. 0.]\n",
            " ...\n",
            " [0. 0. 0. ... 1. 0. 0.]\n",
            " [0. 0. 0. ... 1. 0. 0.]\n",
            " [0. 0. 0. ... 1. 0. 0.]]\n",
            "(3589, 48, 48, 1)\n"
          ],
          "name": "stdout"
        }
      ]
    },
    {
      "metadata": {
        "id": "Mv7B5iQ0Wup6",
        "colab_type": "code",
        "colab": {
          "autoexec": {
            "startup": false,
            "wait_interval": 0
          },
          "base_uri": "https://localhost:8080/",
          "height": 0
        },
        "outputId": "9ea0aef7-b3f8-4896-d108-9ffd9a0d3a2d",
        "executionInfo": {
          "status": "ok",
          "timestamp": 1529460375921,
          "user_tz": -330,
          "elapsed": 2328,
          "user": {
            "displayName": "suraj bonagiri",
            "photoUrl": "//lh6.googleusercontent.com/-0F1W31o5q6E/AAAAAAAAAAI/AAAAAAAAA1c/XRzofGyVVA0/s50-c-k-no/photo.jpg",
            "userId": "117654023614571625344"
          }
        }
      },
      "cell_type": "code",
      "source": [
        "#test data\n",
        "te_img = []\n",
        "te_l = np.zeros((np.size(te),np.size(t)))\n",
        "for p,i in enumerate(te):\n",
        "    y = i.split(' ')\n",
        "    y = np.array(y).reshape(48,48,1)\n",
        "    te_img.append(y)\n",
        "    te_l[p,te_labels[np.size(tr) + np.size(cv) + p]]=1\n",
        "print(te_l)\n",
        "te_img = np.array(te_img)\n",
        "print(te_img.shape)"
      ],
      "execution_count": 14,
      "outputs": [
        {
          "output_type": "stream",
          "text": [
            "[[1. 0. 0. ... 0. 0. 0.]\n",
            " [0. 0. 0. ... 0. 1. 0.]\n",
            " [0. 0. 0. ... 0. 0. 1.]\n",
            " ...\n",
            " [1. 0. 0. ... 0. 0. 0.]\n",
            " [0. 0. 0. ... 0. 0. 0.]\n",
            " [0. 0. 1. ... 0. 0. 0.]]\n",
            "(3589, 48, 48, 1)\n"
          ],
          "name": "stdout"
        }
      ]
    },
    {
      "metadata": {
        "id": "a4n4VWCWiUrh",
        "colab_type": "text"
      },
      "cell_type": "markdown",
      "source": [
        "## Assigning weights to classes"
      ]
    },
    {
      "metadata": {
        "id": "-1wpH_ULiXHM",
        "colab_type": "code",
        "colab": {
          "autoexec": {
            "startup": false,
            "wait_interval": 0
          }
        }
      },
      "cell_type": "code",
      "source": [
        "#Finding the weightage to be given to each class\n",
        "class_weights_array = np.round(np.max(t)/t)\n",
        "\n",
        "class_weight = dict(zip(np.arange(np.size(t)), class_weights_array))\n",
        "\n",
        "#print(class_weight)"
      ],
      "execution_count": 0,
      "outputs": []
    },
    {
      "metadata": {
        "id": "Q0kgrGwSdR_V",
        "colab_type": "text"
      },
      "cell_type": "markdown",
      "source": [
        "# Acrhitecture"
      ]
    },
    {
      "metadata": {
        "id": "-MzS6hAZ5s6i",
        "colab_type": "text"
      },
      "cell_type": "markdown",
      "source": [
        "## Model"
      ]
    },
    {
      "metadata": {
        "id": "ErF3LCQreLzR",
        "colab_type": "code",
        "colab": {
          "autoexec": {
            "startup": false,
            "wait_interval": 0
          },
          "base_uri": "https://localhost:8080/",
          "height": 1178
        },
        "outputId": "8d14ef2d-8782-4d14-c607-b6a8d5638788",
        "executionInfo": {
          "status": "ok",
          "timestamp": 1529460379403,
          "user_tz": -330,
          "elapsed": 1861,
          "user": {
            "displayName": "suraj bonagiri",
            "photoUrl": "//lh6.googleusercontent.com/-0F1W31o5q6E/AAAAAAAAAAI/AAAAAAAAA1c/XRzofGyVVA0/s50-c-k-no/photo.jpg",
            "userId": "117654023614571625344"
          }
        }
      },
      "cell_type": "code",
      "source": [
        "model = Sequential()\n",
        "\n",
        "f = 64\n",
        "model.add(SeparableConv2D(f,(3,1),activation='relu', input_shape=(48,48,1)))\n",
        "model.add(SeparableConv2D(f,(1,3),activation='relu'))\n",
        "\n",
        "model.add(BatchNormalization())\n",
        "\n",
        "model.add(SeparableConv2D(f,(3,1),activation='relu'))\n",
        "model.add(SeparableConv2D(f,(1,3),activation='relu'))\n",
        "\n",
        "model.add(MaxPooling2D(pool_size=(2, 2), strides=(1, 1)))\n",
        "\n",
        "##\n",
        "\n",
        "f=128\n",
        "model.add(SeparableConv2D(f,(3,1),activation='relu'))\n",
        "model.add(SeparableConv2D(f,(1,3),activation='relu'))\n",
        "\n",
        "model.add(BatchNormalization())\n",
        "\n",
        "model.add(SeparableConv2D(f,(3,1),activation='relu'))\n",
        "model.add(SeparableConv2D(f,(1,3),activation='relu'))\n",
        "\n",
        "model.add(MaxPooling2D(pool_size=(2, 2), strides=(2, 2)))\n",
        "\n",
        "model.add(Dropout(0.2))\n",
        "\n",
        "##\n",
        "\n",
        "f=256\n",
        "model.add(SeparableConv2D(f,(3,1),activation='relu'))\n",
        "model.add(SeparableConv2D(f,(1,3),activation='relu'))\n",
        "\n",
        "model.add(BatchNormalization())\n",
        "\n",
        "model.add(SeparableConv2D(f,(3,1),activation='relu'))\n",
        "model.add(SeparableConv2D(f,(1,3),activation='relu'))\n",
        "\n",
        "model.add(MaxPooling2D(pool_size=(2, 2), strides=(2, 2)))\n",
        "\n",
        "model.add(Dropout(0.25))\n",
        "\n",
        "##\n",
        "f=512\n",
        "model.add(SeparableConv2D(f,(3,1),activation='relu'))\n",
        "model.add(SeparableConv2D(f,(1,3),activation='relu'))\n",
        "\n",
        "model.add(BatchNormalization())\n",
        "\n",
        "model.add(SeparableConv2D(f,(3,1),activation='relu'))\n",
        "model.add(SeparableConv2D(f,(1,3),activation='relu'))\n",
        "\n",
        "model.add(MaxPooling2D(pool_size=(2, 2), strides=(2, 2)))\n",
        "\n",
        "model.add(Dropout(0.25))\n",
        "\n",
        "##\n",
        "\n",
        "model.add(Flatten())\n",
        "model.add(Dense(7, activation='softmax'))\n",
        "\n",
        "model.summary()"
      ],
      "execution_count": 16,
      "outputs": [
        {
          "output_type": "stream",
          "text": [
            "_________________________________________________________________\n",
            "Layer (type)                 Output Shape              Param #   \n",
            "=================================================================\n",
            "separable_conv2d_1 (Separabl (None, 46, 48, 64)        131       \n",
            "_________________________________________________________________\n",
            "separable_conv2d_2 (Separabl (None, 46, 46, 64)        4352      \n",
            "_________________________________________________________________\n",
            "batch_normalization_1 (Batch (None, 46, 46, 64)        256       \n",
            "_________________________________________________________________\n",
            "separable_conv2d_3 (Separabl (None, 44, 46, 64)        4352      \n",
            "_________________________________________________________________\n",
            "separable_conv2d_4 (Separabl (None, 44, 44, 64)        4352      \n",
            "_________________________________________________________________\n",
            "max_pooling2d_1 (MaxPooling2 (None, 43, 43, 64)        0         \n",
            "_________________________________________________________________\n",
            "separable_conv2d_5 (Separabl (None, 41, 43, 128)       8512      \n",
            "_________________________________________________________________\n",
            "separable_conv2d_6 (Separabl (None, 41, 41, 128)       16896     \n",
            "_________________________________________________________________\n",
            "batch_normalization_2 (Batch (None, 41, 41, 128)       512       \n",
            "_________________________________________________________________\n",
            "separable_conv2d_7 (Separabl (None, 39, 41, 128)       16896     \n",
            "_________________________________________________________________\n",
            "separable_conv2d_8 (Separabl (None, 39, 39, 128)       16896     \n",
            "_________________________________________________________________\n",
            "max_pooling2d_2 (MaxPooling2 (None, 19, 19, 128)       0         \n",
            "_________________________________________________________________\n",
            "dropout_1 (Dropout)          (None, 19, 19, 128)       0         \n",
            "_________________________________________________________________\n",
            "separable_conv2d_9 (Separabl (None, 17, 19, 256)       33408     \n",
            "_________________________________________________________________\n",
            "separable_conv2d_10 (Separab (None, 17, 17, 256)       66560     \n",
            "_________________________________________________________________\n",
            "batch_normalization_3 (Batch (None, 17, 17, 256)       1024      \n",
            "_________________________________________________________________\n",
            "separable_conv2d_11 (Separab (None, 15, 17, 256)       66560     \n",
            "_________________________________________________________________\n",
            "separable_conv2d_12 (Separab (None, 15, 15, 256)       66560     \n",
            "_________________________________________________________________\n",
            "max_pooling2d_3 (MaxPooling2 (None, 7, 7, 256)         0         \n",
            "_________________________________________________________________\n",
            "dropout_2 (Dropout)          (None, 7, 7, 256)         0         \n",
            "_________________________________________________________________\n",
            "separable_conv2d_13 (Separab (None, 5, 7, 512)         132352    \n",
            "_________________________________________________________________\n",
            "separable_conv2d_14 (Separab (None, 5, 5, 512)         264192    \n",
            "_________________________________________________________________\n",
            "batch_normalization_4 (Batch (None, 5, 5, 512)         2048      \n",
            "_________________________________________________________________\n",
            "separable_conv2d_15 (Separab (None, 3, 5, 512)         264192    \n",
            "_________________________________________________________________\n",
            "separable_conv2d_16 (Separab (None, 3, 3, 512)         264192    \n",
            "_________________________________________________________________\n",
            "max_pooling2d_4 (MaxPooling2 (None, 1, 1, 512)         0         \n",
            "_________________________________________________________________\n",
            "dropout_3 (Dropout)          (None, 1, 1, 512)         0         \n",
            "_________________________________________________________________\n",
            "flatten_1 (Flatten)          (None, 512)               0         \n",
            "_________________________________________________________________\n",
            "dense_1 (Dense)              (None, 7)                 3591      \n",
            "=================================================================\n",
            "Total params: 1,237,834\n",
            "Trainable params: 1,235,914\n",
            "Non-trainable params: 1,920\n",
            "_________________________________________________________________\n"
          ],
          "name": "stdout"
        }
      ]
    },
    {
      "metadata": {
        "id": "bSsq2the5wCo",
        "colab_type": "text"
      },
      "cell_type": "markdown",
      "source": [
        "## Compile and run"
      ]
    },
    {
      "metadata": {
        "id": "3N_AEyS5iDRy",
        "colab_type": "code",
        "colab": {
          "autoexec": {
            "startup": false,
            "wait_interval": 0
          }
        }
      },
      "cell_type": "code",
      "source": [
        "model.compile(loss='categorical_crossentropy',\n",
        "             optimizer='adam',\n",
        "             metrics=['accuracy'])\n",
        "\n",
        "# checkpoint\n",
        "from keras.callbacks import ModelCheckpoint\n",
        "filepath= \"weights-improvement-{epoch:02d}-{val_acc:.2f}.hdf5\"\n",
        "checkpoint = ModelCheckpoint(filepath, monitor='val_acc', verbose=1, save_best_only=True, save_weights_only=True, mode='max')\n",
        "callbacks_list = [checkpoint]"
      ],
      "execution_count": 0,
      "outputs": []
    },
    {
      "metadata": {
        "id": "V-JWLt3axrR4",
        "colab_type": "text"
      },
      "cell_type": "markdown",
      "source": [
        "## Epoch 1-10"
      ]
    },
    {
      "metadata": {
        "id": "j9pyixg3mZw_",
        "colab_type": "code",
        "colab": {
          "autoexec": {
            "startup": false,
            "wait_interval": 0
          },
          "base_uri": "https://localhost:8080/",
          "height": 803
        },
        "outputId": "fd3297a9-64e9-4532-cc2b-94f2d5ca2ae6",
        "executionInfo": {
          "status": "ok",
          "timestamp": 1529361509439,
          "user_tz": -330,
          "elapsed": 1664491,
          "user": {
            "displayName": "suraj bonagiri",
            "photoUrl": "//lh6.googleusercontent.com/-0F1W31o5q6E/AAAAAAAAAAI/AAAAAAAAA1c/XRzofGyVVA0/s50-c-k-no/photo.jpg",
            "userId": "117654023614571625344"
          }
        }
      },
      "cell_type": "code",
      "source": [
        "epoch = 0\n",
        "model.fit(tr_img, tr_l, \n",
        "          batch_size=32, \n",
        "          nb_epoch=10, \n",
        "          verbose=1,\n",
        "          initial_epoch=epoch,\n",
        "          callbacks=callbacks_list,\n",
        "          validation_data=(cv_img, cv_l),class_weight = class_weight)"
      ],
      "execution_count": 18,
      "outputs": [
        {
          "output_type": "stream",
          "text": [
            "/usr/local/lib/python2.7/dist-packages/ipykernel_launcher.py:8: UserWarning: The `nb_epoch` argument in `fit` has been renamed `epochs`.\n",
            "  \n"
          ],
          "name": "stderr"
        },
        {
          "output_type": "stream",
          "text": [
            "Train on 28709 samples, validate on 3589 samples\n",
            "Epoch 1/10\n",
            "22080/28709 [======================>.......] - ETA: 37s - loss: 3.1789 - acc: 0.1409"
          ],
          "name": "stdout"
        },
        {
          "output_type": "stream",
          "text": [
            "28709/28709 [==============================] - 169s 6ms/step - loss: 3.1562 - acc: 0.1395 - val_loss: 1.9842 - val_acc: 0.1382\n",
            "\n",
            "Epoch 00001: val_acc improved from -inf to 0.13820, saving model to weights-improvement-01-0.14.hdf5\n",
            "Epoch 2/10\n",
            " 8096/28709 [=======>......................] - ETA: 1:54 - loss: 3.2060 - acc: 0.1393"
          ],
          "name": "stdout"
        },
        {
          "output_type": "stream",
          "text": [
            "28709/28709 [==============================] - 166s 6ms/step - loss: 3.1533 - acc: 0.1415 - val_loss: 1.9892 - val_acc: 0.1382\n",
            "\n",
            "Epoch 00002: val_acc did not improve from 0.13820\n",
            "Epoch 3/10\n",
            " 5280/28709 [====>.........................] - ETA: 2:10 - loss: 3.1820 - acc: 0.1388"
          ],
          "name": "stdout"
        },
        {
          "output_type": "stream",
          "text": [
            "28709/28709 [==============================] - 166s 6ms/step - loss: 3.1530 - acc: 0.1387 - val_loss: 1.9807 - val_acc: 0.1382\n",
            "\n",
            "Epoch 00003: val_acc did not improve from 0.13820\n",
            "Epoch 4/10\n",
            " 4416/28709 [===>..........................] - ETA: 2:15 - loss: 3.1492 - acc: 0.1384"
          ],
          "name": "stdout"
        },
        {
          "output_type": "stream",
          "text": [
            "28709/28709 [==============================] - 166s 6ms/step - loss: 3.1529 - acc: 0.1356 - val_loss: 1.9865 - val_acc: 0.1382\n",
            "\n",
            "Epoch 00004: val_acc did not improve from 0.13820\n",
            "Epoch 5/10\n",
            " 4160/28709 [===>..........................] - ETA: 2:16 - loss: 3.1635 - acc: 0.1397"
          ],
          "name": "stdout"
        },
        {
          "output_type": "stream",
          "text": [
            "28709/28709 [==============================] - 166s 6ms/step - loss: 3.1534 - acc: 0.1420 - val_loss: 1.9893 - val_acc: 0.1382\n",
            "\n",
            "Epoch 00005: val_acc did not improve from 0.13820\n",
            "Epoch 6/10\n",
            " 4064/28709 [===>..........................] - ETA: 2:16 - loss: 3.1887 - acc: 0.1410"
          ],
          "name": "stdout"
        },
        {
          "output_type": "stream",
          "text": [
            "28709/28709 [==============================] - 166s 6ms/step - loss: 3.1530 - acc: 0.1426 - val_loss: 2.0001 - val_acc: 0.1382\n",
            "\n",
            "Epoch 00006: val_acc did not improve from 0.13820\n",
            "Epoch 7/10\n",
            " 4032/28709 [===>..........................] - ETA: 2:17 - loss: 3.0826 - acc: 0.1500"
          ],
          "name": "stdout"
        },
        {
          "output_type": "stream",
          "text": [
            "28709/28709 [==============================] - 166s 6ms/step - loss: 3.1530 - acc: 0.1421 - val_loss: 2.0016 - val_acc: 0.1382\n",
            "\n",
            "Epoch 00007: val_acc did not improve from 0.13820\n",
            "Epoch 8/10\n",
            " 4032/28709 [===>..........................] - ETA: 2:16 - loss: 3.0895 - acc: 0.1342"
          ],
          "name": "stdout"
        },
        {
          "output_type": "stream",
          "text": [
            "28709/28709 [==============================] - 166s 6ms/step - loss: 3.1531 - acc: 0.1406 - val_loss: 1.9861 - val_acc: 0.1382\n",
            "\n",
            "Epoch 00008: val_acc did not improve from 0.13820\n",
            "Epoch 9/10\n",
            " 4032/28709 [===>..........................] - ETA: 2:17 - loss: 3.1059 - acc: 0.1424"
          ],
          "name": "stdout"
        },
        {
          "output_type": "stream",
          "text": [
            "28709/28709 [==============================] - 166s 6ms/step - loss: 3.1529 - acc: 0.1402 - val_loss: 1.9867 - val_acc: 0.1382\n",
            "\n",
            "Epoch 00009: val_acc did not improve from 0.13820\n",
            "Epoch 10/10\n",
            " 4000/28709 [===>..........................] - ETA: 2:17 - loss: 3.1659 - acc: 0.1427"
          ],
          "name": "stdout"
        },
        {
          "output_type": "stream",
          "text": [
            "28709/28709 [==============================] - 165s 6ms/step - loss: 3.1528 - acc: 0.1414 - val_loss: 1.9868 - val_acc: 0.1382\n",
            "\n",
            "Epoch 00010: val_acc did not improve from 0.13820\n"
          ],
          "name": "stdout"
        },
        {
          "output_type": "execute_result",
          "data": {
            "text/plain": [
              "<keras.callbacks.History at 0x7faae8ad5050>"
            ]
          },
          "metadata": {
            "tags": []
          },
          "execution_count": 18
        }
      ]
    },
    {
      "metadata": {
        "id": "xvPym6BkxwbW",
        "colab_type": "text"
      },
      "cell_type": "markdown",
      "source": [
        "## Epoch 11-20"
      ]
    },
    {
      "metadata": {
        "id": "ycgtSC5OJdMY",
        "colab_type": "code",
        "colab": {
          "autoexec": {
            "startup": false,
            "wait_interval": 0
          },
          "base_uri": "https://localhost:8080/",
          "height": 803
        },
        "outputId": "b2079b8b-1c3a-476e-83ab-de8203e7d4e8",
        "executionInfo": {
          "status": "ok",
          "timestamp": 1529364908033,
          "user_tz": -330,
          "elapsed": 1651229,
          "user": {
            "displayName": "suraj bonagiri",
            "photoUrl": "//lh6.googleusercontent.com/-0F1W31o5q6E/AAAAAAAAAAI/AAAAAAAAA1c/XRzofGyVVA0/s50-c-k-no/photo.jpg",
            "userId": "117654023614571625344"
          }
        }
      },
      "cell_type": "code",
      "source": [
        "#Didnt use dropout for this layer\n",
        "model.load_weights('weights-improvement-01-0.14.hdf5')\n",
        "epoch = 10\n",
        "model.fit(tr_img, tr_l, \n",
        "          batch_size=32, \n",
        "          nb_epoch=20, \n",
        "          verbose=1,\n",
        "          initial_epoch=epoch,\n",
        "          callbacks=callbacks_list,\n",
        "          validation_data=(cv_img, cv_l),class_weight = class_weight)"
      ],
      "execution_count": 25,
      "outputs": [
        {
          "output_type": "stream",
          "text": [
            "/usr/local/lib/python2.7/dist-packages/ipykernel_launcher.py:9: UserWarning: The `nb_epoch` argument in `fit` has been renamed `epochs`.\n",
            "  if __name__ == '__main__':\n"
          ],
          "name": "stderr"
        },
        {
          "output_type": "stream",
          "text": [
            "Train on 28709 samples, validate on 3589 samples\n",
            "Epoch 11/20\n",
            "21920/28709 [=====================>........] - ETA: 37s - loss: 3.1559 - acc: 0.1384"
          ],
          "name": "stdout"
        },
        {
          "output_type": "stream",
          "text": [
            "28709/28709 [==============================] - 166s 6ms/step - loss: 3.1533 - acc: 0.1411 - val_loss: 1.9906 - val_acc: 0.1382\n",
            "\n",
            "Epoch 00011: val_acc improved from -inf to 0.13820, saving model to weights-improvement-11-0.14.hdf5\n",
            "Epoch 12/20\n",
            " 8000/28709 [=======>......................] - ETA: 1:54 - loss: 3.1589 - acc: 0.1425"
          ],
          "name": "stdout"
        },
        {
          "output_type": "stream",
          "text": [
            "28709/28709 [==============================] - 164s 6ms/step - loss: 3.1531 - acc: 0.1420 - val_loss: 1.9890 - val_acc: 0.1301\n",
            "\n",
            "Epoch 00012: val_acc did not improve from 0.13820\n",
            "Epoch 13/20\n",
            " 5248/28709 [====>.........................] - ETA: 2:09 - loss: 3.1443 - acc: 0.1378"
          ],
          "name": "stdout"
        },
        {
          "output_type": "stream",
          "text": [
            "28709/28709 [==============================] - 164s 6ms/step - loss: 3.1531 - acc: 0.1407 - val_loss: 1.9889 - val_acc: 0.1301\n",
            "\n",
            "Epoch 00013: val_acc did not improve from 0.13820\n",
            "Epoch 14/20\n",
            " 4384/28709 [===>..........................] - ETA: 2:13 - loss: 3.1900 - acc: 0.1417"
          ],
          "name": "stdout"
        },
        {
          "output_type": "stream",
          "text": [
            "28709/28709 [==============================] - 164s 6ms/step - loss: 3.1529 - acc: 0.1426 - val_loss: 1.9959 - val_acc: 0.1301\n",
            "\n",
            "Epoch 00014: val_acc did not improve from 0.13820\n",
            "Epoch 15/20\n",
            " 4128/28709 [===>..........................] - ETA: 2:15 - loss: 3.1337 - acc: 0.1383"
          ],
          "name": "stdout"
        },
        {
          "output_type": "stream",
          "text": [
            "28709/28709 [==============================] - 164s 6ms/step - loss: 3.1527 - acc: 0.1430 - val_loss: 1.9913 - val_acc: 0.1301\n",
            "\n",
            "Epoch 00015: val_acc did not improve from 0.13820\n",
            "Epoch 16/20\n",
            " 4032/28709 [===>..........................] - ETA: 2:16 - loss: 3.0314 - acc: 0.1376"
          ],
          "name": "stdout"
        },
        {
          "output_type": "stream",
          "text": [
            "28709/28709 [==============================] - 164s 6ms/step - loss: 3.1527 - acc: 0.1399 - val_loss: 2.0087 - val_acc: 0.1382\n",
            "\n",
            "Epoch 00016: val_acc did not improve from 0.13820\n",
            "Epoch 17/20\n",
            " 4000/28709 [===>..........................] - ETA: 2:16 - loss: 3.2235 - acc: 0.1470"
          ],
          "name": "stdout"
        },
        {
          "output_type": "stream",
          "text": [
            "28709/28709 [==============================] - 165s 6ms/step - loss: 3.1526 - acc: 0.1405 - val_loss: 1.9991 - val_acc: 0.1382\n",
            "\n",
            "Epoch 00017: val_acc did not improve from 0.13820\n",
            "Epoch 18/20\n",
            " 4000/28709 [===>..........................] - ETA: 2:16 - loss: 3.2299 - acc: 0.1475"
          ],
          "name": "stdout"
        },
        {
          "output_type": "stream",
          "text": [
            "28709/28709 [==============================] - 164s 6ms/step - loss: 3.1524 - acc: 0.1411 - val_loss: 2.0019 - val_acc: 0.1301\n",
            "\n",
            "Epoch 00018: val_acc did not improve from 0.13820\n",
            "Epoch 19/20\n",
            " 4000/28709 [===>..........................] - ETA: 2:16 - loss: 3.0920 - acc: 0.1398"
          ],
          "name": "stdout"
        },
        {
          "output_type": "stream",
          "text": [
            "28709/28709 [==============================] - 165s 6ms/step - loss: 3.1526 - acc: 0.1390 - val_loss: 1.9907 - val_acc: 0.1382\n",
            "\n",
            "Epoch 00019: val_acc did not improve from 0.13820\n",
            "Epoch 20/20\n",
            " 4000/28709 [===>..........................] - ETA: 2:16 - loss: 3.1715 - acc: 0.1475"
          ],
          "name": "stdout"
        },
        {
          "output_type": "stream",
          "text": [
            "28709/28709 [==============================] - 165s 6ms/step - loss: 3.1527 - acc: 0.1404 - val_loss: 1.9945 - val_acc: 0.1382\n",
            "\n",
            "Epoch 00020: val_acc did not improve from 0.13820\n"
          ],
          "name": "stdout"
        },
        {
          "output_type": "execute_result",
          "data": {
            "text/plain": [
              "<keras.callbacks.History at 0x7faae29b8750>"
            ]
          },
          "metadata": {
            "tags": []
          },
          "execution_count": 25
        }
      ]
    },
    {
      "metadata": {
        "id": "Noga8KXUx1WL",
        "colab_type": "text"
      },
      "cell_type": "markdown",
      "source": [
        "##Epoch 21-30"
      ]
    },
    {
      "metadata": {
        "id": "OwIzN33aRqzE",
        "colab_type": "code",
        "colab": {
          "autoexec": {
            "startup": false,
            "wait_interval": 0
          },
          "base_uri": "https://localhost:8080/",
          "height": 823
        },
        "outputId": "da3f45e1-aee3-4d98-c4eb-faa4cc394ea5",
        "executionInfo": {
          "status": "ok",
          "timestamp": 1529369443717,
          "user_tz": -330,
          "elapsed": 4091318,
          "user": {
            "displayName": "suraj bonagiri",
            "photoUrl": "//lh6.googleusercontent.com/-0F1W31o5q6E/AAAAAAAAAAI/AAAAAAAAA1c/XRzofGyVVA0/s50-c-k-no/photo.jpg",
            "userId": "117654023614571625344"
          }
        }
      },
      "cell_type": "code",
      "source": [
        "#changed batch size to 4 here\n",
        "model.load_weights('weights-improvement-01-0.14.hdf5')\n",
        "epoch = 20\n",
        "model.fit(tr_img, tr_l, \n",
        "          batch_size=4, \n",
        "          nb_epoch=30, \n",
        "          verbose=1,\n",
        "          initial_epoch=epoch,\n",
        "          callbacks=callbacks_list,\n",
        "          validation_data=(cv_img, cv_l),class_weight = class_weight)"
      ],
      "execution_count": 28,
      "outputs": [
        {
          "output_type": "stream",
          "text": [
            "/usr/local/lib/python2.7/dist-packages/ipykernel_launcher.py:9: UserWarning: The `nb_epoch` argument in `fit` has been renamed `epochs`.\n",
            "  if __name__ == '__main__':\n"
          ],
          "name": "stderr"
        },
        {
          "output_type": "stream",
          "text": [
            "Train on 28709 samples, validate on 3589 samples\n",
            "Epoch 21/30\n",
            " 2732/28709 [=>............................] - ETA: 6:37 - loss: 3.0911 - acc: 0.1310"
          ],
          "name": "stdout"
        },
        {
          "output_type": "stream",
          "text": [
            "28708/28709 [============================>.] - ETA: 0s - loss: 3.1598 - acc: 0.1322"
          ],
          "name": "stdout"
        },
        {
          "output_type": "stream",
          "text": [
            "\b\b\b\b\b\b\b\b\b\b\b\b\b\b\b\b\b\b\b\b\b\b\b\b\b\b\b\b\b\b\b\b\b\b\b\b\b\b\b\b\b\b\b\b\b\b\b\b\b\b\b\b\b\b\b\b\b\b\b\b\b\b\b\b\b\b\b\b\b\b\b\b\b\b\b\b\b\b\b\b\b\b\b\r28709/28709 [==============================] - 416s 15ms/step - loss: 3.1598 - acc: 0.1322 - val_loss: 1.9798 - val_acc: 0.1382\n",
            "\n",
            "Epoch 00021: val_acc improved from -inf to 0.13820, saving model to weights-improvement-21-0.14.hdf5\n",
            "Epoch 22/30\n",
            "  968/28709 [>.............................] - ETA: 6:37 - loss: 3.0593 - acc: 0.1281"
          ],
          "name": "stdout"
        },
        {
          "output_type": "stream",
          "text": [
            "28708/28709 [============================>.] - ETA: 0s - loss: 3.1668 - acc: 0.1131"
          ],
          "name": "stdout"
        },
        {
          "output_type": "stream",
          "text": [
            "28709/28709 [==============================] - 412s 14ms/step - loss: 3.1668 - acc: 0.1131 - val_loss: 2.0244 - val_acc: 0.0156\n",
            "\n",
            "Epoch 00022: val_acc did not improve from 0.13820\n",
            "Epoch 23/30\n",
            " 1444/28709 [>.............................] - ETA: 6:16 - loss: 3.1848 - acc: 0.0464"
          ],
          "name": "stdout"
        },
        {
          "output_type": "stream",
          "text": [
            "28708/28709 [============================>.] - ETA: 0s - loss: 3.1868 - acc: 0.1044"
          ],
          "name": "stdout"
        },
        {
          "output_type": "stream",
          "text": [
            "28709/28709 [==============================] - 406s 14ms/step - loss: 3.1868 - acc: 0.1044 - val_loss: 2.0117 - val_acc: 0.0354\n",
            "\n",
            "Epoch 00023: val_acc did not improve from 0.13820\n",
            "Epoch 24/30\n",
            " 1440/28709 [>.............................] - ETA: 6:17 - loss: 3.0051 - acc: 0.1153"
          ],
          "name": "stdout"
        },
        {
          "output_type": "stream",
          "text": [
            " 9464/28709 [========>.....................] - ETA: 4:25 - loss: 3.1351 - acc: 0.1082"
          ],
          "name": "stdout"
        },
        {
          "output_type": "stream",
          "text": [
            "28708/28709 [============================>.] - ETA: 0s - loss: 3.1543 - acc: 0.1133"
          ],
          "name": "stdout"
        },
        {
          "output_type": "stream",
          "text": [
            "28709/28709 [==============================] - 406s 14ms/step - loss: 3.1542 - acc: 0.1133 - val_loss: 1.9922 - val_acc: 0.0552\n",
            "\n",
            "Epoch 00024: val_acc did not improve from 0.13820\n",
            "Epoch 25/30\n",
            " 1444/28709 [>.............................] - ETA: 6:14 - loss: 3.1656 - acc: 0.0755"
          ],
          "name": "stdout"
        },
        {
          "output_type": "stream",
          "text": [
            "28708/28709 [============================>.] - ETA: 0s - loss: 3.1323 - acc: 0.1390"
          ],
          "name": "stdout"
        },
        {
          "output_type": "stream",
          "text": [
            "28709/28709 [==============================] - 407s 14ms/step - loss: 3.1323 - acc: 0.1389 - val_loss: 1.9214 - val_acc: 0.1817\n",
            "\n",
            "Epoch 00025: val_acc improved from 0.13820 to 0.18167, saving model to weights-improvement-25-0.18.hdf5\n",
            "Epoch 26/30\n",
            " 1208/28709 [>.............................] - ETA: 6:22 - loss: 3.0211 - acc: 0.2161"
          ],
          "name": "stdout"
        },
        {
          "output_type": "stream",
          "text": [
            "28708/28709 [============================>.] - ETA: 0s - loss: 3.0769 - acc: 0.2014"
          ],
          "name": "stdout"
        },
        {
          "output_type": "stream",
          "text": [
            "28709/28709 [==============================] - 408s 14ms/step - loss: 3.0769 - acc: 0.2014 - val_loss: 1.9501 - val_acc: 0.1591\n",
            "\n",
            "Epoch 00026: val_acc did not improve from 0.18167\n",
            "Epoch 27/30\n",
            " 1444/28709 [>.............................] - ETA: 6:18 - loss: 3.2254 - acc: 0.1939"
          ],
          "name": "stdout"
        },
        {
          "output_type": "stream",
          "text": [
            "27992/28709 [============================>.] - ETA: 9s - loss: 3.0373 - acc: 0.2223 "
          ],
          "name": "stdout"
        },
        {
          "output_type": "stream",
          "text": [
            "28709/28709 [==============================] - 407s 14ms/step - loss: 3.0319 - acc: 0.2229 - val_loss: 1.8669 - val_acc: 0.2602\n",
            "\n",
            "Epoch 00027: val_acc improved from 0.18167 to 0.26024, saving model to weights-improvement-27-0.26.hdf5\n",
            "Epoch 28/30\n",
            " 1040/28709 [>.............................] - ETA: 6:18 - loss: 3.0911 - acc: 0.2308"
          ],
          "name": "stdout"
        },
        {
          "output_type": "stream",
          "text": [
            " 7400/28709 [======>.......................] - ETA: 4:53 - loss: 2.9893 - acc: 0.2443"
          ],
          "name": "stdout"
        },
        {
          "output_type": "stream",
          "text": [
            "28708/28709 [============================>.] - ETA: 0s - loss: 2.9753 - acc: 0.2430"
          ],
          "name": "stdout"
        },
        {
          "output_type": "stream",
          "text": [
            "28709/28709 [==============================] - 406s 14ms/step - loss: 2.9752 - acc: 0.2430 - val_loss: 1.7834 - val_acc: 0.2753\n",
            "\n",
            "Epoch 00028: val_acc improved from 0.26024 to 0.27529, saving model to weights-improvement-28-0.28.hdf5\n",
            "Epoch 29/30\n",
            " 1208/28709 [>.............................] - ETA: 6:24 - loss: 2.9875 - acc: 0.2707"
          ],
          "name": "stdout"
        },
        {
          "output_type": "stream",
          "text": [
            "11544/28709 [===========>..................] - ETA: 3:57 - loss: 2.9401 - acc: 0.2448"
          ],
          "name": "stdout"
        },
        {
          "output_type": "stream",
          "text": [
            "28708/28709 [============================>.] - ETA: 0s - loss: 2.9529 - acc: 0.2433"
          ],
          "name": "stdout"
        },
        {
          "output_type": "stream",
          "text": [
            "28709/28709 [==============================] - 408s 14ms/step - loss: 2.9529 - acc: 0.2433 - val_loss: 1.8318 - val_acc: 0.2650\n",
            "\n",
            "Epoch 00029: val_acc did not improve from 0.27529\n",
            "Epoch 30/30\n",
            " 1444/28709 [>.............................] - ETA: 6:23 - loss: 2.8617 - acc: 0.2777"
          ],
          "name": "stdout"
        },
        {
          "output_type": "stream",
          "text": [
            "28708/28709 [============================>.] - ETA: 0s - loss: 2.8696 - acc: 0.2697"
          ],
          "name": "stdout"
        },
        {
          "output_type": "stream",
          "text": [
            "\b\b\b\b\b\b\b\b\b\b\b\b\b\b\b\b\b\b\b\b\b\b\b\b\b\b\b\b\b\b\b\b\b\b\b\b\b\b\b\b\b\b\b\b\b\b\b\b\b\b\b\b\b\b\b\b\b\b\b\b\b\b\b\b\b\b\b\b\b\b\b\b\b\b\b\b\b\b\b\b\b\b\b\r28709/28709 [==============================] - 407s 14ms/step - loss: 2.8696 - acc: 0.2697 - val_loss: 1.9225 - val_acc: 0.1800\n",
            "\n",
            "Epoch 00030: val_acc did not improve from 0.27529\n"
          ],
          "name": "stdout"
        },
        {
          "output_type": "execute_result",
          "data": {
            "text/plain": [
              "<keras.callbacks.History at 0x7faae134cd50>"
            ]
          },
          "metadata": {
            "tags": []
          },
          "execution_count": 28
        }
      ]
    },
    {
      "metadata": {
        "id": "Cmi2ZLAhosvU",
        "colab_type": "code",
        "colab": {
          "autoexec": {
            "startup": false,
            "wait_interval": 0
          }
        }
      },
      "cell_type": "code",
      "source": [
        "!cp weights-improvement-28-0.28.hdf5 drive/EIP/Facial_Expression_Recognition/"
      ],
      "execution_count": 0,
      "outputs": []
    },
    {
      "metadata": {
        "id": "42XAFgjqx6ZZ",
        "colab_type": "text"
      },
      "cell_type": "markdown",
      "source": [
        "## Epoch 31-50"
      ]
    },
    {
      "metadata": {
        "id": "elfz9L_6lzJv",
        "colab_type": "code",
        "colab": {
          "autoexec": {
            "startup": false,
            "wait_interval": 0
          },
          "base_uri": "https://localhost:8080/",
          "height": 1538
        },
        "outputId": "9015bfd0-0df8-42ff-e18f-e1c7ce77c10d",
        "executionInfo": {
          "status": "ok",
          "timestamp": 1529409254809,
          "user_tz": -330,
          "elapsed": 7744270,
          "user": {
            "displayName": "suraj bonagiri",
            "photoUrl": "//lh6.googleusercontent.com/-0F1W31o5q6E/AAAAAAAAAAI/AAAAAAAAA1c/XRzofGyVVA0/s50-c-k-no/photo.jpg",
            "userId": "117654023614571625344"
          }
        }
      },
      "cell_type": "code",
      "source": [
        "model.load_weights('weights-improvement-28-0.28.hdf5')\n",
        "epoch = 30\n",
        "model.fit(tr_img, tr_l, \n",
        "          batch_size=4, \n",
        "          nb_epoch=50, \n",
        "          verbose=1,\n",
        "          initial_epoch=epoch,\n",
        "          callbacks=callbacks_list,\n",
        "          validation_data=(cv_img, cv_l),class_weight = class_weight)"
      ],
      "execution_count": 19,
      "outputs": [
        {
          "output_type": "stream",
          "text": [
            "/usr/local/lib/python2.7/dist-packages/keras/models.py:981: UserWarning: The `nb_epoch` argument in `fit` has been renamed `epochs`.\n",
            "  warnings.warn('The `nb_epoch` argument in `fit` '\n"
          ],
          "name": "stderr"
        },
        {
          "output_type": "stream",
          "text": [
            "Train on 28709 samples, validate on 3589 samples\n",
            "Epoch 31/50\n",
            " 2892/28709 [==>...........................] - ETA: 5:59 - loss: 3.0540 - acc: 0.2389"
          ],
          "name": "stdout"
        },
        {
          "output_type": "stream",
          "text": [
            " 8080/28709 [=======>......................] - ETA: 4:33 - loss: 3.0020 - acc: 0.2406"
          ],
          "name": "stdout"
        },
        {
          "output_type": "stream",
          "text": [
            "12920/28709 [============>.................] - ETA: 3:28 - loss: 2.9698 - acc: 0.2420"
          ],
          "name": "stdout"
        },
        {
          "output_type": "stream",
          "text": [
            "18004/28709 [=================>............] - ETA: 2:21 - loss: 2.9449 - acc: 0.2477"
          ],
          "name": "stdout"
        },
        {
          "output_type": "stream",
          "text": [
            "23028/28709 [=======================>......] - ETA: 1:14 - loss: 2.9409 - acc: 0.2509"
          ],
          "name": "stdout"
        },
        {
          "output_type": "stream",
          "text": [
            "28708/28709 [============================>.] - ETA: 0s - loss: 2.9305 - acc: 0.2539"
          ],
          "name": "stdout"
        },
        {
          "output_type": "stream",
          "text": [
            "\b\b\b\b\b\b\b\b\b\b\b\b\b\b\b\b\b\b\b\b\b\b\b\b\b\b\b\b\b\b\b\b\b\b\b\b\b\b\b\b\b\b\b\b\b\b\b\b\b\b\b\b\b\b\b\b\b\b\b\b\b\b\b\b\b\b\b\b\b\b\b\b\b\b\b\b\b\b\b\b\b\b\b\r28709/28709 [==============================] - 388s 14ms/step - loss: 2.9304 - acc: 0.2539 - val_loss: 1.7645 - val_acc: 0.2806\n",
            "\n",
            "Epoch 00031: val_acc improved from -inf to 0.28058, saving model to weights-improvement-31-0.28.hdf5\n",
            "Epoch 32/50\n",
            "  996/28709 [>.............................] - ETA: 6:07 - loss: 2.9765 - acc: 0.2369"
          ],
          "name": "stdout"
        },
        {
          "output_type": "stream",
          "text": [
            "12368/28709 [===========>..................] - ETA: 3:35 - loss: 2.8469 - acc: 0.2724"
          ],
          "name": "stdout"
        },
        {
          "output_type": "stream",
          "text": [
            "17356/28709 [=================>............] - ETA: 2:29 - loss: 2.8359 - acc: 0.2718"
          ],
          "name": "stdout"
        },
        {
          "output_type": "stream",
          "text": [
            "24812/28709 [========================>.....] - ETA: 51s - loss: 2.8597 - acc: 0.2683"
          ],
          "name": "stdout"
        },
        {
          "output_type": "stream",
          "text": [
            "28709/28709 [==============================] - 388s 13ms/step - loss: 2.8684 - acc: 0.2669 - val_loss: 1.8756 - val_acc: 0.2020\n",
            "\n",
            "Epoch 00032: val_acc did not improve from 0.28058\n",
            "Epoch 33/50\n",
            "  332/28709 [..............................] - ETA: 6:15 - loss: 2.7234 - acc: 0.2440"
          ],
          "name": "stdout"
        },
        {
          "output_type": "stream",
          "text": [
            " 5596/28709 [====>.........................] - ETA: 5:00 - loss: 2.8357 - acc: 0.2793"
          ],
          "name": "stdout"
        },
        {
          "output_type": "stream",
          "text": [
            "10904/28709 [==========>...................] - ETA: 3:51 - loss: 2.8738 - acc: 0.2767"
          ],
          "name": "stdout"
        },
        {
          "output_type": "stream",
          "text": [
            "17408/28709 [=================>............] - ETA: 2:27 - loss: 2.8592 - acc: 0.2737"
          ],
          "name": "stdout"
        },
        {
          "output_type": "stream",
          "text": [
            "23396/28709 [=======================>......] - ETA: 1:09 - loss: 2.8633 - acc: 0.2726"
          ],
          "name": "stdout"
        },
        {
          "output_type": "stream",
          "text": [
            "28708/28709 [============================>.] - ETA: 0s - loss: 2.8499 - acc: 0.2727"
          ],
          "name": "stdout"
        },
        {
          "output_type": "stream",
          "text": [
            "28709/28709 [==============================] - 384s 13ms/step - loss: 2.8499 - acc: 0.2727 - val_loss: 1.8359 - val_acc: 0.2491\n",
            "\n",
            "Epoch 00033: val_acc did not improve from 0.28058\n",
            "Epoch 34/50\n",
            " 1548/28709 [>.............................] - ETA: 5:54 - loss: 2.7814 - acc: 0.2771"
          ],
          "name": "stdout"
        },
        {
          "output_type": "stream",
          "text": [
            " 8808/28709 [========>.....................] - ETA: 4:19 - loss: 2.7601 - acc: 0.2767"
          ],
          "name": "stdout"
        },
        {
          "output_type": "stream",
          "text": [
            "14304/28709 [=============>................] - ETA: 3:07 - loss: 2.7568 - acc: 0.2785"
          ],
          "name": "stdout"
        },
        {
          "output_type": "stream",
          "text": [
            "19724/28709 [===================>..........] - ETA: 1:57 - loss: 2.7928 - acc: 0.2770"
          ],
          "name": "stdout"
        },
        {
          "output_type": "stream",
          "text": [
            "25912/28709 [==========================>...] - ETA: 36s - loss: 2.8015 - acc: 0.2800"
          ],
          "name": "stdout"
        },
        {
          "output_type": "stream",
          "text": [
            "28709/28709 [==============================] - 385s 13ms/step - loss: 2.8015 - acc: 0.2805 - val_loss: 1.7002 - val_acc: 0.3123\n",
            "\n",
            "Epoch 00034: val_acc improved from 0.28058 to 0.31234, saving model to weights-improvement-34-0.31.hdf5\n",
            "Epoch 35/50\n",
            "  536/28709 [..............................] - ETA: 6:15 - loss: 2.7416 - acc: 0.3041"
          ],
          "name": "stdout"
        },
        {
          "output_type": "stream",
          "text": [
            " 6480/28709 [=====>........................] - ETA: 4:50 - loss: 2.7858 - acc: 0.2983"
          ],
          "name": "stdout"
        },
        {
          "output_type": "stream",
          "text": [
            "12228/28709 [===========>..................] - ETA: 3:34 - loss: 2.7613 - acc: 0.2987"
          ],
          "name": "stdout"
        },
        {
          "output_type": "stream",
          "text": [
            "19796/28709 [===================>..........] - ETA: 1:56 - loss: 2.7636 - acc: 0.2957"
          ],
          "name": "stdout"
        },
        {
          "output_type": "stream",
          "text": [
            "24812/28709 [========================>.....] - ETA: 50s - loss: 2.7605 - acc: 0.2941"
          ],
          "name": "stdout"
        },
        {
          "output_type": "stream",
          "text": [
            "28709/28709 [==============================] - 384s 13ms/step - loss: 2.7713 - acc: 0.2931 - val_loss: 1.7706 - val_acc: 0.2942\n",
            "\n",
            "Epoch 00035: val_acc did not improve from 0.31234\n",
            "Epoch 36/50\n",
            "  364/28709 [..............................] - ETA: 6:11 - loss: 2.5703 - acc: 0.2775"
          ],
          "name": "stdout"
        },
        {
          "output_type": "stream",
          "text": [
            " 5416/28709 [====>.........................] - ETA: 5:05 - loss: 2.7751 - acc: 0.2917"
          ],
          "name": "stdout"
        },
        {
          "output_type": "stream",
          "text": [
            "10676/28709 [==========>...................] - ETA: 3:55 - loss: 2.7397 - acc: 0.2972"
          ],
          "name": "stdout"
        },
        {
          "output_type": "stream",
          "text": [
            "15680/28709 [===============>..............] - ETA: 2:50 - loss: 2.7665 - acc: 0.2978"
          ],
          "name": "stdout"
        },
        {
          "output_type": "stream",
          "text": [
            "23508/28709 [=======================>......] - ETA: 1:07 - loss: 2.7605 - acc: 0.2999"
          ],
          "name": "stdout"
        },
        {
          "output_type": "stream",
          "text": [
            "28708/28709 [============================>.] - ETA: 0s - loss: 2.7611 - acc: 0.2995"
          ],
          "name": "stdout"
        },
        {
          "output_type": "stream",
          "text": [
            "28709/28709 [==============================] - 385s 13ms/step - loss: 2.7610 - acc: 0.2995 - val_loss: 1.6884 - val_acc: 0.3296\n",
            "\n",
            "Epoch 00036: val_acc improved from 0.31234 to 0.32962, saving model to weights-improvement-36-0.33.hdf5\n",
            "Epoch 37/50\n",
            " 1224/28709 [>.............................] - ETA: 6:02 - loss: 2.7477 - acc: 0.3072"
          ],
          "name": "stdout"
        },
        {
          "output_type": "stream",
          "text": [
            " 6568/28709 [=====>........................] - ETA: 4:51 - loss: 2.7853 - acc: 0.3076"
          ],
          "name": "stdout"
        },
        {
          "output_type": "stream",
          "text": [
            "13876/28709 [=============>................] - ETA: 3:14 - loss: 2.7518 - acc: 0.3091"
          ],
          "name": "stdout"
        },
        {
          "output_type": "stream",
          "text": [
            "20032/28709 [===================>..........] - ETA: 1:54 - loss: 2.7477 - acc: 0.3107"
          ],
          "name": "stdout"
        },
        {
          "output_type": "stream",
          "text": [
            "25064/28709 [=========================>....] - ETA: 47s - loss: 2.7375 - acc: 0.3095"
          ],
          "name": "stdout"
        },
        {
          "output_type": "stream",
          "text": [
            "28709/28709 [==============================] - 387s 13ms/step - loss: 2.7265 - acc: 0.3098 - val_loss: 1.7380 - val_acc: 0.3062\n",
            "\n",
            "Epoch 00037: val_acc did not improve from 0.32962\n",
            "Epoch 38/50\n",
            "  368/28709 [..............................] - ETA: 6:12 - loss: 2.6509 - acc: 0.2935"
          ],
          "name": "stdout"
        },
        {
          "output_type": "stream",
          "text": [
            " 8088/28709 [=======>......................] - ETA: 4:29 - loss: 2.6548 - acc: 0.3255"
          ],
          "name": "stdout"
        },
        {
          "output_type": "stream",
          "text": [
            "14796/28709 [==============>...............] - ETA: 3:01 - loss: 2.6721 - acc: 0.3222"
          ],
          "name": "stdout"
        },
        {
          "output_type": "stream",
          "text": [
            "19716/28709 [===================>..........] - ETA: 1:57 - loss: 2.6833 - acc: 0.3174"
          ],
          "name": "stdout"
        },
        {
          "output_type": "stream",
          "text": [
            "25748/28709 [=========================>....] - ETA: 38s - loss: 2.6819 - acc: 0.3163"
          ],
          "name": "stdout"
        },
        {
          "output_type": "stream",
          "text": [
            "28709/28709 [==============================] - 386s 13ms/step - loss: 2.6875 - acc: 0.3156 - val_loss: 1.7252 - val_acc: 0.3112\n",
            "\n",
            "Epoch 00038: val_acc did not improve from 0.32962\n",
            "Epoch 39/50\n",
            "  588/28709 [..............................] - ETA: 6:06 - loss: 2.7867 - acc: 0.2857"
          ],
          "name": "stdout"
        },
        {
          "output_type": "stream",
          "text": [
            " 7788/28709 [=======>......................] - ETA: 4:35 - loss: 2.6693 - acc: 0.3187"
          ],
          "name": "stdout"
        },
        {
          "output_type": "stream",
          "text": [
            "13108/28709 [============>.................] - ETA: 3:24 - loss: 2.6542 - acc: 0.3217"
          ],
          "name": "stdout"
        },
        {
          "output_type": "stream",
          "text": [
            "18164/28709 [=================>............] - ETA: 2:18 - loss: 2.6703 - acc: 0.3181"
          ],
          "name": "stdout"
        },
        {
          "output_type": "stream",
          "text": [
            "23300/28709 [=======================>......] - ETA: 1:10 - loss: 2.6617 - acc: 0.3192"
          ],
          "name": "stdout"
        },
        {
          "output_type": "stream",
          "text": [
            "28708/28709 [============================>.] - ETA: 0s - loss: 2.6661 - acc: 0.3184"
          ],
          "name": "stdout"
        },
        {
          "output_type": "stream",
          "text": [
            "28709/28709 [==============================] - 386s 13ms/step - loss: 2.6661 - acc: 0.3185 - val_loss: 1.6703 - val_acc: 0.3539\n",
            "\n",
            "Epoch 00039: val_acc improved from 0.32962 to 0.35386, saving model to weights-improvement-39-0.35.hdf5\n",
            "Epoch 40/50\n",
            " 1236/28709 [>.............................] - ETA: 6:02 - loss: 2.6421 - acc: 0.3325"
          ],
          "name": "stdout"
        },
        {
          "output_type": "stream",
          "text": [
            " 7116/28709 [======>.......................] - ETA: 4:44 - loss: 2.5580 - acc: 0.3383"
          ],
          "name": "stdout"
        },
        {
          "output_type": "stream",
          "text": [
            "12152/28709 [===========>..................] - ETA: 3:37 - loss: 2.5811 - acc: 0.3361"
          ],
          "name": "stdout"
        },
        {
          "output_type": "stream",
          "text": [
            "17108/28709 [================>.............] - ETA: 2:32 - loss: 2.6136 - acc: 0.3305"
          ],
          "name": "stdout"
        },
        {
          "output_type": "stream",
          "text": [
            "23804/28709 [=======================>......] - ETA: 1:04 - loss: 2.6238 - acc: 0.3280"
          ],
          "name": "stdout"
        },
        {
          "output_type": "stream",
          "text": [
            "28708/28709 [============================>.] - ETA: 0s - loss: 2.6359 - acc: 0.3280"
          ],
          "name": "stdout"
        },
        {
          "output_type": "stream",
          "text": [
            "28709/28709 [==============================] - 386s 13ms/step - loss: 2.6359 - acc: 0.3280 - val_loss: 1.6450 - val_acc: 0.3449\n",
            "\n",
            "Epoch 00040: val_acc did not improve from 0.35386\n",
            "Epoch 41/50\n",
            " 1468/28709 [>.............................] - ETA: 6:01 - loss: 2.6144 - acc: 0.3345"
          ],
          "name": "stdout"
        },
        {
          "output_type": "stream",
          "text": [
            " 8148/28709 [=======>......................] - ETA: 4:29 - loss: 2.6063 - acc: 0.3256"
          ],
          "name": "stdout"
        },
        {
          "output_type": "stream",
          "text": [
            "13556/28709 [=============>................] - ETA: 3:18 - loss: 2.5789 - acc: 0.3294"
          ],
          "name": "stdout"
        },
        {
          "output_type": "stream",
          "text": [
            "19660/28709 [===================>..........] - ETA: 1:58 - loss: 2.5740 - acc: 0.3354"
          ],
          "name": "stdout"
        },
        {
          "output_type": "stream",
          "text": [
            "24812/28709 [========================>.....] - ETA: 51s - loss: 2.5961 - acc: 0.3339"
          ],
          "name": "stdout"
        },
        {
          "output_type": "stream",
          "text": [
            "28709/28709 [==============================] - 386s 13ms/step - loss: 2.6053 - acc: 0.3336 - val_loss: 1.6474 - val_acc: 0.3469\n",
            "\n",
            "Epoch 00041: val_acc did not improve from 0.35386\n",
            "Epoch 42/50\n",
            "  304/28709 [..............................] - ETA: 6:17 - loss: 2.4139 - acc: 0.3454"
          ],
          "name": "stdout"
        },
        {
          "output_type": "stream",
          "text": [
            " 5492/28709 [====>.........................] - ETA: 5:03 - loss: 2.5175 - acc: 0.3505"
          ],
          "name": "stdout"
        },
        {
          "output_type": "stream",
          "text": [
            "11020/28709 [==========>...................] - ETA: 3:51 - loss: 2.5392 - acc: 0.3482"
          ],
          "name": "stdout"
        },
        {
          "output_type": "stream",
          "text": [
            "16924/28709 [================>.............] - ETA: 2:34 - loss: 2.5645 - acc: 0.3389"
          ],
          "name": "stdout"
        },
        {
          "output_type": "stream",
          "text": [
            "23600/28709 [=======================>......] - ETA: 1:07 - loss: 2.5905 - acc: 0.3387"
          ],
          "name": "stdout"
        },
        {
          "output_type": "stream",
          "text": [
            "28708/28709 [============================>.] - ETA: 0s - loss: 2.5973 - acc: 0.3383"
          ],
          "name": "stdout"
        },
        {
          "output_type": "stream",
          "text": [
            "28709/28709 [==============================] - 388s 14ms/step - loss: 2.5972 - acc: 0.3383 - val_loss: 1.6583 - val_acc: 0.3435\n",
            "\n",
            "Epoch 00042: val_acc did not improve from 0.35386\n",
            "Epoch 43/50\n",
            " 1532/28709 [>.............................] - ETA: 5:56 - loss: 2.5223 - acc: 0.3570"
          ],
          "name": "stdout"
        },
        {
          "output_type": "stream",
          "text": [
            " 8748/28709 [========>.....................] - ETA: 4:21 - loss: 2.5499 - acc: 0.3488"
          ],
          "name": "stdout"
        },
        {
          "output_type": "stream",
          "text": [
            "20428/28709 [====================>.........] - ETA: 1:49 - loss: 2.5674 - acc: 0.3436"
          ],
          "name": "stdout"
        },
        {
          "output_type": "stream",
          "text": [
            "26768/28709 [==========================>...] - ETA: 25s - loss: 2.5640 - acc: 0.3446"
          ],
          "name": "stdout"
        },
        {
          "output_type": "stream",
          "text": [
            "28709/28709 [==============================] - 389s 14ms/step - loss: 2.5639 - acc: 0.3453 - val_loss: 1.5965 - val_acc: 0.3597\n",
            "\n",
            "Epoch 00043: val_acc improved from 0.35386 to 0.35971, saving model to weights-improvement-43-0.36.hdf5\n",
            "Epoch 44/50\n",
            "  732/28709 [..............................] - ETA: 6:09 - loss: 2.5197 - acc: 0.3511"
          ],
          "name": "stdout"
        },
        {
          "output_type": "stream",
          "text": [
            " 5572/28709 [====>.........................] - ETA: 5:04 - loss: 2.4736 - acc: 0.3589"
          ],
          "name": "stdout"
        },
        {
          "output_type": "stream",
          "text": [
            "10616/28709 [==========>...................] - ETA: 3:57 - loss: 2.5312 - acc: 0.3496"
          ],
          "name": "stdout"
        },
        {
          "output_type": "stream",
          "text": [
            "15684/28709 [===============>..............] - ETA: 2:51 - loss: 2.5549 - acc: 0.3470"
          ],
          "name": "stdout"
        },
        {
          "output_type": "stream",
          "text": [
            "20536/28709 [====================>.........] - ETA: 1:47 - loss: 2.5699 - acc: 0.3470"
          ],
          "name": "stdout"
        },
        {
          "output_type": "stream",
          "text": [
            "28628/28709 [============================>.] - ETA: 1s - loss: 2.5550 - acc: 0.3482"
          ],
          "name": "stdout"
        },
        {
          "output_type": "stream",
          "text": [
            "28709/28709 [==============================] - 387s 13ms/step - loss: 2.5550 - acc: 0.3482 - val_loss: 1.6015 - val_acc: 0.3739\n",
            "\n",
            "Epoch 00044: val_acc improved from 0.35971 to 0.37392, saving model to weights-improvement-44-0.37.hdf5\n",
            "Epoch 45/50\n",
            " 1220/28709 [>.............................] - ETA: 6:02 - loss: 2.4201 - acc: 0.3893"
          ],
          "name": "stdout"
        },
        {
          "output_type": "stream",
          "text": [
            " 6244/28709 [=====>........................] - ETA: 4:53 - loss: 2.4403 - acc: 0.3700"
          ],
          "name": "stdout"
        },
        {
          "output_type": "stream",
          "text": [
            "11476/28709 [==========>...................] - ETA: 3:46 - loss: 2.4942 - acc: 0.3582"
          ],
          "name": "stdout"
        },
        {
          "output_type": "stream",
          "text": [
            "17272/28709 [=================>............] - ETA: 2:30 - loss: 2.5117 - acc: 0.3511"
          ],
          "name": "stdout"
        },
        {
          "output_type": "stream",
          "text": [
            "23316/28709 [=======================>......] - ETA: 1:11 - loss: 2.5188 - acc: 0.3532"
          ],
          "name": "stdout"
        },
        {
          "output_type": "stream",
          "text": [
            "28496/28709 [============================>.] - ETA: 2s - loss: 2.5429 - acc: 0.3490"
          ],
          "name": "stdout"
        },
        {
          "output_type": "stream",
          "text": [
            "28709/28709 [==============================] - 388s 14ms/step - loss: 2.5416 - acc: 0.3495 - val_loss: 1.5713 - val_acc: 0.3853\n",
            "\n",
            "Epoch 00045: val_acc improved from 0.37392 to 0.38534, saving model to weights-improvement-45-0.39.hdf5\n",
            "Epoch 46/50\n",
            " 1224/28709 [>.............................] - ETA: 5:59 - loss: 2.4973 - acc: 0.3603"
          ],
          "name": "stdout"
        },
        {
          "output_type": "stream",
          "text": [
            " 7520/28709 [======>.......................] - ETA: 4:38 - loss: 2.5252 - acc: 0.3566"
          ],
          "name": "stdout"
        },
        {
          "output_type": "stream",
          "text": [
            "12780/28709 [============>.................] - ETA: 3:29 - loss: 2.5116 - acc: 0.3519"
          ],
          "name": "stdout"
        },
        {
          "output_type": "stream",
          "text": [
            "20192/28709 [====================>.........] - ETA: 1:51 - loss: 2.4962 - acc: 0.3582"
          ],
          "name": "stdout"
        },
        {
          "output_type": "stream",
          "text": [
            "28708/28709 [============================>.] - ETA: 0s - loss: 2.5158 - acc: 0.3575"
          ],
          "name": "stdout"
        },
        {
          "output_type": "stream",
          "text": [
            "28709/28709 [==============================] - 388s 14ms/step - loss: 2.5158 - acc: 0.3575 - val_loss: 1.6199 - val_acc: 0.3628\n",
            "\n",
            "Epoch 00046: val_acc did not improve from 0.38534\n",
            "Epoch 47/50\n",
            " 1452/28709 [>.............................] - ETA: 6:00 - loss: 2.4528 - acc: 0.3561"
          ],
          "name": "stdout"
        },
        {
          "output_type": "stream",
          "text": [
            " 8944/28709 [========>.....................] - ETA: 4:20 - loss: 2.4512 - acc: 0.3696"
          ],
          "name": "stdout"
        },
        {
          "output_type": "stream",
          "text": [
            "14440/28709 [==============>...............] - ETA: 3:07 - loss: 2.4509 - acc: 0.3707"
          ],
          "name": "stdout"
        },
        {
          "output_type": "stream",
          "text": [
            "20672/28709 [====================>.........] - ETA: 1:46 - loss: 2.4793 - acc: 0.3666"
          ],
          "name": "stdout"
        },
        {
          "output_type": "stream",
          "text": [
            "27060/28709 [===========================>..] - ETA: 21s - loss: 2.4784 - acc: 0.3676"
          ],
          "name": "stdout"
        },
        {
          "output_type": "stream",
          "text": [
            "28709/28709 [==============================] - 389s 14ms/step - loss: 2.4788 - acc: 0.3675 - val_loss: 1.6014 - val_acc: 0.3803\n",
            "\n",
            "Epoch 00047: val_acc did not improve from 0.38534\n",
            "Epoch 48/50\n",
            "  992/28709 [>.............................] - ETA: 6:08 - loss: 2.6191 - acc: 0.3589"
          ],
          "name": "stdout"
        },
        {
          "output_type": "stream",
          "text": [
            " 8116/28709 [=======>......................] - ETA: 4:33 - loss: 2.4390 - acc: 0.3759"
          ],
          "name": "stdout"
        },
        {
          "output_type": "stream",
          "text": [
            "13100/28709 [============>.................] - ETA: 3:26 - loss: 2.4495 - acc: 0.3727"
          ],
          "name": "stdout"
        },
        {
          "output_type": "stream",
          "text": [
            "20448/28709 [====================>.........] - ETA: 1:49 - loss: 2.4473 - acc: 0.3747"
          ],
          "name": "stdout"
        },
        {
          "output_type": "stream",
          "text": [
            "27848/28709 [============================>.] - ETA: 11s - loss: 2.4496 - acc: 0.3740"
          ],
          "name": "stdout"
        },
        {
          "output_type": "stream",
          "text": [
            "28709/28709 [==============================] - 389s 14ms/step - loss: 2.4493 - acc: 0.3738 - val_loss: 1.6237 - val_acc: 0.3614\n",
            "\n",
            "Epoch 00048: val_acc did not improve from 0.38534\n",
            "Epoch 49/50\n",
            " 1204/28709 [>.............................] - ETA: 6:04 - loss: 2.2834 - acc: 0.4128"
          ],
          "name": "stdout"
        },
        {
          "output_type": "stream",
          "text": [
            " 6640/28709 [=====>........................] - ETA: 4:51 - loss: 2.3750 - acc: 0.3910"
          ],
          "name": "stdout"
        },
        {
          "output_type": "stream",
          "text": [
            "11940/28709 [===========>..................] - ETA: 3:40 - loss: 2.4119 - acc: 0.3816"
          ],
          "name": "stdout"
        },
        {
          "output_type": "stream",
          "text": [
            "17364/28709 [=================>............] - ETA: 2:29 - loss: 2.4238 - acc: 0.3778"
          ],
          "name": "stdout"
        },
        {
          "output_type": "stream",
          "text": [
            "22376/28709 [======================>.......] - ETA: 1:23 - loss: 2.4314 - acc: 0.3733"
          ],
          "name": "stdout"
        },
        {
          "output_type": "stream",
          "text": [
            "27616/28709 [===========================>..] - ETA: 14s - loss: 2.4336 - acc: 0.3718"
          ],
          "name": "stdout"
        },
        {
          "output_type": "stream",
          "text": [
            "28709/28709 [==============================] - 388s 14ms/step - loss: 2.4309 - acc: 0.3715 - val_loss: 1.5545 - val_acc: 0.3795\n",
            "\n",
            "Epoch 00049: val_acc did not improve from 0.38534\n",
            "Epoch 50/50\n",
            " 1136/28709 [>.............................] - ETA: 6:06 - loss: 2.3359 - acc: 0.3873"
          ],
          "name": "stdout"
        },
        {
          "output_type": "stream",
          "text": [
            " 7624/28709 [======>.......................] - ETA: 4:38 - loss: 2.3992 - acc: 0.3801"
          ],
          "name": "stdout"
        },
        {
          "output_type": "stream",
          "text": [
            "13372/28709 [============>.................] - ETA: 3:22 - loss: 2.4360 - acc: 0.3723"
          ],
          "name": "stdout"
        },
        {
          "output_type": "stream",
          "text": [
            "18832/28709 [==================>...........] - ETA: 2:10 - loss: 2.4172 - acc: 0.3735"
          ],
          "name": "stdout"
        },
        {
          "output_type": "stream",
          "text": [
            "28280/28709 [============================>.] - ETA: 5s - loss: 2.4231 - acc: 0.3736"
          ],
          "name": "stdout"
        },
        {
          "output_type": "stream",
          "text": [
            "28709/28709 [==============================] - 389s 14ms/step - loss: 2.4270 - acc: 0.3729 - val_loss: 1.6979 - val_acc: 0.3057\n",
            "\n",
            "Epoch 00050: val_acc did not improve from 0.38534\n"
          ],
          "name": "stdout"
        },
        {
          "output_type": "execute_result",
          "data": {
            "text/plain": [
              "<keras.callbacks.History at 0x7f0446c80650>"
            ]
          },
          "metadata": {
            "tags": []
          },
          "execution_count": 19
        }
      ]
    },
    {
      "metadata": {
        "id": "ls2PwQ_5FaE7",
        "colab_type": "code",
        "colab": {
          "autoexec": {
            "startup": false,
            "wait_interval": 0
          }
        }
      },
      "cell_type": "code",
      "source": [
        "!cp *.hdf5 drive/EIP/Facial_Expression_Recognition/"
      ],
      "execution_count": 0,
      "outputs": []
    },
    {
      "metadata": {
        "id": "Q85Idiibx_8P",
        "colab_type": "text"
      },
      "cell_type": "markdown",
      "source": [
        "## Epoch 51-60"
      ]
    },
    {
      "metadata": {
        "id": "Vy-VvVW4FpKf",
        "colab_type": "code",
        "colab": {
          "autoexec": {
            "startup": false,
            "wait_interval": 0
          },
          "base_uri": "https://localhost:8080/",
          "height": 787
        },
        "outputId": "30223b66-601d-42d1-a4ad-52a45bf732fe",
        "executionInfo": {
          "status": "ok",
          "timestamp": 1529418500662,
          "user_tz": -330,
          "elapsed": 3839468,
          "user": {
            "displayName": "suraj bonagiri",
            "photoUrl": "//lh6.googleusercontent.com/-0F1W31o5q6E/AAAAAAAAAAI/AAAAAAAAA1c/XRzofGyVVA0/s50-c-k-no/photo.jpg",
            "userId": "117654023614571625344"
          }
        }
      },
      "cell_type": "code",
      "source": [
        "model.load_weights('weights-improvement-45-0.39.hdf5')\n",
        "epoch = 50\n",
        "model.fit(tr_img, tr_l, \n",
        "          batch_size=4, \n",
        "          nb_epoch=60, \n",
        "          verbose=1,\n",
        "          initial_epoch=epoch,\n",
        "          callbacks=callbacks_list,\n",
        "          validation_data=(cv_img, cv_l),class_weight = class_weight)"
      ],
      "execution_count": 23,
      "outputs": [
        {
          "output_type": "stream",
          "text": [
            "Train on 28709 samples, validate on 3589 samples\n",
            "Epoch 51/60\n",
            " 2884/28709 [==>...........................] - ETA: 5:36 - loss: 2.5566 - acc: 0.3655"
          ],
          "name": "stdout"
        },
        {
          "output_type": "stream",
          "text": [
            " 7864/28709 [=======>......................] - ETA: 4:31 - loss: 2.6132 - acc: 0.3511"
          ],
          "name": "stdout"
        },
        {
          "output_type": "stream",
          "text": [
            "14140/28709 [=============>................] - ETA: 3:10 - loss: 2.5559 - acc: 0.3530"
          ],
          "name": "stdout"
        },
        {
          "output_type": "stream",
          "text": [
            "19616/28709 [===================>..........] - ETA: 1:58 - loss: 2.5487 - acc: 0.3519"
          ],
          "name": "stdout"
        },
        {
          "output_type": "stream",
          "text": [
            "26812/28709 [===========================>..] - ETA: 24s - loss: 2.5625 - acc: 0.3457"
          ],
          "name": "stdout"
        },
        {
          "output_type": "stream",
          "text": [
            "28709/28709 [==============================] - 385s 13ms/step - loss: 2.5590 - acc: 0.3469 - val_loss: 1.7235 - val_acc: 0.3299\n",
            "\n",
            "Epoch 00051: val_acc did not improve from 0.38534\n",
            "Epoch 52/60\n",
            "  944/28709 [..............................] - ETA: 6:02 - loss: 2.5340 - acc: 0.3453"
          ],
          "name": "stdout"
        },
        {
          "output_type": "stream",
          "text": [
            " 5812/28709 [=====>........................] - ETA: 4:59 - loss: 2.4434 - acc: 0.3703"
          ],
          "name": "stdout"
        },
        {
          "output_type": "stream",
          "text": [
            "10896/28709 [==========>...................] - ETA: 3:52 - loss: 2.4691 - acc: 0.3671"
          ],
          "name": "stdout"
        },
        {
          "output_type": "stream",
          "text": [
            "15976/28709 [===============>..............] - ETA: 2:46 - loss: 2.4684 - acc: 0.3630"
          ],
          "name": "stdout"
        },
        {
          "output_type": "stream",
          "text": [
            "21788/28709 [=====================>........] - ETA: 1:30 - loss: 2.4932 - acc: 0.3586"
          ],
          "name": "stdout"
        },
        {
          "output_type": "stream",
          "text": [
            "26752/28709 [==========================>...] - ETA: 25s - loss: 2.4937 - acc: 0.3605"
          ],
          "name": "stdout"
        },
        {
          "output_type": "stream",
          "text": [
            "28709/28709 [==============================] - 384s 13ms/step - loss: 2.4987 - acc: 0.3597 - val_loss: 1.6144 - val_acc: 0.3631\n",
            "\n",
            "Epoch 00052: val_acc did not improve from 0.38534\n",
            "Epoch 53/60\n",
            " 1000/28709 [>.............................] - ETA: 5:58 - loss: 2.4282 - acc: 0.3690"
          ],
          "name": "stdout"
        },
        {
          "output_type": "stream",
          "text": [
            " 8156/28709 [=======>......................] - ETA: 4:27 - loss: 2.4438 - acc: 0.3774"
          ],
          "name": "stdout"
        },
        {
          "output_type": "stream",
          "text": [
            "14196/28709 [=============>................] - ETA: 3:08 - loss: 2.4664 - acc: 0.3729"
          ],
          "name": "stdout"
        },
        {
          "output_type": "stream",
          "text": [
            "19832/28709 [===================>..........] - ETA: 1:55 - loss: 2.4631 - acc: 0.3739"
          ],
          "name": "stdout"
        },
        {
          "output_type": "stream",
          "text": [
            "24768/28709 [========================>.....] - ETA: 51s - loss: 2.4730 - acc: 0.3718"
          ],
          "name": "stdout"
        },
        {
          "output_type": "stream",
          "text": [
            "28709/28709 [==============================] - 384s 13ms/step - loss: 2.4761 - acc: 0.3711 - val_loss: 1.6141 - val_acc: 0.3756\n",
            "\n",
            "Epoch 00053: val_acc did not improve from 0.38534\n",
            "Epoch 54/60\n",
            "  300/28709 [..............................] - ETA: 6:10 - loss: 2.5801 - acc: 0.3433"
          ],
          "name": "stdout"
        },
        {
          "output_type": "stream",
          "text": [
            " 5412/28709 [====>.........................] - ETA: 5:03 - loss: 2.5855 - acc: 0.3553"
          ],
          "name": "stdout"
        },
        {
          "output_type": "stream",
          "text": [
            "10472/28709 [=========>....................] - ETA: 3:57 - loss: 2.5458 - acc: 0.3611"
          ],
          "name": "stdout"
        },
        {
          "output_type": "stream",
          "text": [
            "18832/28709 [==================>...........] - ETA: 2:08 - loss: 2.5016 - acc: 0.3648"
          ],
          "name": "stdout"
        },
        {
          "output_type": "stream",
          "text": [
            "24080/28709 [========================>.....] - ETA: 1:00 - loss: 2.4869 - acc: 0.3661"
          ],
          "name": "stdout"
        },
        {
          "output_type": "stream",
          "text": [
            "28709/28709 [==============================] - 385s 13ms/step - loss: 2.4674 - acc: 0.3689 - val_loss: 1.5440 - val_acc: 0.3912\n",
            "\n",
            "Epoch 00054: val_acc improved from 0.38534 to 0.39120, saving model to weights-improvement-54-0.39.hdf5\n",
            "Epoch 55/60\n",
            "   64/28709 [..............................] - ETA: 6:17 - loss: 1.9613 - acc: 0.3750"
          ],
          "name": "stdout"
        },
        {
          "output_type": "stream",
          "text": [
            " 9728/28709 [=========>....................] - ETA: 4:09 - loss: 2.4117 - acc: 0.3813"
          ],
          "name": "stdout"
        },
        {
          "output_type": "stream",
          "text": [
            "16784/28709 [================>.............] - ETA: 2:36 - loss: 2.4363 - acc: 0.3769"
          ],
          "name": "stdout"
        },
        {
          "output_type": "stream",
          "text": [
            "21860/28709 [=====================>........] - ETA: 1:30 - loss: 2.4282 - acc: 0.3761"
          ],
          "name": "stdout"
        },
        {
          "output_type": "stream",
          "text": [
            "27116/28709 [===========================>..] - ETA: 20s - loss: 2.4290 - acc: 0.3762"
          ],
          "name": "stdout"
        },
        {
          "output_type": "stream",
          "text": [
            "28709/28709 [==============================] - 386s 13ms/step - loss: 2.4237 - acc: 0.3772 - val_loss: 1.6054 - val_acc: 0.3631\n",
            "\n",
            "Epoch 00055: val_acc did not improve from 0.39120\n",
            "Epoch 56/60\n",
            " 1044/28709 [>.............................] - ETA: 6:00 - loss: 2.2479 - acc: 0.3975"
          ],
          "name": "stdout"
        },
        {
          "output_type": "stream",
          "text": [
            " 9424/28709 [========>.....................] - ETA: 4:13 - loss: 2.4146 - acc: 0.3787"
          ],
          "name": "stdout"
        },
        {
          "output_type": "stream",
          "text": [
            "16736/28709 [================>.............] - ETA: 2:36 - loss: 2.4202 - acc: 0.3826"
          ],
          "name": "stdout"
        },
        {
          "output_type": "stream",
          "text": [
            "22312/28709 [======================>.......] - ETA: 1:23 - loss: 2.4508 - acc: 0.3789"
          ],
          "name": "stdout"
        },
        {
          "output_type": "stream",
          "text": [
            "28080/28709 [============================>.] - ETA: 8s - loss: 2.4558 - acc: 0.3788"
          ],
          "name": "stdout"
        },
        {
          "output_type": "stream",
          "text": [
            "28709/28709 [==============================] - 385s 13ms/step - loss: 2.4509 - acc: 0.3789 - val_loss: 1.5657 - val_acc: 0.3859\n",
            "\n",
            "Epoch 00056: val_acc did not improve from 0.39120\n",
            "Epoch 57/60\n",
            " 1332/28709 [>.............................] - ETA: 5:55 - loss: 2.3307 - acc: 0.3851"
          ],
          "name": "stdout"
        },
        {
          "output_type": "stream",
          "text": [
            " 6556/28709 [=====>........................] - ETA: 4:46 - loss: 2.4167 - acc: 0.3722"
          ],
          "name": "stdout"
        },
        {
          "output_type": "stream",
          "text": [
            "12316/28709 [===========>..................] - ETA: 3:31 - loss: 2.4147 - acc: 0.3795"
          ],
          "name": "stdout"
        },
        {
          "output_type": "stream",
          "text": [
            "17780/28709 [=================>............] - ETA: 2:21 - loss: 2.4194 - acc: 0.3759"
          ],
          "name": "stdout"
        },
        {
          "output_type": "stream",
          "text": [
            "23480/28709 [=======================>......] - ETA: 1:07 - loss: 2.4062 - acc: 0.3783"
          ],
          "name": "stdout"
        },
        {
          "output_type": "stream",
          "text": [
            "28688/28709 [============================>.] - ETA: 0s - loss: 2.3959 - acc: 0.3796"
          ],
          "name": "stdout"
        },
        {
          "output_type": "stream",
          "text": [
            "28709/28709 [==============================] - 383s 13ms/step - loss: 2.3969 - acc: 0.3795 - val_loss: 1.5792 - val_acc: 0.3773\n",
            "\n",
            "Epoch 00057: val_acc did not improve from 0.39120\n",
            "Epoch 58/60\n",
            " 1488/28709 [>.............................] - ETA: 5:54 - loss: 2.3548 - acc: 0.4005"
          ],
          "name": "stdout"
        },
        {
          "output_type": "stream",
          "text": [
            " 6696/28709 [=====>........................] - ETA: 4:47 - loss: 2.2427 - acc: 0.4119"
          ],
          "name": "stdout"
        },
        {
          "output_type": "stream",
          "text": [
            "12624/28709 [============>.................] - ETA: 3:29 - loss: 2.3471 - acc: 0.3978"
          ],
          "name": "stdout"
        },
        {
          "output_type": "stream",
          "text": [
            "20168/28709 [====================>.........] - ETA: 1:51 - loss: 2.3609 - acc: 0.3895"
          ],
          "name": "stdout"
        },
        {
          "output_type": "stream",
          "text": [
            "25296/28709 [=========================>....] - ETA: 44s - loss: 2.3722 - acc: 0.3885"
          ],
          "name": "stdout"
        },
        {
          "output_type": "stream",
          "text": [
            "28709/28709 [==============================] - 383s 13ms/step - loss: 2.3762 - acc: 0.3867 - val_loss: 1.7178 - val_acc: 0.3881\n",
            "\n",
            "Epoch 00058: val_acc did not improve from 0.39120\n",
            "Epoch 59/60\n",
            "  456/28709 [..............................] - ETA: 6:10 - loss: 2.3380 - acc: 0.3202"
          ],
          "name": "stdout"
        },
        {
          "output_type": "stream",
          "text": [
            " 6172/28709 [=====>........................] - ETA: 4:52 - loss: 2.4903 - acc: 0.3603"
          ],
          "name": "stdout"
        },
        {
          "output_type": "stream",
          "text": [
            "11320/28709 [==========>...................] - ETA: 3:46 - loss: 2.4210 - acc: 0.3762"
          ],
          "name": "stdout"
        },
        {
          "output_type": "stream",
          "text": [
            "16184/28709 [===============>..............] - ETA: 2:43 - loss: 2.4110 - acc: 0.3784"
          ],
          "name": "stdout"
        },
        {
          "output_type": "stream",
          "text": [
            "21032/28709 [====================>.........] - ETA: 1:40 - loss: 2.4107 - acc: 0.3798"
          ],
          "name": "stdout"
        },
        {
          "output_type": "stream",
          "text": [
            "27696/28709 [===========================>..] - ETA: 13s - loss: 2.4021 - acc: 0.3825"
          ],
          "name": "stdout"
        },
        {
          "output_type": "stream",
          "text": [
            "28709/28709 [==============================] - 383s 13ms/step - loss: 2.3994 - acc: 0.3827 - val_loss: 1.5335 - val_acc: 0.4040\n",
            "\n",
            "Epoch 00059: val_acc improved from 0.39120 to 0.40401, saving model to weights-improvement-59-0.40.hdf5\n",
            "Epoch 60/60\n",
            " 1004/28709 [>.............................] - ETA: 6:00 - loss: 2.1768 - acc: 0.4054"
          ],
          "name": "stdout"
        },
        {
          "output_type": "stream",
          "text": [
            " 6752/28709 [======>.......................] - ETA: 4:43 - loss: 2.3320 - acc: 0.3962"
          ],
          "name": "stdout"
        },
        {
          "output_type": "stream",
          "text": [
            "13624/28709 [=============>................] - ETA: 3:14 - loss: 2.3557 - acc: 0.3869"
          ],
          "name": "stdout"
        },
        {
          "output_type": "stream",
          "text": [
            "19204/28709 [===================>..........] - ETA: 2:02 - loss: 2.3688 - acc: 0.3875"
          ],
          "name": "stdout"
        },
        {
          "output_type": "stream",
          "text": [
            "24884/28709 [=========================>....] - ETA: 49s - loss: 2.3830 - acc: 0.3841"
          ],
          "name": "stdout"
        },
        {
          "output_type": "stream",
          "text": [
            "28709/28709 [==============================] - 380s 13ms/step - loss: 2.3831 - acc: 0.3843 - val_loss: 1.5529 - val_acc: 0.3948\n",
            "\n",
            "Epoch 00060: val_acc did not improve from 0.40401\n"
          ],
          "name": "stdout"
        },
        {
          "output_type": "execute_result",
          "data": {
            "text/plain": [
              "<keras.callbacks.History at 0x7f04519337d0>"
            ]
          },
          "metadata": {
            "tags": []
          },
          "execution_count": 23
        }
      ]
    },
    {
      "metadata": {
        "id": "uCnEahRIyEeX",
        "colab_type": "text"
      },
      "cell_type": "markdown",
      "source": [
        "## Epoch 61-75"
      ]
    },
    {
      "metadata": {
        "id": "4TId2AiXbBE8",
        "colab_type": "code",
        "colab": {
          "autoexec": {
            "startup": false,
            "wait_interval": 0
          },
          "base_uri": "https://localhost:8080/",
          "height": 823
        },
        "outputId": "5dc5b873-d281-456e-9546-35012cc4726f",
        "executionInfo": {
          "status": "ok",
          "timestamp": 1529464395370,
          "user_tz": -330,
          "elapsed": 3977816,
          "user": {
            "displayName": "suraj bonagiri",
            "photoUrl": "//lh6.googleusercontent.com/-0F1W31o5q6E/AAAAAAAAAAI/AAAAAAAAA1c/XRzofGyVVA0/s50-c-k-no/photo.jpg",
            "userId": "117654023614571625344"
          }
        }
      },
      "cell_type": "code",
      "source": [
        "model.load_weights('weights-improvement-59-0.40.hdf5')\n",
        "epoch = 60\n",
        "model.fit(tr_img, tr_l, \n",
        "          batch_size=4, \n",
        "          nb_epoch=70, \n",
        "          verbose=1,\n",
        "          initial_epoch=epoch,\n",
        "          callbacks=callbacks_list,\n",
        "          validation_data=(cv_img, cv_l),class_weight = class_weight)"
      ],
      "execution_count": 19,
      "outputs": [
        {
          "output_type": "stream",
          "text": [
            "/usr/local/lib/python3.6/dist-packages/keras/models.py:981: UserWarning: The `nb_epoch` argument in `fit` has been renamed `epochs`.\n",
            "  warnings.warn('The `nb_epoch` argument in `fit` '\n"
          ],
          "name": "stderr"
        },
        {
          "output_type": "stream",
          "text": [
            "Train on 28709 samples, validate on 3589 samples\n",
            "Epoch 61/70\n",
            " 2728/28709 [=>............................] - ETA: 6:14 - loss: 2.4199 - acc: 0.3856"
          ],
          "name": "stdout"
        },
        {
          "output_type": "stream",
          "text": [
            "28708/28709 [============================>.] - ETA: 0s - loss: 2.3965 - acc: 0.3829"
          ],
          "name": "stdout"
        },
        {
          "output_type": "stream",
          "text": [
            "\b\b\b\b\b\b\b\b\b\b\b\b\b\b\b\b\b\b\b\b\b\b\b\b\b\b\b\b\b\b\b\b\b\b\b\b\b\b\b\b\b\b\b\b\b\b\b\b\b\b\b\b\b\b\b\b\b\b\b\b\b\b\b\b\b\b\b\b\b\b\b\b\b\b\b\b\b\b\b\b\b\b\b\r28709/28709 [==============================] - 398s 14ms/step - loss: 2.3965 - acc: 0.3829 - val_loss: 1.6093 - val_acc: 0.3709\n",
            "\n",
            "Epoch 00061: val_acc improved from -inf to 0.37086, saving model to weights-improvement-61-0.37.hdf5\n",
            "Epoch 62/70\n",
            "  968/28709 [>.............................] - ETA: 6:23 - loss: 2.2759 - acc: 0.3895"
          ],
          "name": "stdout"
        },
        {
          "output_type": "stream",
          "text": [
            "26120/28709 [==========================>...] - ETA: 34s - loss: 2.3751 - acc: 0.3852"
          ],
          "name": "stdout"
        },
        {
          "output_type": "stream",
          "text": [
            "28709/28709 [==============================] - 398s 14ms/step - loss: 2.3760 - acc: 0.3852 - val_loss: 1.5555 - val_acc: 0.4099\n",
            "\n",
            "Epoch 00062: val_acc improved from 0.37086 to 0.40986, saving model to weights-improvement-62-0.41.hdf5\n",
            "Epoch 63/70\n",
            "  556/28709 [..............................] - ETA: 6:35 - loss: 2.3490 - acc: 0.3813"
          ],
          "name": "stdout"
        },
        {
          "output_type": "stream",
          "text": [
            "21988/28709 [=====================>........] - ETA: 1:30 - loss: 2.3498 - acc: 0.3877"
          ],
          "name": "stdout"
        },
        {
          "output_type": "stream",
          "text": [
            "27284/28709 [===========================>..] - ETA: 19s - loss: 2.3624 - acc: 0.3858"
          ],
          "name": "stdout"
        },
        {
          "output_type": "stream",
          "text": [
            "28709/28709 [==============================] - 400s 14ms/step - loss: 2.3597 - acc: 0.3858 - val_loss: 1.6706 - val_acc: 0.3405\n",
            "\n",
            "Epoch 00063: val_acc did not improve from 0.40986\n",
            "Epoch 64/70\n",
            " 1020/28709 [>.............................] - ETA: 6:19 - loss: 2.3323 - acc: 0.3725"
          ],
          "name": "stdout"
        },
        {
          "output_type": "stream",
          "text": [
            "11696/28709 [===========>..................] - ETA: 3:48 - loss: 2.3800 - acc: 0.3823"
          ],
          "name": "stdout"
        },
        {
          "output_type": "stream",
          "text": [
            "28708/28709 [============================>.] - ETA: 0s - loss: 2.3743 - acc: 0.3826"
          ],
          "name": "stdout"
        },
        {
          "output_type": "stream",
          "text": [
            "28709/28709 [==============================] - 399s 14ms/step - loss: 2.3743 - acc: 0.3826 - val_loss: 1.7005 - val_acc: 0.3396\n",
            "\n",
            "Epoch 00064: val_acc did not improve from 0.40986\n",
            "Epoch 65/70\n",
            " 1460/28709 [>.............................] - ETA: 6:02 - loss: 2.4279 - acc: 0.3815"
          ],
          "name": "stdout"
        },
        {
          "output_type": "stream",
          "text": [
            "12736/28709 [============>.................] - ETA: 3:32 - loss: 2.4161 - acc: 0.3887"
          ],
          "name": "stdout"
        },
        {
          "output_type": "stream",
          "text": [
            "28708/28709 [============================>.] - ETA: 0s - loss: 2.3679 - acc: 0.3906"
          ],
          "name": "stdout"
        },
        {
          "output_type": "stream",
          "text": [
            "28709/28709 [==============================] - 395s 14ms/step - loss: 2.3678 - acc: 0.3906 - val_loss: 1.4999 - val_acc: 0.4143\n",
            "\n",
            "Epoch 00065: val_acc improved from 0.40986 to 0.41432, saving model to weights-improvement-65-0.41.hdf5\n",
            "Epoch 66/70\n",
            " 1216/28709 [>.............................] - ETA: 6:13 - loss: 2.3429 - acc: 0.3849"
          ],
          "name": "stdout"
        },
        {
          "output_type": "stream",
          "text": [
            "12616/28709 [============>.................] - ETA: 3:34 - loss: 2.2638 - acc: 0.4020"
          ],
          "name": "stdout"
        },
        {
          "output_type": "stream",
          "text": [
            "21636/28709 [=====================>........] - ETA: 1:34 - loss: 2.3444 - acc: 0.3963"
          ],
          "name": "stdout"
        },
        {
          "output_type": "stream",
          "text": [
            "28708/28709 [============================>.] - ETA: 0s - loss: 2.3360 - acc: 0.3950"
          ],
          "name": "stdout"
        },
        {
          "output_type": "stream",
          "text": [
            "28709/28709 [==============================] - 396s 14ms/step - loss: 2.3360 - acc: 0.3951 - val_loss: 1.5447 - val_acc: 0.3948\n",
            "\n",
            "Epoch 00066: val_acc did not improve from 0.41432\n",
            "Epoch 67/70\n",
            " 1448/28709 [>.............................] - ETA: 6:11 - loss: 2.3141 - acc: 0.3999"
          ],
          "name": "stdout"
        },
        {
          "output_type": "stream",
          "text": [
            "10432/28709 [=========>....................] - ETA: 4:03 - loss: 2.3088 - acc: 0.3956"
          ],
          "name": "stdout"
        },
        {
          "output_type": "stream",
          "text": [
            "15272/28709 [==============>...............] - ETA: 2:59 - loss: 2.3039 - acc: 0.3958"
          ],
          "name": "stdout"
        },
        {
          "output_type": "stream",
          "text": [
            "28708/28709 [============================>.] - ETA: 0s - loss: 2.3494 - acc: 0.3887"
          ],
          "name": "stdout"
        },
        {
          "output_type": "stream",
          "text": [
            "28709/28709 [==============================] - 397s 14ms/step - loss: 2.3493 - acc: 0.3887 - val_loss: 1.6015 - val_acc: 0.3890\n",
            "\n",
            "Epoch 00067: val_acc did not improve from 0.41432\n",
            "Epoch 68/70\n",
            " 1444/28709 [>.............................] - ETA: 6:18 - loss: 2.2315 - acc: 0.4169"
          ],
          "name": "stdout"
        },
        {
          "output_type": "stream",
          "text": [
            " 6620/28709 [=====>........................] - ETA: 5:00 - loss: 2.2624 - acc: 0.4048"
          ],
          "name": "stdout"
        },
        {
          "output_type": "stream",
          "text": [
            "12208/28709 [===========>..................] - ETA: 3:43 - loss: 2.3003 - acc: 0.4016"
          ],
          "name": "stdout"
        },
        {
          "output_type": "stream",
          "text": [
            "28708/28709 [============================>.] - ETA: 0s - loss: 2.3348 - acc: 0.3938"
          ],
          "name": "stdout"
        },
        {
          "output_type": "stream",
          "text": [
            "28709/28709 [==============================] - 400s 14ms/step - loss: 2.3348 - acc: 0.3937 - val_loss: 1.4877 - val_acc: 0.4174\n",
            "\n",
            "Epoch 00068: val_acc improved from 0.41432 to 0.41739, saving model to weights-improvement-68-0.42.hdf5\n",
            "Epoch 69/70\n",
            " 1208/28709 [>.............................] - ETA: 6:16 - loss: 2.1967 - acc: 0.4081"
          ],
          "name": "stdout"
        },
        {
          "output_type": "stream",
          "text": [
            "21032/28709 [====================>.........] - ETA: 1:42 - loss: 2.2808 - acc: 0.4019"
          ],
          "name": "stdout"
        },
        {
          "output_type": "stream",
          "text": [
            "26256/28709 [==========================>...] - ETA: 32s - loss: 2.3077 - acc: 0.3978"
          ],
          "name": "stdout"
        },
        {
          "output_type": "stream",
          "text": [
            "28709/28709 [==============================] - 396s 14ms/step - loss: 2.3013 - acc: 0.3982 - val_loss: 1.4902 - val_acc: 0.4283\n",
            "\n",
            "Epoch 00069: val_acc improved from 0.41739 to 0.42825, saving model to weights-improvement-69-0.43.hdf5\n",
            "Epoch 70/70\n",
            "  588/28709 [..............................] - ETA: 6:19 - loss: 2.4394 - acc: 0.3980"
          ],
          "name": "stdout"
        },
        {
          "output_type": "stream",
          "text": [
            " 6532/28709 [=====>........................] - ETA: 4:54 - loss: 2.3174 - acc: 0.3990"
          ],
          "name": "stdout"
        },
        {
          "output_type": "stream",
          "text": [
            "12552/28709 [============>.................] - ETA: 3:35 - loss: 2.3197 - acc: 0.3945"
          ],
          "name": "stdout"
        },
        {
          "output_type": "stream",
          "text": [
            "21356/28709 [=====================>........] - ETA: 1:37 - loss: 2.3510 - acc: 0.3921"
          ],
          "name": "stdout"
        },
        {
          "output_type": "stream",
          "text": [
            "26640/28709 [==========================>...] - ETA: 27s - loss: 2.3663 - acc: 0.3886"
          ],
          "name": "stdout"
        },
        {
          "output_type": "stream",
          "text": [
            "28709/28709 [==============================] - 395s 14ms/step - loss: 2.3644 - acc: 0.3892 - val_loss: 1.6063 - val_acc: 0.3745\n",
            "\n",
            "Epoch 00070: val_acc did not improve from 0.42825\n"
          ],
          "name": "stdout"
        },
        {
          "output_type": "execute_result",
          "data": {
            "text/plain": [
              "<keras.callbacks.History at 0x7fb704f255f8>"
            ]
          },
          "metadata": {
            "tags": []
          },
          "execution_count": 19
        }
      ]
    },
    {
      "metadata": {
        "id": "abrTcHVvKvzs",
        "colab_type": "code",
        "colab": {
          "autoexec": {
            "startup": false,
            "wait_interval": 0
          }
        }
      },
      "cell_type": "code",
      "source": [
        "!cp *.hdf5 drive/EIP/Facial_Expression_Recognition/"
      ],
      "execution_count": 0,
      "outputs": []
    },
    {
      "metadata": {
        "id": "q8GtXr77Kyel",
        "colab_type": "text"
      },
      "cell_type": "markdown",
      "source": [
        "## Epochs 70-80"
      ]
    },
    {
      "metadata": {
        "id": "-N0mJ21jKmxh",
        "colab_type": "code",
        "colab": {
          "autoexec": {
            "startup": false,
            "wait_interval": 0
          },
          "base_uri": "https://localhost:8080/",
          "height": 412
        },
        "outputId": "9064b61c-3ac5-4ee3-f372-d71c4127da0e"
      },
      "cell_type": "code",
      "source": [
        "model.load_weights('weights-improvement-69-0.43.hdf5')\n",
        "epoch = 70\n",
        "model.fit(tr_img, tr_l, \n",
        "          batch_size=16, \n",
        "          nb_epoch=80, \n",
        "          verbose=1,\n",
        "          initial_epoch=epoch,\n",
        "          callbacks=callbacks_list,\n",
        "          validation_data=(cv_img, cv_l),class_weight = class_weight)"
      ],
      "execution_count": 0,
      "outputs": [
        {
          "output_type": "stream",
          "text": [
            "/usr/local/lib/python3.6/dist-packages/keras/models.py:981: UserWarning: The `nb_epoch` argument in `fit` has been renamed `epochs`.\n",
            "  warnings.warn('The `nb_epoch` argument in `fit` '\n"
          ],
          "name": "stderr"
        },
        {
          "output_type": "stream",
          "text": [
            "Train on 28709 samples, validate on 3589 samples\n",
            "Epoch 71/80\n",
            "10944/28709 [==========>...................] - ETA: 2:08 - loss: 2.1123 - acc: 0.4338"
          ],
          "name": "stdout"
        },
        {
          "output_type": "stream",
          "text": [
            "28709/28709 [==============================] - 216s 8ms/step - loss: 2.0938 - acc: 0.4406 - val_loss: 1.4638 - val_acc: 0.4333\n",
            "\n",
            "Epoch 00071: val_acc improved from 0.42825 to 0.43327, saving model to weights-improvement-71-0.43.hdf5\n",
            "Epoch 72/80\n",
            "  288/28709 [..............................] - ETA: 3:23 - loss: 2.1314 - acc: 0.3681"
          ],
          "name": "stdout"
        },
        {
          "output_type": "stream",
          "text": [
            "28704/28709 [============================>.] - ETA: 0s - loss: 2.0675 - acc: 0.4463"
          ],
          "name": "stdout"
        },
        {
          "output_type": "stream",
          "text": [
            "28709/28709 [==============================] - 215s 7ms/step - loss: 2.0675 - acc: 0.4463 - val_loss: 1.4536 - val_acc: 0.4344\n",
            "\n",
            "Epoch 00072: val_acc improved from 0.43327 to 0.43438, saving model to weights-improvement-72-0.43.hdf5\n",
            "Epoch 73/80\n",
            " 4848/28709 [====>.........................] - ETA: 2:52 - loss: 1.9623 - acc: 0.4526"
          ],
          "name": "stdout"
        },
        {
          "output_type": "stream",
          "text": [
            "28704/28709 [============================>.] - ETA: 0s - loss: 2.0113 - acc: 0.4533"
          ],
          "name": "stdout"
        },
        {
          "output_type": "stream",
          "text": [
            "\b\b\b\b\b\b\b\b\b\b\b\b\b\b\b\b\b\b\b\b\b\b\b\b\b\b\b\b\b\b\b\b\b\b\b\b\b\b\b\b\b\b\b\b\b\b\b\b\b\b\b\b\b\b\b\b\b\b\b\b\b\b\b\b\b\b\b\b\b\b\b\b\b\b\b\b\b\b\b\b\b\b\b\r28709/28709 [==============================] - 217s 8ms/step - loss: 2.0112 - acc: 0.4533 - val_loss: 1.4702 - val_acc: 0.4380\n",
            "\n",
            "Epoch 00073: val_acc improved from 0.43438 to 0.43801, saving model to weights-improvement-73-0.44.hdf5\n",
            "Epoch 74/80\n",
            " 3840/28709 [===>..........................] - ETA: 3:00 - loss: 1.9259 - acc: 0.4651"
          ],
          "name": "stdout"
        },
        {
          "output_type": "stream",
          "text": [
            "28704/28709 [============================>.] - ETA: 0s - loss: 1.9796 - acc: 0.4566"
          ],
          "name": "stdout"
        },
        {
          "output_type": "stream",
          "text": [
            "28709/28709 [==============================] - 216s 8ms/step - loss: 1.9797 - acc: 0.4566 - val_loss: 1.4461 - val_acc: 0.4494\n",
            "\n",
            "Epoch 00074: val_acc improved from 0.43801 to 0.44943, saving model to weights-improvement-74-0.45.hdf5\n",
            "Epoch 75/80\n",
            " 4448/28709 [===>..........................] - ETA: 2:56 - loss: 1.9249 - acc: 0.4625"
          ],
          "name": "stdout"
        }
      ]
    },
    {
      "metadata": {
        "id": "hewLE9Pk9x7o",
        "colab_type": "code",
        "colab": {
          "autoexec": {
            "startup": false,
            "wait_interval": 0
          },
          "base_uri": "https://localhost:8080/",
          "height": 124
        },
        "outputId": "bbe8548b-0c3e-4179-aa47-d9fe9f937b54",
        "executionInfo": {
          "status": "ok",
          "timestamp": 1529460392727,
          "user_tz": -330,
          "elapsed": 2095,
          "user": {
            "displayName": "suraj bonagiri",
            "photoUrl": "//lh6.googleusercontent.com/-0F1W31o5q6E/AAAAAAAAAAI/AAAAAAAAA1c/XRzofGyVVA0/s50-c-k-no/photo.jpg",
            "userId": "117654023614571625344"
          }
        }
      },
      "cell_type": "code",
      "source": [
        "!cp *.hdf5 drive/EIP/Facial_Expression_Recognition/"
      ],
      "execution_count": 18,
      "outputs": [
        {
          "output_type": "stream",
          "text": [
            "datalab\t\t\t\t  weights-improvement-39-0.35.hdf5\r\n",
            "drive\t\t\t\t  weights-improvement-43-0.36.hdf5\r\n",
            "weights-improvement-28-0.28.hdf5  weights-improvement-44-0.37.hdf5\r\n",
            "weights-improvement-31-0.28.hdf5  weights-improvement-45-0.39.hdf5\r\n",
            "weights-improvement-34-0.31.hdf5  weights-improvement-54-0.39.hdf5\r\n",
            "weights-improvement-36-0.33.hdf5  weights-improvement-59-0.40.hdf5\r\n"
          ],
          "name": "stdout"
        }
      ]
    },
    {
      "metadata": {
        "id": "cus6cumgscSj",
        "colab_type": "code",
        "colab": {
          "autoexec": {
            "startup": false,
            "wait_interval": 0
          },
          "base_uri": "https://localhost:8080/",
          "height": 88
        },
        "outputId": "1dc35f9c-b943-463c-9071-85842a8ec4f3",
        "executionInfo": {
          "status": "ok",
          "timestamp": 1529464451714,
          "user_tz": -330,
          "elapsed": 10722,
          "user": {
            "displayName": "suraj bonagiri",
            "photoUrl": "//lh6.googleusercontent.com/-0F1W31o5q6E/AAAAAAAAAAI/AAAAAAAAA1c/XRzofGyVVA0/s50-c-k-no/photo.jpg",
            "userId": "117654023614571625344"
          }
        }
      },
      "cell_type": "code",
      "source": [
        "model.load_weights('weights-improvement-69-0.43.hdf5')\n",
        "score = model.evaluate(te_img,te_l, verbose=1)\n",
        "print('Test loss:', score[0])\n",
        "print('Test accuracy:', score[1])\n",
        "#model.save_weights(\"DNST_model.h5\")\n",
        "print(\"Saved model to disk\")"
      ],
      "execution_count": 21,
      "outputs": [
        {
          "output_type": "stream",
          "text": [
            "3589/3589 [==============================] - 10s 3ms/step\n",
            "Test loss: 1.470285322580473\n",
            "Test accuracy: 0.42630259125934866\n",
            "Saved model to disk\n"
          ],
          "name": "stdout"
        }
      ]
    }
  ]
}