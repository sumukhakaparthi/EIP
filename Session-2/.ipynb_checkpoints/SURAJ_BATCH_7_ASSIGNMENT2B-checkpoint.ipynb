{
 "cells": [
  {
   "cell_type": "code",
   "execution_count": 153,
   "metadata": {},
   "outputs": [],
   "source": [
    "import numpy as np\n",
    "\n",
    "def sig(x):\n",
    "    return 1/(1+np.exp(-x))\n",
    "\n",
    "def sig_grad(x):\n",
    "    return sig(x)*(1-sig(x))"
   ]
  },
  {
   "cell_type": "code",
   "execution_count": 162,
   "metadata": {},
   "outputs": [
    {
     "name": "stdout",
     "output_type": "stream",
     "text": [
      "[[-0.14835778 -0.41945326  0.39945626]\n",
      " [-0.75157903  0.69280764  0.15022209]\n",
      " [-0.80830258 -0.87347368 -0.36142359]\n",
      " [ 0.34586955 -0.39537925 -0.69364394]]\n",
      "[[-0.69012836  0.82563299  0.67611131]]\n",
      "[[ 0.64276997]\n",
      " [-0.78288545]\n",
      " [-0.1774661 ]]\n",
      "0.9355400136141894\n",
      "[[1]\n",
      " [1]\n",
      " [0]]\n"
     ]
    }
   ],
   "source": [
    "lr = 0.1\n",
    "\n",
    "#X\n",
    "x = [[1,0 ,1, 0],\n",
    "     [1 ,0 ,1 ,1],\n",
    "     [0, 1, 0, 1]]\n",
    "#print (x[1])\n",
    "\n",
    "#wh and bh\n",
    "w = np.random.uniform(low=-1, high=1, size=(4,3))\n",
    "print(w)\n",
    "\n",
    "b = np.random.uniform(low=-1, high=1, size=(1,3))\n",
    "print(b)\n",
    "\n",
    "w_out = np.random.uniform(low=-1, high=1, size=(3,1))\n",
    "print(w_out)\n",
    "\n",
    "b_out = np.random.uniform(low=-1, high=1)\n",
    "print(b_out)\n",
    "\n",
    "y_actual = np.array([[1],[1],[0]])\n",
    "print (y_actual)"
   ]
  },
  {
   "cell_type": "code",
   "execution_count": 163,
   "metadata": {},
   "outputs": [
    {
     "name": "stdout",
     "output_type": "stream",
     "text": [
      "[[0.16154344 0.38525693 0.67131618]\n",
      " [0.21401036 0.29678114 0.50512483]\n",
      " [0.25052057 0.75455613 0.53312378]]\n"
     ]
    }
   ],
   "source": [
    "#hidden layer input\n",
    "y=sig(np.dot(x,w)+b)\n",
    "print (y)"
   ]
  },
  {
   "cell_type": "code",
   "execution_count": 164,
   "metadata": {},
   "outputs": [
    {
     "name": "stdout",
     "output_type": "stream",
     "text": [
      "[[0.6499063 ]\n",
      " [0.67942079]\n",
      " [0.6013815 ]]\n",
      "(3, 1)\n"
     ]
    }
   ],
   "source": [
    "#output layer\n",
    "out=sig(np.dot(y,w_out)+b_out)\n",
    "print (out)\n",
    "print (out.shape)"
   ]
  },
  {
   "cell_type": "code",
   "execution_count": 165,
   "metadata": {},
   "outputs": [
    {
     "name": "stdout",
     "output_type": "stream",
     "text": [
      "[[ 0.3500937 ]\n",
      " [ 0.32057921]\n",
      " [-0.6013815 ]]\n"
     ]
    }
   ],
   "source": [
    "#error at output layer\n",
    "E = np.subtract(y_actual,out)\n",
    "print(E)"
   ]
  },
  {
   "cell_type": "code",
   "execution_count": 166,
   "metadata": {},
   "outputs": [
    {
     "name": "stdout",
     "output_type": "stream",
     "text": [
      "[[0.22535434]\n",
      " [0.22323196]\n",
      " [0.22869209]]\n"
     ]
    }
   ],
   "source": [
    "#slopes\n",
    "slope_out = sig_grad(out)\n",
    "print(slope_out)\n",
    "\n",
    "slope_hidden = sig_grad(y)"
   ]
  },
  {
   "cell_type": "code",
   "execution_count": 167,
   "metadata": {},
   "outputs": [],
   "source": [
    "#delta at output layer\n",
    "d_output = E * slope_out*lr"
   ]
  },
  {
   "cell_type": "code",
   "execution_count": 168,
   "metadata": {},
   "outputs": [],
   "source": [
    "#error at hidden layer\n",
    "Error_at_hidden_layer = np.dot(d_output, np.array(w_out).transpose())\n",
    "\n",
    "#delta at hidden layer\n",
    "d_hiddenlayer = Error_at_hidden_layer * slope_hidden"
   ]
  },
  {
   "cell_type": "code",
   "execution_count": 169,
   "metadata": {},
   "outputs": [],
   "source": [
    "#weght updates\n",
    "w_out -= np.dot(np.array(y).transpose(), d_output) * lr\n",
    "w -= np.dot(np.array(x).transpose(),d_hiddenlayer) * lr\n",
    "\n",
    "b -= np.sum(d_hiddenlayer, axis=0) * lr\n",
    "b_out -= np.sum(d_output, axis=0)*lr"
   ]
  },
  {
   "cell_type": "code",
   "execution_count": 170,
   "metadata": {},
   "outputs": [
    {
     "name": "stdout",
     "output_type": "stream",
     "text": [
      "[[-0.14859742 -0.41916741  0.3995174 ]\n",
      " [-0.75136146  0.69257341  0.15016521]\n",
      " [-0.80854222 -0.87318783 -0.36136244]\n",
      " [ 0.34597343 -0.39547645 -0.69367101]]\n",
      "[[ 0.64283391]\n",
      " [-0.78236403]\n",
      " [-0.17762401]]\n"
     ]
    }
   ],
   "source": [
    "print(w)\n",
    "print(w_out)"
   ]
  },
  {
   "cell_type": "code",
   "execution_count": null,
   "metadata": {},
   "outputs": [],
   "source": []
  },
  {
   "cell_type": "code",
   "execution_count": null,
   "metadata": {},
   "outputs": [],
   "source": []
  }
 ],
 "metadata": {
  "kernelspec": {
   "display_name": "Python 3",
   "language": "python",
   "name": "python3"
  },
  "language_info": {
   "codemirror_mode": {
    "name": "ipython",
    "version": 3
   },
   "file_extension": ".py",
   "mimetype": "text/x-python",
   "name": "python",
   "nbconvert_exporter": "python",
   "pygments_lexer": "ipython3",
   "version": "3.5.2"
  }
 },
 "nbformat": 4,
 "nbformat_minor": 2
}
